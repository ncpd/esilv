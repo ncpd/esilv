{
 "cells": [
  {
   "cell_type": "markdown",
   "metadata": {},
   "source": [
    "# 03: Feature transformation & selection"
   ]
  },
  {
   "cell_type": "markdown",
   "metadata": {},
   "source": [
    "### Import"
   ]
  },
  {
   "cell_type": "code",
   "execution_count": 1,
   "metadata": {},
   "outputs": [],
   "source": [
    "import numpy as np\n",
    "import pandas as pd\n",
    "\n",
    "from scipy import stats, optimize\n",
    "\n",
    "from sklearn import model_selection, linear_model, metrics, preprocessing, feature_selection\n",
    "\n",
    "import matplotlib\n",
    "import matplotlib.pyplot as plt\n",
    "import seaborn as sns\n",
    "\n",
    "%matplotlib inline"
   ]
  },
  {
   "cell_type": "markdown",
   "metadata": {},
   "source": [
    "### Data\n",
    "We use [a dataset](https://www.kaggle.com/c/house-prices-advanced-regression-techniques) from Kaggle.\n",
    "It contains 81 features describing sold houses. \n",
    "The features describe house locations, its physical attributes and sales information.\n",
    "See data_description.txt for more details.\n",
    "\n",
    "We want to predict the sale prices (SalePrice column) based on the remaining 80 features. (Sometimes called the 'target' variable.)"
   ]
  },
  {
   "cell_type": "code",
   "execution_count": 2,
   "metadata": {},
   "outputs": [],
   "source": [
    "df = pd.read_csv('data.csv')\n",
    "# df.info()"
   ]
  },
  {
   "cell_type": "markdown",
   "metadata": {},
   "source": [
    "Brief cleaning first."
   ]
  },
  {
   "cell_type": "code",
   "execution_count": 3,
   "metadata": {},
   "outputs": [],
   "source": [
    "# Convert all object values to categorial format\n",
    "df[df.select_dtypes(include=['object']).columns] = df.select_dtypes(include=['object']).apply(pd.Series.astype, dtype='category')\n",
    "# Fill all NaN with 0\n",
    "df.loc[:,df.select_dtypes(include=['float64']).columns] = df.loc[:,df.select_dtypes(include=['float64']).columns].fillna(0)"
   ]
  },
  {
   "cell_type": "markdown",
   "metadata": {},
   "source": [
    "We now have several categorical features with some missings."
   ]
  },
  {
   "cell_type": "code",
   "execution_count": 4,
   "metadata": {},
   "outputs": [
    {
     "data": {
      "text/plain": [
       "Index(['Alley', 'MasVnrType', 'BsmtQual', 'BsmtCond', 'BsmtExposure',\n",
       "       'BsmtFinType1', 'BsmtFinType2', 'Electrical', 'FireplaceQu',\n",
       "       'GarageType', 'GarageFinish', 'GarageQual', 'GarageCond', 'PoolQC',\n",
       "       'Fence', 'MiscFeature'],\n",
       "      dtype='object')"
      ]
     },
     "execution_count": 4,
     "metadata": {},
     "output_type": "execute_result"
    }
   ],
   "source": [
    "df.columns[df.isnull().any()]\n",
    "# df.select_dtypes(include=['category']).columns"
   ]
  },
  {
   "cell_type": "markdown",
   "metadata": {},
   "source": [
    "## Feature transformations\n",
    "\n",
    "First, we focus on transformations that can help to increase the performance of prediction models.\n",
    "\n",
    "Since we want to use the linear regression as a prediction model it is usually beneficial to convert categorical (especially nominal) variables into indicators."
   ]
  },
  {
   "cell_type": "code",
   "execution_count": 5,
   "metadata": {},
   "outputs": [
    {
     "name": "stdout",
     "output_type": "stream",
     "text": [
      "False\n"
     ]
    },
    {
     "data": {
      "text/plain": [
       "(1460, 289)"
      ]
     },
     "execution_count": 5,
     "metadata": {},
     "output_type": "execute_result"
    }
   ],
   "source": [
    "# Convert categorical variables to indicators and create new data\n",
    "df = pd.get_dummies(df)\n",
    "\n",
    "# check that there are no missings now\n",
    "print(df.isnull().any().any())\n",
    "df.shape"
   ]
  },
  {
   "cell_type": "markdown",
   "metadata": {},
   "source": [
    "Let us also convert all non-indicator values to float64 - which would be useful later."
   ]
  },
  {
   "cell_type": "code",
   "execution_count": 6,
   "metadata": {},
   "outputs": [],
   "source": [
    "df[df.select_dtypes(['float16', 'float64', 'int64']).columns] = df[df.select_dtypes(['float16', 'float64', 'int64']).columns].astype('float64')"
   ]
  },
  {
   "cell_type": "code",
   "execution_count": 7,
   "metadata": {},
   "outputs": [
    {
     "data": {
      "text/plain": [
       "uint8      252\n",
       "float64     37\n",
       "dtype: int64"
      ]
     },
     "execution_count": 7,
     "metadata": {},
     "output_type": "execute_result"
    }
   ],
   "source": [
    "df.dtypes.value_counts()"
   ]
  },
  {
   "cell_type": "markdown",
   "metadata": {},
   "source": [
    "#### Sometimes it is useful to introduce new features based on the original ones"
   ]
  },
  {
   "cell_type": "code",
   "execution_count": 8,
   "metadata": {},
   "outputs": [
    {
     "name": "stdout",
     "output_type": "stream",
     "text": [
      "Shape of the data: (1460, 319)\n"
     ]
    }
   ],
   "source": [
    "# Let us create new features as square roots of Area features - i.e. so they correspond to diameters of circles having the same area\n",
    "# We also add indicators of zero values (usually missings) there\n",
    "for column in df.filter(regex='Area|SF', axis=1).columns:  # SF - square foot which means area\n",
    "    df['Has' + column] = (df[column] > 0).replace({True: 1, False: 0}).astype('uint8')\n",
    "    df['Sqrt' + column] = np.sqrt(df[column])\n",
    "\n",
    "print('Shape of the data:', df.shape)"
   ]
  },
  {
   "cell_type": "code",
   "execution_count": 9,
   "metadata": {},
   "outputs": [
    {
     "data": {
      "text/html": [
       "<div>\n",
       "<style scoped>\n",
       "    .dataframe tbody tr th:only-of-type {\n",
       "        vertical-align: middle;\n",
       "    }\n",
       "\n",
       "    .dataframe tbody tr th {\n",
       "        vertical-align: top;\n",
       "    }\n",
       "\n",
       "    .dataframe thead th {\n",
       "        text-align: right;\n",
       "    }\n",
       "</style>\n",
       "<table border=\"1\" class=\"dataframe\">\n",
       "  <thead>\n",
       "    <tr style=\"text-align: right;\">\n",
       "      <th></th>\n",
       "      <th>LotArea</th>\n",
       "      <th>MasVnrArea</th>\n",
       "      <th>GrLivArea</th>\n",
       "      <th>GarageArea</th>\n",
       "      <th>PoolArea</th>\n",
       "      <th>HasLotArea</th>\n",
       "      <th>SqrtLotArea</th>\n",
       "      <th>HasMasVnrArea</th>\n",
       "      <th>SqrtMasVnrArea</th>\n",
       "      <th>HasGrLivArea</th>\n",
       "      <th>SqrtGrLivArea</th>\n",
       "      <th>HasGarageArea</th>\n",
       "      <th>SqrtGarageArea</th>\n",
       "      <th>HasPoolArea</th>\n",
       "      <th>SqrtPoolArea</th>\n",
       "    </tr>\n",
       "  </thead>\n",
       "  <tbody>\n",
       "    <tr>\n",
       "      <th>0</th>\n",
       "      <td>8450.0</td>\n",
       "      <td>196.0</td>\n",
       "      <td>1710.0</td>\n",
       "      <td>548.0</td>\n",
       "      <td>0.0</td>\n",
       "      <td>1</td>\n",
       "      <td>91.923882</td>\n",
       "      <td>1</td>\n",
       "      <td>14.000000</td>\n",
       "      <td>1</td>\n",
       "      <td>41.352146</td>\n",
       "      <td>1</td>\n",
       "      <td>23.409400</td>\n",
       "      <td>0</td>\n",
       "      <td>0.0</td>\n",
       "    </tr>\n",
       "    <tr>\n",
       "      <th>1</th>\n",
       "      <td>9600.0</td>\n",
       "      <td>0.0</td>\n",
       "      <td>1262.0</td>\n",
       "      <td>460.0</td>\n",
       "      <td>0.0</td>\n",
       "      <td>1</td>\n",
       "      <td>97.979590</td>\n",
       "      <td>0</td>\n",
       "      <td>0.000000</td>\n",
       "      <td>1</td>\n",
       "      <td>35.524639</td>\n",
       "      <td>1</td>\n",
       "      <td>21.447611</td>\n",
       "      <td>0</td>\n",
       "      <td>0.0</td>\n",
       "    </tr>\n",
       "    <tr>\n",
       "      <th>2</th>\n",
       "      <td>11250.0</td>\n",
       "      <td>162.0</td>\n",
       "      <td>1786.0</td>\n",
       "      <td>608.0</td>\n",
       "      <td>0.0</td>\n",
       "      <td>1</td>\n",
       "      <td>106.066017</td>\n",
       "      <td>1</td>\n",
       "      <td>12.727922</td>\n",
       "      <td>1</td>\n",
       "      <td>42.261093</td>\n",
       "      <td>1</td>\n",
       "      <td>24.657656</td>\n",
       "      <td>0</td>\n",
       "      <td>0.0</td>\n",
       "    </tr>\n",
       "    <tr>\n",
       "      <th>3</th>\n",
       "      <td>9550.0</td>\n",
       "      <td>0.0</td>\n",
       "      <td>1717.0</td>\n",
       "      <td>642.0</td>\n",
       "      <td>0.0</td>\n",
       "      <td>1</td>\n",
       "      <td>97.724101</td>\n",
       "      <td>0</td>\n",
       "      <td>0.000000</td>\n",
       "      <td>1</td>\n",
       "      <td>41.436699</td>\n",
       "      <td>1</td>\n",
       "      <td>25.337719</td>\n",
       "      <td>0</td>\n",
       "      <td>0.0</td>\n",
       "    </tr>\n",
       "    <tr>\n",
       "      <th>4</th>\n",
       "      <td>14260.0</td>\n",
       "      <td>350.0</td>\n",
       "      <td>2198.0</td>\n",
       "      <td>836.0</td>\n",
       "      <td>0.0</td>\n",
       "      <td>1</td>\n",
       "      <td>119.415242</td>\n",
       "      <td>1</td>\n",
       "      <td>18.708287</td>\n",
       "      <td>1</td>\n",
       "      <td>46.882833</td>\n",
       "      <td>1</td>\n",
       "      <td>28.913665</td>\n",
       "      <td>0</td>\n",
       "      <td>0.0</td>\n",
       "    </tr>\n",
       "  </tbody>\n",
       "</table>\n",
       "</div>"
      ],
      "text/plain": [
       "   LotArea  MasVnrArea  GrLivArea  GarageArea  PoolArea  HasLotArea  \\\n",
       "0   8450.0       196.0     1710.0       548.0       0.0           1   \n",
       "1   9600.0         0.0     1262.0       460.0       0.0           1   \n",
       "2  11250.0       162.0     1786.0       608.0       0.0           1   \n",
       "3   9550.0         0.0     1717.0       642.0       0.0           1   \n",
       "4  14260.0       350.0     2198.0       836.0       0.0           1   \n",
       "\n",
       "   SqrtLotArea  HasMasVnrArea  SqrtMasVnrArea  HasGrLivArea  SqrtGrLivArea  \\\n",
       "0    91.923882              1       14.000000             1      41.352146   \n",
       "1    97.979590              0        0.000000             1      35.524639   \n",
       "2   106.066017              1       12.727922             1      42.261093   \n",
       "3    97.724101              0        0.000000             1      41.436699   \n",
       "4   119.415242              1       18.708287             1      46.882833   \n",
       "\n",
       "   HasGarageArea  SqrtGarageArea  HasPoolArea  SqrtPoolArea  \n",
       "0              1       23.409400            0           0.0  \n",
       "1              1       21.447611            0           0.0  \n",
       "2              1       24.657656            0           0.0  \n",
       "3              1       25.337719            0           0.0  \n",
       "4              1       28.913665            0           0.0  "
      ]
     },
     "execution_count": 9,
     "metadata": {},
     "output_type": "execute_result"
    }
   ],
   "source": [
    "# See the results for Area features\n",
    "df[df.filter(regex='Area', axis=1).columns].head()"
   ]
  },
  {
   "cell_type": "code",
   "execution_count": 10,
   "metadata": {},
   "outputs": [
    {
     "data": {
      "text/plain": [
       "<matplotlib.axes._subplots.AxesSubplot at 0x7fda8f7ff400>"
      ]
     },
     "execution_count": 10,
     "metadata": {},
     "output_type": "execute_result"
    },
    {
     "data": {
      "image/png": "[encoded data removed]",
      "text/plain": [
       "<matplotlib.figure.Figure at 0x7fda8f924d68>"
      ]
     },
     "metadata": {},
     "output_type": "display_data"
    }
   ],
   "source": [
    "# Distribution visualisation\n",
    "f, axes = plt.subplots(1, 2, figsize=(15,5))\n",
    "sns.distplot(df[df.LotArea>0].LotArea, fit = stats.norm, ax=axes[0])\n",
    "sns.distplot(df[df.LotArea>0].SqrtLotArea, fit = stats.norm, ax=axes[1])"
   ]
  },
  {
   "cell_type": "markdown",
   "metadata": {},
   "source": [
    "#### Constant features removal\n",
    "They are not beneficial for the model."
   ]
  },
  {
   "cell_type": "code",
   "execution_count": 11,
   "metadata": {},
   "outputs": [
    {
     "data": {
      "text/plain": [
       "Index(['HasLotArea', 'Has1stFlrSF', 'HasGrLivArea'], dtype='object')"
      ]
     },
     "metadata": {},
     "output_type": "display_data"
    }
   ],
   "source": [
    "# Remove constant features\n",
    "display(df.columns[df.min() == df.max()])\n",
    "df = df[df.columns[df.min() != df.max()]]"
   ]
  },
  {
   "cell_type": "markdown",
   "metadata": {},
   "source": [
    "#### Split train & test (validation) data to be able to study the influence of further steps"
   ]
  },
  {
   "cell_type": "code",
   "execution_count": 12,
   "metadata": {},
   "outputs": [
    {
     "name": "stdout",
     "output_type": "stream",
     "text": [
      "Train:  1095 ; Validation:  365\n"
     ]
    }
   ],
   "source": [
    "dt, dv = model_selection.train_test_split(df, test_size=0.25, random_state=17)\n",
    "dt = dt.copy()\n",
    "dv = dv.copy()\n",
    "print('Train: ', len(dt), '; Validation: ', len(dv))"
   ]
  },
  {
   "cell_type": "markdown",
   "metadata": {},
   "source": [
    "#### Prepare models run to be able to study the influence of further steps"
   ]
  },
  {
   "cell_type": "code",
   "execution_count": 13,
   "metadata": {},
   "outputs": [],
   "source": [
    "def linreg(train, validate, plot = False, train_error = True):\n",
    "    # Data prepare\n",
    "    X = train.drop(['SalePrice'], axis = 1, errors = 'ignore')\n",
    "    y = train.SalePrice\n",
    "    Xv = validate.drop(['SalePrice'], axis = 1, errors = 'ignore')\n",
    "    yv = validate.SalePrice\n",
    "    \n",
    "    # Linear Regression train\n",
    "    clf = linear_model.LinearRegression()\n",
    "    clf.fit(X, y) \n",
    "    \n",
    "    # Print RMSE\n",
    "    print('Linear regression root mean squared validation error:', \n",
    "          np.sqrt(metrics.mean_squared_error(clf.predict(Xv),yv)))\n",
    "    if train_error:\n",
    "        print('Linear regression root mean squared train error:', \n",
    "              np.sqrt(metrics.mean_squared_error(clf.predict(X), y)))\n",
    "    \n",
    "    # Joint Plot\n",
    "    if plot:\n",
    "        sns.jointplot(yv, clf.predict(Xv))\n",
    "\n",
    "def ridgereg(train, validate, plot = False, train_error = True):\n",
    "    # Prepare functions to automatic alpha determination using cross validation\n",
    "    def scorer(Y, yp):\n",
    "        return np.sqrt(metrics.mean_squared_error(Y, yp))\n",
    "    def ridgemodel(alpha):\n",
    "        clf = linear_model.Ridge(alpha=alpha)\n",
    "        return np.mean(model_selection.cross_val_score(clf, X, y, cv=5, scoring=metrics.make_scorer(scorer)))\n",
    "\n",
    "    # Data prepare\n",
    "    X = train.drop(['SalePrice'], axis = 1, errors = 'ignore')\n",
    "    y = train.SalePrice\n",
    "    Xv = validate.drop(['SalePrice'], axis = 1, errors = 'ignore')\n",
    "    yv = validate.SalePrice\n",
    "    \n",
    "    # Find Ridge alpha automatically\n",
    "    opt_alpha = optimize.minimize_scalar(ridgemodel, options = {'maxiter': 30}, method = 'bounded', bounds=(0.1, 400))\n",
    "    print(opt_alpha)\n",
    "    \n",
    "    # Ridge regression model\n",
    "    clf = linear_model.Ridge(alpha=opt_alpha.x)\n",
    "    clf.fit(X, y) \n",
    "    \n",
    "    # Print RMSE\n",
    "    print('Ridge regression root mean squared validation error:', \n",
    "          np.sqrt(metrics.mean_squared_error(clf.predict(Xv), yv)))\n",
    "    if train_error:\n",
    "        print('Ridge regression root mean squared train error:', \n",
    "              np.sqrt(metrics.mean_squared_error(clf.predict(X), y)))\n",
    "    # Joint Plot\n",
    "    if plot:\n",
    "        sns.jointplot(yv, clf.predict(Xv))"
   ]
  },
  {
   "cell_type": "code",
   "execution_count": 14,
   "metadata": {},
   "outputs": [
    {
     "name": "stdout",
     "output_type": "stream",
     "text": [
      "Linear regression root mean squared validation error: 27634.955128143993\n",
      "Linear regression root mean squared train error: 18135.137093271787\n",
      "----\n",
      "     fun: 32826.428808510966\n",
      " message: 'Solution found.'\n",
      "    nfev: 19\n",
      "  status: 0\n",
      " success: True\n",
      "       x: 9.889283217437532\n",
      "Ridge regression root mean squared validation error: 26872.40243260932\n",
      "Ridge regression root mean squared train error: 23450.024168180673\n"
     ]
    }
   ],
   "source": [
    "# Run both models\n",
    "linreg(dt, dv)\n",
    "print(\"----\")\n",
    "ridgereg(dt, dv)"
   ]
  },
  {
   "cell_type": "markdown",
   "metadata": {},
   "source": [
    "We can see that without any special transformations and feature selection ridge regression is better than pure linear regression.\n",
    "\n",
    "**Let us play further with features**"
   ]
  },
  {
   "cell_type": "code",
   "execution_count": 15,
   "metadata": {},
   "outputs": [],
   "source": [
    "# TASK 1 - try some transformations (any of your choice) to improve the performance (measured by linreg and ridgereg)\n",
    "dt1 = dt.copy()\n",
    "dv1 = dv.copy()\n",
    "\n",
    "# Your code here (use dt1 and dv1)\n",
    "\n"
   ]
  },
  {
   "cell_type": "markdown",
   "metadata": {},
   "source": [
    "## Features normalization\n",
    "Rescale features in a way that thay will be more comparable.\n",
    "\n",
    "We will focus on:\n",
    "* **Standardization** - result has a sample mean 0 and sample variance 1,\n",
    "* **Min-max normalization** - the resulting range is [0,1]."
   ]
  },
  {
   "cell_type": "code",
   "execution_count": 16,
   "metadata": {},
   "outputs": [
    {
     "name": "stdout",
     "output_type": "stream",
     "text": [
      "Columns to be standardized:  ['Id', 'MSSubClass', 'LotFrontage', 'LotArea', 'OverallQual', 'OverallCond', 'YearBuilt', 'YearRemodAdd', 'MasVnrArea', 'BsmtFinSF1', 'BsmtFinSF2', 'BsmtUnfSF', 'TotalBsmtSF', '1stFlrSF', '2ndFlrSF', 'LowQualFinSF', 'GrLivArea', 'BsmtFullBath', 'BsmtHalfBath', 'FullBath', 'HalfBath', 'BedroomAbvGr', 'KitchenAbvGr', 'TotRmsAbvGrd', 'Fireplaces', 'GarageYrBlt', 'GarageCars', 'GarageArea', 'WoodDeckSF', 'OpenPorchSF', 'EnclosedPorch', '3SsnPorch', 'ScreenPorch', 'PoolArea', 'MoSold', 'YrSold', 'SqrtLotArea', 'SqrtMasVnrArea', 'SqrtBsmtFinSF1', 'SqrtBsmtFinSF2', 'SqrtBsmtUnfSF', 'SqrtTotalBsmtSF', 'Sqrt1stFlrSF', 'Sqrt2ndFlrSF', 'SqrtLowQualFinSF', 'SqrtGrLivArea', 'SqrtGarageArea', 'SqrtWoodDeckSF', 'SqrtOpenPorchSF', 'SqrtPoolArea']\n"
     ]
    }
   ],
   "source": [
    "# Standardization\n",
    "standard_scaler = preprocessing.StandardScaler()\n",
    "# Min-max normalization\n",
    "minmax_scaler = preprocessing.MinMaxScaler()\n",
    "\n",
    "# we rescale only numeric values - not indicators\n",
    "columns = dt.select_dtypes(include=['float64']).columns \n",
    "columns = columns.drop('SalePrice', errors = 'ignore')\n",
    "print('Columns to be standardized: ', list(columns))\n",
    "\n",
    "# Prepare values for the transformation\n",
    "standard_scaler.fit(dt[columns])\n",
    "minmax_scaler.fit(dt[columns])\n",
    "\n",
    "# Transform of both train and validation\n",
    "# Standardization\n",
    "dt_s = dt.copy()\n",
    "dv_s = dv.copy()\n",
    "dt_s[columns] = standard_scaler.transform(dt[columns])\n",
    "dv_s[columns] = standard_scaler.transform(dv[columns])\n",
    "# MinMax\n",
    "dt_m = dt.copy()\n",
    "dv_m = dv.copy()\n",
    "dt_m[columns] = minmax_scaler.transform(dt[columns])\n",
    "dv_m[columns] = minmax_scaler.transform(dv[columns])"
   ]
  },
  {
   "cell_type": "code",
   "execution_count": 17,
   "metadata": {},
   "outputs": [
    {
     "data": {
      "text/plain": [
       "<matplotlib.axes._subplots.AxesSubplot at 0x7fda8f569550>"
      ]
     },
     "execution_count": 17,
     "metadata": {},
     "output_type": "execute_result"
    },
    {
     "data": {
      "image/png": "[encoded data removed]",
      "text/plain": [
       "<matplotlib.figure.Figure at 0x7fda8f57e978>"
      ]
     },
     "metadata": {},
     "output_type": "display_data"
    }
   ],
   "source": [
    "# Distribution of one concrete feature (an ordinal one)\n",
    "f, axes = plt.subplots(1, 3, figsize=(15,5))\n",
    "sns.distplot(dt.OverallQual, kde = False, ax = axes[0])\n",
    "sns.distplot(dt_s.OverallQual, kde = False, ax = axes[1])\n",
    "sns.distplot(dt_m.OverallQual, kde = False, ax = axes[2])"
   ]
  },
  {
   "cell_type": "code",
   "execution_count": 18,
   "metadata": {},
   "outputs": [
    {
     "name": "stdout",
     "output_type": "stream",
     "text": [
      "Standardized data\n",
      "Linear regression root mean squared validation error: 25394463738293.95\n",
      "Linear regression root mean squared train error: 18135.37955258212\n",
      "----\n",
      "     fun: 32360.573513997795\n",
      " message: 'Solution found.'\n",
      "    nfev: 17\n",
      "  status: 0\n",
      " success: True\n",
      "       x: 19.136510343480452\n",
      "Ridge regression root mean squared validation error: 26608.23551055032\n",
      "Ridge regression root mean squared train error: 25017.909971051868\n",
      "\n",
      "======================\n",
      "MinMax normalized data\n",
      "Linear regression root mean squared validation error: 2162575433206772.5\n",
      "Linear regression root mean squared train error: 19474.878038551058\n",
      "----\n",
      "     fun: 32076.566274175846\n",
      " message: 'Solution found.'\n",
      "    nfev: 19\n",
      "  status: 0\n",
      " success: True\n",
      "       x: 7.9452857741274\n",
      "Ridge regression root mean squared validation error: 27198.333636735762\n",
      "Ridge regression root mean squared train error: 25481.120083705053\n"
     ]
    }
   ],
   "source": [
    "# Run both models\n",
    "print('Standardized data')\n",
    "linreg(dt_s, dv_s)\n",
    "print(\"----\")\n",
    "ridgereg(dt_s, dv_s)\n",
    "\n",
    "print('\\n======================\\nMinMax normalized data')\n",
    "linreg(dt_m, dv_m)\n",
    "print(\"----\")\n",
    "ridgereg(dt_m, dv_m)"
   ]
  },
  {
   "cell_type": "markdown",
   "metadata": {},
   "source": [
    "Standardization was beneficial for Ridge regression but completely destroyed the results for linear regression."
   ]
  },
  {
   "cell_type": "markdown",
   "metadata": {},
   "source": [
    "## Feature selection\n",
    "Feature selection can help to decrease the complexity of the model which:\n",
    "* prevents overfitting\n",
    "* helps to speedup training"
   ]
  },
  {
   "cell_type": "markdown",
   "metadata": {},
   "source": [
    "### Find irelevant features - filter methods\n",
    "First focus on the so called **filter methods** where we assess individual features, independently of other features, according to some quality measure (e.g. the variance, the correlation with the target variable,...). Filter methods are supposed to suppress the least interesting variables.\n",
    "\n",
    "Some features are irrelevant just because of our **domain knowledge**."
   ]
  },
  {
   "cell_type": "code",
   "execution_count": 19,
   "metadata": {},
   "outputs": [],
   "source": [
    "# Drop Id - we will store all features to drop in the columns_to_remove list\n",
    "columns_to_remove = ['Id']"
   ]
  },
  {
   "cell_type": "markdown",
   "metadata": {},
   "source": [
    "#### Variance approach\n",
    "Others can be detected as a variables with very **low variance**. It means that they are almost constant. \n",
    "\n",
    "Be careful, this is strongly influenced by previous transformations!\n",
    "\n",
    "E.g. when standardization was applied - all variables have variance 1."
   ]
  },
  {
   "cell_type": "code",
   "execution_count": 20,
   "metadata": {},
   "outputs": [
    {
     "name": "stdout",
     "output_type": "stream",
     "text": [
      "Id                      1.000914\n",
      "HouseStyle_2.5Unf       0.009954\n",
      "MasVnrType_BrkCmn       0.009954\n",
      "SaleCondition_Alloca    0.009954\n",
      "Functional_Mod          0.009057\n",
      "dtype: float64\n",
      "RoofMatl_Metal      0.000000\n",
      "Utilities_NoSeWa    0.000000\n",
      "Condition2_RRNn     0.000000\n",
      "Utilities_AllPub    0.000000\n",
      "Condition2_RRAn     0.000913\n",
      "dtype: float64\n",
      "91\n"
     ]
    }
   ],
   "source": [
    "# Find features with low variance - we assume that they cannot help to infer the observable\n",
    "# this makes sense especially for indicators\n",
    "columns_to_remove = list(set(list(dt_s.columns[dt_s.var() < 0.01]) + columns_to_remove)) # note that after the standardization all non-indicator variables have variance 1\n",
    "# note that for an indicator with true prob p is the var given by p*(1-p) - for p = 0.01 we have 0.0099\n",
    "\n",
    "# top largest < 0.01\n",
    "print(dt_s[columns_to_remove].var().nlargest(5))\n",
    "# # top smallest\n",
    "print(dt_s[columns_to_remove].var().nsmallest(5))\n",
    "# # number of small ones\n",
    "print(len(columns_to_remove))"
   ]
  },
  {
   "cell_type": "markdown",
   "metadata": {},
   "source": [
    "A more sophisticated approach is to study the relation of a feature to the target variable.\n",
    "\n",
    "#### Correlation approach\n",
    "\n",
    "Analysis of the correlation with the target variable. Note that Linear scaling of features doesn't influence the result."
   ]
  },
  {
   "cell_type": "code",
   "execution_count": 21,
   "metadata": {},
   "outputs": [],
   "source": [
    "# Correlation matrix Pearson & Spearman\n",
    "corrP = dt.drop(columns_to_remove, axis = 1, errors = 'ignore').corr(method='pearson')\n",
    "corrS = dt.drop(columns_to_remove, axis = 1, errors = 'ignore').corr(method='spearman')"
   ]
  },
  {
   "cell_type": "code",
   "execution_count": 22,
   "metadata": {},
   "outputs": [
    {
     "data": {
      "text/plain": [
       "SalePrice        1.000000\n",
       "OverallQual      0.791963\n",
       "SqrtGrLivArea    0.707052\n",
       "GrLivArea        0.703866\n",
       "GarageCars       0.645009\n",
       "GarageArea       0.622276\n",
       "Sqrt1stFlrSF     0.615341\n",
       "1stFlrSF         0.615080\n",
       "TotalBsmtSF      0.614957\n",
       "ExterQual_TA    -0.574401\n",
       "Name: SalePrice, dtype: float64"
      ]
     },
     "metadata": {},
     "output_type": "display_data"
    },
    {
     "data": {
      "text/plain": [
       "SalePrice         1.000000\n",
       "OverallQual       0.810410\n",
       "GrLivArea         0.735184\n",
       "SqrtGrLivArea     0.735184\n",
       "GarageCars        0.694128\n",
       "GarageArea        0.648908\n",
       "SqrtGarageArea    0.648908\n",
       "YearBuilt         0.644751\n",
       "FullBath          0.642719\n",
       "GarageYrBlt       0.632785\n",
       "Name: SalePrice, dtype: float64"
      ]
     },
     "metadata": {},
     "output_type": "display_data"
    }
   ],
   "source": [
    "# Pearson top 10 with target\n",
    "corrP_cols = corrP.SalePrice.abs().nlargest(10).index\n",
    "display(corrP.SalePrice.loc[corrP_cols])\n",
    "# Spearman top 10 with target\n",
    "corrS_cols = corrS.SalePrice.abs().nlargest(10).index\n",
    "display(corrS.SalePrice.loc[corrS_cols])"
   ]
  },
  {
   "cell_type": "code",
   "execution_count": 23,
   "metadata": {},
   "outputs": [
    {
     "data": {
      "text/plain": [
       "<matplotlib.axes._subplots.AxesSubplot at 0x7fda8d162f28>"
      ]
     },
     "execution_count": 23,
     "metadata": {},
     "output_type": "execute_result"
    },
    {
     "data": {
      "image/png": "[encoded data removed]",
      "text/plain": [
       "<matplotlib.figure.Figure at 0x7fda8d2915c0>"
      ]
     },
     "metadata": {},
     "output_type": "display_data"
    }
   ],
   "source": [
    "# Plot those correlations\n",
    "fig, axs = plt.subplots(ncols=2, figsize=(15,7))\n",
    "sns.heatmap(corrP.abs().loc[corrP_cols,corrP_cols],ax=axs[0], cbar=False, annot=True, square=True, fmt='.2f', annot_kws={'size': 10}, yticklabels=corrP_cols.values, xticklabels=corrP_cols.values)\n",
    "sns.heatmap(corrS.abs().loc[corrS_cols,corrS_cols],ax=axs[1], cbar=False, annot=True, square=True, fmt='.2f', annot_kws={'size': 10}, yticklabels=corrS_cols.values, xticklabels=corrS_cols.values)"
   ]
  },
  {
   "cell_type": "code",
   "execution_count": 24,
   "metadata": {},
   "outputs": [
    {
     "data": {
      "text/plain": [
       "<matplotlib.axes._subplots.AxesSubplot at 0x7fda8d1edb38>"
      ]
     },
     "execution_count": 24,
     "metadata": {},
     "output_type": "execute_result"
    },
    {
     "data": {
      "image/png": "[encoded data removed]",
      "text/plain": [
       "<matplotlib.figure.Figure at 0x7fda8f911b38>"
      ]
     },
     "metadata": {},
     "output_type": "display_data"
    }
   ],
   "source": [
    "# OverallQual is an ordinal categorical variable stored in numbers\n",
    "sns.boxplot(x='OverallQual', y='SalePrice', data=dt)"
   ]
  },
  {
   "cell_type": "markdown",
   "metadata": {},
   "source": [
    "This can be used to remove features that are almost not correlated with the target variable. \n",
    "\n",
    "It makes sense for linear regression.\n",
    "\n",
    "For non-linear models one has to be more careful since the correlation measures only the **linear** relation. They might be full functionally dependent (but not linearly) and have correlation 0."
   ]
  },
  {
   "cell_type": "code",
   "execution_count": 25,
   "metadata": {},
   "outputs": [
    {
     "name": "stdout",
     "output_type": "stream",
     "text": [
      "['BsmtFinSF2', 'BsmtHalfBath', 'Condition1_RRAn', 'Fence_GdPrv']\n"
     ]
    }
   ],
   "source": [
    "# One can remove those with correlation smaller than some treshold.\n",
    "additional_columns = list(corrP.SalePrice[corrP.SalePrice.abs() < 0.001].index)\n",
    "print(additional_columns)\n",
    "# extend columns_to_remove\n",
    "columns_to_remove = list(set(columns_to_remove + additional_columns))"
   ]
  },
  {
   "cell_type": "code",
   "execution_count": 26,
   "metadata": {},
   "outputs": [
    {
     "name": "stdout",
     "output_type": "stream",
     "text": [
      "5 largest P-values:\n"
     ]
    },
    {
     "data": {
      "text/plain": [
       "LandContour_Lvl         0.925093\n",
       "LotConfig_FR2           0.819261\n",
       "BldgType_TwnhsE         0.762734\n",
       "Neighborhood_SawyerW    0.736229\n",
       "Heating_GasW            0.659390\n",
       "dtype: float64"
      ]
     },
     "metadata": {},
     "output_type": "display_data"
    },
    {
     "name": "stdout",
     "output_type": "stream",
     "text": [
      "5 smallest (absolute value) correlations:\n"
     ]
    },
    {
     "data": {
      "text/plain": [
       "LandContour_Lvl         0.002845\n",
       "LotConfig_FR2           0.006913\n",
       "BldgType_TwnhsE         0.009133\n",
       "Neighborhood_SawyerW    0.010191\n",
       "Heating_GasW            0.013334\n",
       "Name: SalePrice, dtype: float64"
      ]
     },
     "metadata": {},
     "output_type": "display_data"
    }
   ],
   "source": [
    "# Alternatively, if we don't want to set a treshold in correlation values (we don't know what value to choose)\n",
    "# we can do the analogous selection based on p-values of statistical test about the zero correlation\n",
    "\n",
    "# prepare data\n",
    "X = dt.drop(columns_to_remove, axis = 1, errors = 'ignore').drop(['SalePrice'], axis = 1, errors = 'ignore')\n",
    "y = dt.SalePrice\n",
    "\n",
    "# calculate F values for correlation coefficient (calculated from rho using an increasing function)\n",
    "# calculate p-values of the correspondong F-test (inversely proportional to rho)\n",
    "Fscores, pvals = feature_selection.f_regression(X,y)\n",
    "pvals_result = pd.Series(pvals, index = X.columns)\n",
    "print(\"5 largest P-values:\")\n",
    "display(pvals_result.nlargest(5))\n",
    "print(\"5 smallest (absolute value) correlations:\")\n",
    "display(corrP.SalePrice.drop(columns_to_remove, errors = 'ignore').abs().nsmallest(5))"
   ]
  },
  {
   "cell_type": "code",
   "execution_count": 27,
   "metadata": {},
   "outputs": [
    {
     "name": "stdout",
     "output_type": "stream",
     "text": [
      "['LandContour_Lvl', 'LotConfig_FR2']\n"
     ]
    }
   ],
   "source": [
    "# One can remove those with p-value smaller than some treshold.\n",
    "additional_columns = list(pvals_result[pvals_result > 0.8].index)\n",
    "print(additional_columns)\n",
    "# extend columns_to_remove\n",
    "columns_to_remove = list(set(columns_to_remove + additional_columns))"
   ]
  },
  {
   "cell_type": "markdown",
   "metadata": {},
   "source": [
    "#### T-test approach for indicator variables\n",
    "For indicator variables we can measure if the value of the indicator influences the value of the target variable. If not, then it is probably not a relevant feature (especially for linear regression).\n",
    "\n",
    "We shall use the t-test to check whether the value of a selected indicator influence on the mean of the target variable."
   ]
  },
  {
   "cell_type": "code",
   "execution_count": 28,
   "metadata": {},
   "outputs": [
    {
     "data": {
      "text/plain": [
       "LotConfig_Corner        0.880203\n",
       "BldgType_TwnhsE         0.853574\n",
       "Heating_GasW            0.447864\n",
       "Neighborhood_SawyerW    0.439773\n",
       "Exterior2nd_BrkFace     0.435870\n",
       "dtype: float64"
      ]
     },
     "metadata": {},
     "output_type": "display_data"
    },
    {
     "data": {
      "text/plain": [
       "KitchenQual_TA      8.315298e-95\n",
       "ExterQual_TA        5.601284e-93\n",
       "BsmtQual_TA         4.684438e-82\n",
       "Foundation_PConc    2.762385e-79\n",
       "dtype: float64"
      ]
     },
     "metadata": {},
     "output_type": "display_data"
    }
   ],
   "source": [
    "# Perform t-test with indicator variables - calculate p-values\n",
    "ttest_pvals = df\\\n",
    "    .drop(columns_to_remove, axis = 1, errors = 'ignore')\\\n",
    "    .select_dtypes(include = ['uint8']).columns\\\n",
    "    .to_series()\\\n",
    "    .apply(lambda x: stats.ttest_ind(df.SalePrice[df[x] == 0], df.SalePrice[df[x] == 1], equal_var = False).pvalue)\n",
    "\n",
    "# show largest and smallest p-values\n",
    "display(ttest_pvals.nlargest(5))\n",
    "display(ttest_pvals.nsmallest(4))"
   ]
  },
  {
   "cell_type": "markdown",
   "metadata": {},
   "source": [
    "What does this mean?"
   ]
  },
  {
   "cell_type": "code",
   "execution_count": 29,
   "metadata": {},
   "outputs": [
    {
     "data": {
      "text/plain": [
       "<matplotlib.axes._subplots.AxesSubplot at 0x7fda8810a7b8>"
      ]
     },
     "execution_count": 29,
     "metadata": {},
     "output_type": "execute_result"
    },
    {
     "data": {
      "image/png": "[encoded data removed]",
      "text/plain": [
       "<matplotlib.figure.Figure at 0x7fda88167438>"
      ]
     },
     "metadata": {},
     "output_type": "display_data"
    }
   ],
   "source": [
    "fig, axs = plt.subplots(ncols=2, figsize=(15,7))\n",
    "sns.boxplot(x='KitchenQual_TA', y='SalePrice', data=dt,ax=axs[0])\n",
    "sns.boxplot(x='LotConfig_Corner', y='SalePrice', data=dt,ax=axs[1])"
   ]
  },
  {
   "cell_type": "markdown",
   "metadata": {},
   "source": [
    "We can see that small $p$-values corresponds to high differentiation in a target variable."
   ]
  },
  {
   "cell_type": "code",
   "execution_count": 30,
   "metadata": {},
   "outputs": [
    {
     "name": "stdout",
     "output_type": "stream",
     "text": [
      "99\n"
     ]
    }
   ],
   "source": [
    "# Remove all larger than 50%\n",
    "columns_to_remove = list(set(columns_to_remove + list(ttest_pvals[ttest_pvals > 0.6].index)))\n",
    "print(len(columns_to_remove))"
   ]
  },
  {
   "cell_type": "code",
   "execution_count": 31,
   "metadata": {},
   "outputs": [
    {
     "data": {
      "text/plain": [
       "(1095, 217)"
      ]
     },
     "execution_count": 31,
     "metadata": {},
     "output_type": "execute_result"
    }
   ],
   "source": [
    "# Final removal from all datasets\n",
    "dt.drop(columns_to_remove, axis = 1, errors = 'ignore', inplace=True)\n",
    "dv.drop(columns_to_remove, axis = 1, errors = 'ignore', inplace=True)\n",
    "dt_s.drop(columns_to_remove, axis = 1, errors = 'ignore', inplace=True)\n",
    "dv_s.drop(columns_to_remove, axis = 1, errors = 'ignore', inplace=True)\n",
    "dt_m.drop(columns_to_remove, axis = 1, errors = 'ignore', inplace=True)\n",
    "dv_m.drop(columns_to_remove, axis = 1, errors = 'ignore', inplace=True)\n",
    "dt.shape"
   ]
  },
  {
   "cell_type": "code",
   "execution_count": 32,
   "metadata": {},
   "outputs": [
    {
     "name": "stdout",
     "output_type": "stream",
     "text": [
      "Linear regression root mean squared validation error: 29029.301244367824\n",
      "Linear regression root mean squared train error: 23339.36688935934\n",
      "----\n",
      "     fun: 32862.532534406586\n",
      " message: 'Solution found.'\n",
      "    nfev: 16\n",
      "  status: 0\n",
      " success: True\n",
      "       x: 10.401458267629199\n",
      "Ridge regression root mean squared validation error: 27403.36873502364\n",
      "Ridge regression root mean squared train error: 24589.86913121039\n"
     ]
    }
   ],
   "source": [
    "# Run both models\n",
    "linreg(dt, dv)\n",
    "print(\"----\")\n",
    "ridgereg(dt, dv)"
   ]
  },
  {
   "cell_type": "markdown",
   "metadata": {},
   "source": [
    "### Subset selection based on models - wrapper methods\n",
    "Wrapper methods evaluate subsets of variables. Hence they can properly work with possible interactions between variables.\n",
    "Moreover they are usually linked to the underlying learning algorithm.\n",
    "\n",
    "The two main disadvantages of these methods are:\n",
    "* The increasing overfitting risk when the number of observations is insufficient.\n",
    "* The significant computation time when the number of variables is large.\n",
    "\n",
    "Beacouse of the computional complexity usual aproaches are greedy ones.\n",
    "\n",
    "A simple approach is a backward Recursive Feature Elimination (http://scikit-learn.org/stable/modules/generated/sklearn.feature_selection.RFE.html#sklearn.feature_selection.RFE )."
   ]
  },
  {
   "cell_type": "code",
   "execution_count": 33,
   "metadata": {},
   "outputs": [
    {
     "data": {
      "text/html": [
       "<div>\n",
       "<style scoped>\n",
       "    .dataframe tbody tr th:only-of-type {\n",
       "        vertical-align: middle;\n",
       "    }\n",
       "\n",
       "    .dataframe tbody tr th {\n",
       "        vertical-align: top;\n",
       "    }\n",
       "\n",
       "    .dataframe thead th {\n",
       "        text-align: right;\n",
       "    }\n",
       "</style>\n",
       "<table border=\"1\" class=\"dataframe\">\n",
       "  <thead>\n",
       "    <tr style=\"text-align: right;\">\n",
       "      <th></th>\n",
       "      <th>Chosen</th>\n",
       "      <th>Ranking</th>\n",
       "    </tr>\n",
       "  </thead>\n",
       "  <tbody>\n",
       "    <tr>\n",
       "      <th>MSSubClass</th>\n",
       "      <td>False</td>\n",
       "      <td>2</td>\n",
       "    </tr>\n",
       "    <tr>\n",
       "      <th>LotArea</th>\n",
       "      <td>False</td>\n",
       "      <td>3</td>\n",
       "    </tr>\n",
       "  </tbody>\n",
       "</table>\n",
       "</div>"
      ],
      "text/plain": [
       "            Chosen  Ranking\n",
       "MSSubClass   False        2\n",
       "LotArea      False        3"
      ]
     },
     "metadata": {},
     "output_type": "display_data"
    },
    {
     "name": "stdout",
     "output_type": "stream",
     "text": [
      "Chosen 214 from  216 features.\n"
     ]
    }
   ],
   "source": [
    "# Prepare the data\n",
    "X = dt.drop(['SalePrice'], axis = 1, errors = 'ignore')\n",
    "y = dt.SalePrice\n",
    "\n",
    "used_columns = X.columns\n",
    "\n",
    "# define the scorer which will be the RMSE\n",
    "def scorer(Y, yp):\n",
    "    return np.sqrt(metrics.mean_squared_error(Y, yp))\n",
    "\n",
    "# prepare the model\n",
    "clfM = linear_model.LinearRegression()\n",
    "\n",
    "# prepare the backward selection algorithm (recursive feature elimination with cross validation)\n",
    "selector = feature_selection.RFECV(clfM, step=1, cv=5, scoring=metrics.make_scorer(scorer))\n",
    "# run it\n",
    "selector = selector.fit(X, y)\n",
    "\n",
    "# transform result to dataframe\n",
    "result = pd.DataFrame({'Chosen': selector.support_, 'Ranking': selector.ranking_}, index=list(used_columns))\n",
    "# columns to leave\n",
    "columns_to_leave = result[result.Chosen == True].index\n",
    "# show results\n",
    "display(result[result.Chosen == False].head(5))\n",
    "print('Chosen', len(columns_to_leave),'from ', result.Chosen.shape[0], 'features.')"
   ]
  },
  {
   "cell_type": "code",
   "execution_count": 34,
   "metadata": {},
   "outputs": [
    {
     "name": "stdout",
     "output_type": "stream",
     "text": [
      "Linear regression root mean squared validation error: 29034.53089032048\n",
      "Linear regression root mean squared train error: 23340.25155588423\n",
      "----\n",
      "     fun: 32845.06168400443\n",
      " message: 'Solution found.'\n",
      "    nfev: 16\n",
      "  status: 0\n",
      " success: True\n",
      "       x: 10.195994339761139\n",
      "Ridge regression root mean squared validation error: 27465.281578874314\n",
      "Ridge regression root mean squared train error: 24575.25818433321\n"
     ]
    }
   ],
   "source": [
    "# Run both models\n",
    "linreg(dt[list(columns_to_leave) + ['SalePrice']], dv[list(columns_to_leave) + ['SalePrice']])\n",
    "print(\"----\")\n",
    "ridgereg(dt[list(columns_to_leave) + ['SalePrice']], dv[list(columns_to_leave) + ['SalePrice']])"
   ]
  },
  {
   "cell_type": "markdown",
   "metadata": {},
   "source": [
    "Other possibility is to use the L^1 regularization (Lasso) which produces sparse weights in the linear model.\n",
    "Then we can select all features with non-zero coefficients."
   ]
  },
  {
   "cell_type": "code",
   "execution_count": 35,
   "metadata": {},
   "outputs": [
    {
     "name": "stderr",
     "output_type": "stream",
     "text": [
      "/home/users/p/picarnic/.local/lib/python3.6/site-packages/sklearn/linear_model/coordinate_descent.py:491: ConvergenceWarning: Objective did not converge. You might want to increase the number of iterations. Fitting data with very small alpha may cause precision problems.\n",
      "  ConvergenceWarning)\n"
     ]
    },
    {
     "data": {
      "text/html": [
       "<div>\n",
       "<style scoped>\n",
       "    .dataframe tbody tr th:only-of-type {\n",
       "        vertical-align: middle;\n",
       "    }\n",
       "\n",
       "    .dataframe tbody tr th {\n",
       "        vertical-align: top;\n",
       "    }\n",
       "\n",
       "    .dataframe thead th {\n",
       "        text-align: right;\n",
       "    }\n",
       "</style>\n",
       "<table border=\"1\" class=\"dataframe\">\n",
       "  <thead>\n",
       "    <tr style=\"text-align: right;\">\n",
       "      <th></th>\n",
       "      <th>Chosen</th>\n",
       "    </tr>\n",
       "  </thead>\n",
       "  <tbody>\n",
       "    <tr>\n",
       "      <th>LotShape_Reg</th>\n",
       "      <td>False</td>\n",
       "    </tr>\n",
       "    <tr>\n",
       "      <th>LandSlope_Gtl</th>\n",
       "      <td>False</td>\n",
       "    </tr>\n",
       "    <tr>\n",
       "      <th>Neighborhood_BrkSide</th>\n",
       "      <td>False</td>\n",
       "    </tr>\n",
       "    <tr>\n",
       "      <th>Neighborhood_SawyerW</th>\n",
       "      <td>False</td>\n",
       "    </tr>\n",
       "    <tr>\n",
       "      <th>Condition1_Artery</th>\n",
       "      <td>False</td>\n",
       "    </tr>\n",
       "  </tbody>\n",
       "</table>\n",
       "</div>"
      ],
      "text/plain": [
       "                      Chosen\n",
       "LotShape_Reg           False\n",
       "LandSlope_Gtl          False\n",
       "Neighborhood_BrkSide   False\n",
       "Neighborhood_SawyerW   False\n",
       "Condition1_Artery      False"
      ]
     },
     "metadata": {},
     "output_type": "display_data"
    },
    {
     "name": "stdout",
     "output_type": "stream",
     "text": [
      "Chosen 187 from  216 features.\n"
     ]
    }
   ],
   "source": [
    "# The Lasso - L^1 regularized regression to obtain a sparse solution\n",
    "# Then the non-zero features may be extracted from the result.\n",
    "\n",
    "# Prepare the data\n",
    "X = dt.drop(['SalePrice'], axis = 1, errors = 'ignore')\n",
    "y = dt.SalePrice\n",
    "\n",
    "used_columns = X.columns\n",
    "\n",
    "# We use the base estimator Lasso since the L1 norm promotes sparsity of features.\n",
    "clf = linear_model.Lasso(alpha = 10, max_iter = 10000)\n",
    "\n",
    "sfm = feature_selection.SelectFromModel(clf)\n",
    "sfm.fit(X, y)\n",
    "\n",
    "# transform result to dataframe\n",
    "result = pd.DataFrame({'Chosen': sfm.get_support()}, index=list(used_columns))\n",
    "# columns to leave\n",
    "columns_to_leave = result[result.Chosen == True].index\n",
    "# show results\n",
    "display(result[result.Chosen == False].head(5))\n",
    "print('Chosen', result.Chosen.sum(),'from ', result.Chosen.shape[0], 'features.')"
   ]
  },
  {
   "cell_type": "code",
   "execution_count": 36,
   "metadata": {},
   "outputs": [
    {
     "name": "stdout",
     "output_type": "stream",
     "text": [
      "Linear regression root mean squared validation error: 28775.623089689576\n",
      "Linear regression root mean squared train error: 23400.299413455363\n",
      "----\n",
      "     fun: 32531.9694933309\n",
      " message: 'Solution found.'\n",
      "    nfev: 21\n",
      "  status: 0\n",
      " success: True\n",
      "       x: 7.867208385456529\n",
      "Ridge regression root mean squared validation error: 27475.569176730674\n",
      "Ridge regression root mean squared train error: 24429.14386540804\n"
     ]
    }
   ],
   "source": [
    "# Run both models\n",
    "linreg(dt[list(columns_to_leave) + ['SalePrice']], dv[list(columns_to_leave) + ['SalePrice']])\n",
    "print(\"----\")\n",
    "ridgereg(dt[list(columns_to_leave) + ['SalePrice']], dv[list(columns_to_leave) + ['SalePrice']])"
   ]
  },
  {
   "cell_type": "markdown",
   "metadata": {},
   "source": [
    "### Transformation of the target variable\n",
    "It might be beneficial to transform the target variable as well. You should see the impact in the Homework."
   ]
  },
  {
   "cell_type": "code",
   "execution_count": 37,
   "metadata": {},
   "outputs": [
    {
     "data": {
      "text/plain": [
       "<matplotlib.legend.Legend at 0x7fda82fa4668>"
      ]
     },
     "execution_count": 37,
     "metadata": {},
     "output_type": "execute_result"
    },
    {
     "data": {
      "image/png": "[encoded data removed]",
      "text/plain": [
       "<matplotlib.figure.Figure at 0x7fda82fa4940>"
      ]
     },
     "metadata": {},
     "output_type": "display_data"
    }
   ],
   "source": [
    "# Distribution of the target varaible\n",
    "sns.distplot(df.SalePrice, \n",
    "             fit=stats.norm,  # It should be fitted by the normal distribution\n",
    "             hist_kws = {'label': 'Histogram'},\n",
    "             kde_kws = {'label': 'Kernel density estimate'},\n",
    "             fit_kws = {'label': 'Normal distribution fit'},\n",
    "            )\n",
    "\n",
    "plt.legend()"
   ]
  },
  {
   "cell_type": "markdown",
   "metadata": {},
   "source": [
    "We can see that the distribution is not normal.\n",
    "\n",
    "Let's support this visual observation with a statistical test."
   ]
  },
  {
   "cell_type": "code",
   "execution_count": 38,
   "metadata": {},
   "outputs": [
    {
     "data": {
      "text/plain": [
       "NormaltestResult(statistic=610.8359109472653, pvalue=2.283848353787728e-133)"
      ]
     },
     "execution_count": 38,
     "metadata": {},
     "output_type": "execute_result"
    }
   ],
   "source": [
    "stats.normaltest(df.SalePrice)"
   ]
  },
  {
   "cell_type": "markdown",
   "metadata": {},
   "source": [
    "Since $p$-value is quite small, we can reject the null hypothesis that it has a normal distribution.\n",
    "\n",
    "We can also estimate **skewness** as a measure of distributions asymetry and **kurtosis** as a measure of its \"tailedness\" (how the peak is sharped compared to how tails are long) in comparison to the normal distribution."
   ]
  },
  {
   "cell_type": "code",
   "execution_count": 39,
   "metadata": {},
   "outputs": [
    {
     "name": "stdout",
     "output_type": "stream",
     "text": [
      "Skewness: 1.8828757597682129\n",
      "Kurtosis: 6.536281860064529\n"
     ]
    }
   ],
   "source": [
    "# Skewness and kurtosis as measures of asymetry and long tails\n",
    "# Normal distribution has the Skewness = 0 and Kurtosis = 0 (Fisher's definition)\n",
    "print('Skewness:', df.SalePrice.skew())\n",
    "print('Kurtosis:', df.SalePrice.kurtosis())\n",
    "# Again we see that the distribution is far from the normal distribution"
   ]
  },
  {
   "cell_type": "markdown",
   "metadata": {},
   "source": [
    "We have some basic idea about the distribution of the target variable. Especially we see that it is not normal.\n",
    "\n",
    "Let us now assume that we would like to use linear regression (possibly ridge) as a model to predict sale prices.\n",
    "It is known (or can be easily found), the **least squares** method which is behind this model is actually equivalent to the maximum likelihood method when the target variable has a normal distribution.\n",
    "\n",
    "Hence it is usually beneficial to transform the target variable in such a way that its new distribution will move \n",
    "towards the normal one.\n",
    "\n",
    "In our case we can heuristically choose the logarithm."
   ]
  },
  {
   "cell_type": "code",
   "execution_count": 40,
   "metadata": {},
   "outputs": [
    {
     "name": "stdout",
     "output_type": "stream",
     "text": [
      "Skewness: 0.12133506220520406\n",
      "Kurtosis: 0.8095319958036296\n",
      "NormaltestResult(statistic=25.507009834238303, pvalue=2.89216582205235e-06)\n"
     ]
    },
    {
     "data": {
      "image/png": "[encoded data removed]",
      "text/plain": [
       "<matplotlib.figure.Figure at 0x7fda82dce668>"
      ]
     },
     "metadata": {},
     "output_type": "display_data"
    }
   ],
   "source": [
    "# observe the transformed distribution\n",
    "sns.distplot(np.log(df.SalePrice), \n",
    "             fit=stats.norm,  # It should be fitted by the normal distribution\n",
    "             hist_kws = {'label': 'Histogram'},\n",
    "             kde_kws = {'label': 'Kernel density estimate'},\n",
    "             fit_kws = {'label': 'Normal distribution fit'},\n",
    "            )\n",
    "plt.legend()\n",
    "\n",
    "print('Skewness:', np.log(df.SalePrice).skew())\n",
    "print('Kurtosis:', np.log(df.SalePrice).kurtosis())\n",
    " \n",
    "print(stats.normaltest(np.log(df.SalePrice)))"
   ]
  },
  {
   "cell_type": "markdown",
   "metadata": {},
   "source": [
    "It is not perfect but better that the original one.\n",
    "So it should be worth trying it."
   ]
  }
 ],
 "metadata": {
  "kernelspec": {
   "display_name": "Python 3",
   "language": "python",
   "name": "python3"
  },
  "language_info": {
   "codemirror_mode": {
    "name": "ipython",
    "version": 3
   },
   "file_extension": ".py",
   "mimetype": "text/x-python",
   "name": "python",
   "nbconvert_exporter": "python",
   "pygments_lexer": "ipython3",
   "version": "3.6.5"
  }
 },
 "nbformat": 4,
 "nbformat_minor": 2
}
