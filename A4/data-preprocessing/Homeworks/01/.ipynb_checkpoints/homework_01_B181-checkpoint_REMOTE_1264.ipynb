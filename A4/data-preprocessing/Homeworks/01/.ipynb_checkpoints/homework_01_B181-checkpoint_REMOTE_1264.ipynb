{
 "cells": [
  {
   "cell_type": "markdown",
   "metadata": {},
   "source": [
    "# Homework nr. 1 - data visualization (deadline 25/10/2018)\n",
    "\n",
    "In short, the main task is to download data on theses defended at CTU from the Internet, store them in pandas Data Frame and then visualize some hidden information.\n",
    "  \n",
    "> The instructions are not given in details: It is up to you to come up with ideas on how to fulfill the particular tasks as best you can. Thinking of how to visualize the data is an important part of data visualization! ;)\n",
    "\n",
    "## What are you supposed to do:\n",
    "\n",
    "  1. Browse the web https://dspace.cvut.cz/?locale-attribute=en and find out how to download data on Bachelor and Master theses.\n",
    "  2. Download or scrape the data such that for each thesis you know the following:\n",
    "    * Faculty name, department name, thesis title, thesis type (bachelor/master), supervisor name, reviewer name, year (or date) of the defence, study programme and discipline, link to a webpage with details.\n",
    "  3. Store these data in one _csv_ file (should be handed in along with this notebook).\n",
    "  4. Use tools available for Python to plot charts and tables to visualize/display this information:\n",
    "    * Number of defended theses per year for CTU/Faculties. Distinguish the type of thesis.\n",
    "    * Find the departments/study programmes/supervisors/reviewers with highest numbers of thesis and come up with some nice plots and tables to depict their numbers.\n",
    "    * Mean/median/minimum/maximum number of supervised theses per year for faculties.\n",
    "    * Number (or fraction) of theses supervised by people with various degrees (Bc./Ing./Ph.D./ ...).\n",
    "\n",
    "**If you do all this properly, you will obtain 6 points**\n",
    "\n",
    "To earn **extra two points** you can do some of these:\n",
    "  * Use http://beakerx.com to make your notebook interactive in a meaningful way.\n",
    "  * Come up with some other reasonable and interesting views of data.\n",
    "  * Use your data to create an interactive webpage (HTML + JavaScript).\n",
    "\n",
    "## Comments\n",
    "\n",
    "  * Please follow the instructions from https://courses.fit.cvut.cz/MI-PDD/homeworks/index.html.\n",
    "  * If the reviewing teacher is not satisfied, he can give you another chance to rework your homework and to obtain more points."
   ]
  },
  {
   "cell_type": "markdown",
   "metadata": {},
   "source": [
    "## Part 1 - Scraping the data"
   ]
  },
  {
   "cell_type": "code",
   "execution_count": 2,
   "metadata": {},
   "outputs": [],
   "source": [
    "import pandas as pd\n",
    "import requests as requests\n",
    "from bs4 import BeautifulSoup\n",
    "import time"
   ]
  },
  {
   "cell_type": "code",
   "execution_count": 4,
   "metadata": {},
   "outputs": [
    {
     "name": "stderr",
     "output_type": "stream",
     "text": [
      "/usr/lib/python3.6/site-packages/bs4/__init__.py:181: UserWarning: No parser was explicitly specified, so I'm using the best available HTML parser for this system (\"lxml\"). This usually isn't a problem, but if you run this code on another system, or in a different virtual environment, it may use a different parser and behave differently.\n",
      "\n",
      "The code that caused this warning is on line 193 of the file /usr/lib64/python3.6/runpy.py. To get rid of this warning, change code that looks like this:\n",
      "\n",
      " BeautifulSoup(YOUR_MARKUP})\n",
      "\n",
      "to this:\n",
      "\n",
      " BeautifulSoup(YOUR_MARKUP, \"lxml\")\n",
      "\n",
      "  markup_type=markup_type))\n"
     ]
    },
    {
     "data": {
      "text/html": [
       "<div>\n",
       "<style scoped>\n",
       "    .dataframe tbody tr th:only-of-type {\n",
       "        vertical-align: middle;\n",
       "    }\n",
       "\n",
       "    .dataframe tbody tr th {\n",
       "        vertical-align: top;\n",
       "    }\n",
       "\n",
       "    .dataframe thead th {\n",
       "        text-align: right;\n",
       "    }\n",
       "</style>\n",
       "<table border=\"1\" class=\"dataframe\">\n",
       "  <thead>\n",
       "    <tr style=\"text-align: right;\">\n",
       "      <th></th>\n",
       "      <th>dc.contributor.advisor</th>\n",
       "      <th>dc.contributor.author</th>\n",
       "      <th>dc.date.accessioned</th>\n",
       "      <th>dc.date.available</th>\n",
       "      <th>dc.date.issued</th>\n",
       "      <th>dc.identifier</th>\n",
       "      <th>dc.identifier.uri</th>\n",
       "      <th>dc.description.abstract</th>\n",
       "      <th>dc.description.abstract</th>\n",
       "      <th>dc.language.iso</th>\n",
       "      <th>...</th>\n",
       "      <th>dc.subject</th>\n",
       "      <th>dc.title</th>\n",
       "      <th>dc.title</th>\n",
       "      <th>dc.type</th>\n",
       "      <th>dc.type</th>\n",
       "      <th>dc.date.accepted</th>\n",
       "      <th>dc.contributor.referee</th>\n",
       "      <th>theses.degree.discipline</th>\n",
       "      <th>theses.degree.grantor</th>\n",
       "      <th>theses.degree.programme</th>\n",
       "    </tr>\n",
       "  </thead>\n",
       "  <tbody>\n",
       "    <tr>\n",
       "      <th>0</th>\n",
       "      <td>Szabo Stanislav</td>\n",
       "      <td>Skálová Martina</td>\n",
       "      <td>2017-06-07T16:09:48Z</td>\n",
       "      <td>2017-06-07T16:09:48Z</td>\n",
       "      <td>2017-05-29</td>\n",
       "      <td>KOS-596785078405</td>\n",
       "      <td>http://hdl.handle.net/10467/70000</td>\n",
       "      <td>Diplomová práce se zabývá implementací vzdušné...</td>\n",
       "      <td>The thesis focuses on free route airspace impl...</td>\n",
       "      <td>CZE</td>\n",
       "      <td>...</td>\n",
       "      <td>Free Route Airspace, ATM, Air Traffic Control,...</td>\n",
       "      <td>Implementace vzdušného prostoru volných tratí ...</td>\n",
       "      <td>Implementation of free route airspace in FIR P...</td>\n",
       "      <td>MAGISTERSKÁ PRÁCE</td>\n",
       "      <td>MASTER'S THESIS</td>\n",
       "      <td>None</td>\n",
       "      <td>Stolár Juraj</td>\n",
       "      <td>Provoz a řízení letecké dopravy</td>\n",
       "      <td>ústav letecké dopravy</td>\n",
       "      <td>Technika a technologie v dopravě a spojích</td>\n",
       "    </tr>\n",
       "    <tr>\n",
       "      <th>1</th>\n",
       "      <td>Markovič Michal</td>\n",
       "      <td>Macalík Roman</td>\n",
       "      <td>2017-06-07T16:09:48Z</td>\n",
       "      <td>2017-06-07T16:09:48Z</td>\n",
       "      <td>2017-05-30</td>\n",
       "      <td>KOS-596785116005</td>\n",
       "      <td>http://hdl.handle.net/10467/70001</td>\n",
       "      <td>Tato práce předkládá návrh na rozvoj pohybovýc...</td>\n",
       "      <td>This work presents the project of developing t...</td>\n",
       "      <td>CZE</td>\n",
       "      <td>...</td>\n",
       "      <td>LKBE,non-precision approach,airport developmen...</td>\n",
       "      <td>Projekt přístrojové dráhy na LKBE</td>\n",
       "      <td>Construction of an Instrument Runway at LKBE</td>\n",
       "      <td>MAGISTERSKÁ PRÁCE</td>\n",
       "      <td>MASTER'S THESIS</td>\n",
       "      <td>None</td>\n",
       "      <td>Sýkora Viktor</td>\n",
       "      <td>Provoz a řízení letecké dopravy</td>\n",
       "      <td>ústav letecké dopravy</td>\n",
       "      <td>Technika a technologie v dopravě a spojích</td>\n",
       "    </tr>\n",
       "    <tr>\n",
       "      <th>2</th>\n",
       "      <td>Jirovský Václav</td>\n",
       "      <td>Samoilova Vera</td>\n",
       "      <td>2017-06-07T16:09:48Z</td>\n",
       "      <td>2017-06-07T16:09:48Z</td>\n",
       "      <td>2017-06-02</td>\n",
       "      <td>KOS-596784231105</td>\n",
       "      <td>http://hdl.handle.net/10467/70002</td>\n",
       "      <td>Diplomová práce je zaměřená na rozbor otázek e...</td>\n",
       "      <td>The diploma thesis is focused on the analysis ...</td>\n",
       "      <td>CZE</td>\n",
       "      <td>...</td>\n",
       "      <td>energy demands, safety aspects, energy sources...</td>\n",
       "      <td>Bezpečnostní aspekty energetické náročnosti si...</td>\n",
       "      <td>Safety Aspects of Energy Demands of Road Vehicles</td>\n",
       "      <td>MAGISTERSKÁ PRÁCE</td>\n",
       "      <td>MASTER'S THESIS</td>\n",
       "      <td>None</td>\n",
       "      <td>Doleček Vít</td>\n",
       "      <td>Bezpečnost dopravních prostředků a cest</td>\n",
       "      <td>ústav bezpečnostních technologií a inženýrství</td>\n",
       "      <td>Technika a technologie v dopravě a spojích</td>\n",
       "    </tr>\n",
       "    <tr>\n",
       "      <th>3</th>\n",
       "      <td>Mocková Denisa</td>\n",
       "      <td>Šlégl Jan</td>\n",
       "      <td>2017-06-07T16:09:48Z</td>\n",
       "      <td>2017-06-07T16:09:48Z</td>\n",
       "      <td>2017-05-30</td>\n",
       "      <td>KOS-597055717005</td>\n",
       "      <td>http://hdl.handle.net/10467/70003</td>\n",
       "      <td>Diplomová práce je zaměřena do oblasti aplikac...</td>\n",
       "      <td>This paper is focused on a application and sol...</td>\n",
       "      <td>CZE</td>\n",
       "      <td>...</td>\n",
       "      <td>Defective graph colouring, Integer programming...</td>\n",
       "      <td>Řešení barvení grafů metodou celočíselného pro...</td>\n",
       "      <td>Binary Programming Approach towards Solving Gr...</td>\n",
       "      <td>MAGISTERSKÁ PRÁCE</td>\n",
       "      <td>MASTER'S THESIS</td>\n",
       "      <td>None</td>\n",
       "      <td>Dorda Michal</td>\n",
       "      <td>Logistika, technologie a management dopravy</td>\n",
       "      <td>ústav logistiky a managementu dopravy</td>\n",
       "      <td>Technika a technologie v dopravě a spojích</td>\n",
       "    </tr>\n",
       "    <tr>\n",
       "      <th>4</th>\n",
       "      <td>Sliacky Milan</td>\n",
       "      <td>Hnyk Petr</td>\n",
       "      <td>2017-06-07T16:09:49Z</td>\n",
       "      <td>2017-06-07T16:09:49Z</td>\n",
       "      <td>2017-05-30</td>\n",
       "      <td>KOS-597056629105</td>\n",
       "      <td>http://hdl.handle.net/10467/70004</td>\n",
       "      <td>Tato práce nabízí přehled o informačních systé...</td>\n",
       "      <td>This work summarize what information about pub...</td>\n",
       "      <td>ENG</td>\n",
       "      <td>...</td>\n",
       "      <td>ETIS, public transport systems, web applicatio...</td>\n",
       "      <td>ETIS-aplikace pro hodnocení odbavovacích a inf...</td>\n",
       "      <td>ETIS-Application for Evaluation of Ticketing a...</td>\n",
       "      <td>MAGISTERSKÁ PRÁCE</td>\n",
       "      <td>MASTER'S THESIS</td>\n",
       "      <td>None</td>\n",
       "      <td>Horažďovský Patrik</td>\n",
       "      <td>Inteligentní dopravní systémy</td>\n",
       "      <td>ústav dopravní telematiky</td>\n",
       "      <td>Technika a technologie v dopravě a spojích</td>\n",
       "    </tr>\n",
       "  </tbody>\n",
       "</table>\n",
       "<p>5 rows × 25 columns</p>\n",
       "</div>"
      ],
      "text/plain": [
       "0 dc.contributor.advisor dc.contributor.author   dc.date.accessioned  \\\n",
       "0        Szabo Stanislav       Skálová Martina  2017-06-07T16:09:48Z   \n",
       "1        Markovič Michal         Macalík Roman  2017-06-07T16:09:48Z   \n",
       "2        Jirovský Václav        Samoilova Vera  2017-06-07T16:09:48Z   \n",
       "3         Mocková Denisa             Šlégl Jan  2017-06-07T16:09:48Z   \n",
       "4          Sliacky Milan             Hnyk Petr  2017-06-07T16:09:49Z   \n",
       "\n",
       "0     dc.date.available dc.date.issued     dc.identifier  \\\n",
       "0  2017-06-07T16:09:48Z     2017-05-29  KOS-596785078405   \n",
       "1  2017-06-07T16:09:48Z     2017-05-30  KOS-596785116005   \n",
       "2  2017-06-07T16:09:48Z     2017-06-02  KOS-596784231105   \n",
       "3  2017-06-07T16:09:48Z     2017-05-30  KOS-597055717005   \n",
       "4  2017-06-07T16:09:49Z     2017-05-30  KOS-597056629105   \n",
       "\n",
       "0                  dc.identifier.uri  \\\n",
       "0  http://hdl.handle.net/10467/70000   \n",
       "1  http://hdl.handle.net/10467/70001   \n",
       "2  http://hdl.handle.net/10467/70002   \n",
       "3  http://hdl.handle.net/10467/70003   \n",
       "4  http://hdl.handle.net/10467/70004   \n",
       "\n",
       "0                            dc.description.abstract  \\\n",
       "0  Diplomová práce se zabývá implementací vzdušné...   \n",
       "1  Tato práce předkládá návrh na rozvoj pohybovýc...   \n",
       "2  Diplomová práce je zaměřená na rozbor otázek e...   \n",
       "3  Diplomová práce je zaměřena do oblasti aplikac...   \n",
       "4  Tato práce nabízí přehled o informačních systé...   \n",
       "\n",
       "0                            dc.description.abstract dc.language.iso  \\\n",
       "0  The thesis focuses on free route airspace impl...             CZE   \n",
       "1  This work presents the project of developing t...             CZE   \n",
       "2  The diploma thesis is focused on the analysis ...             CZE   \n",
       "3  This paper is focused on a application and sol...             CZE   \n",
       "4  This work summarize what information about pub...             ENG   \n",
       "\n",
       "0                     ...                      \\\n",
       "0                     ...                       \n",
       "1                     ...                       \n",
       "2                     ...                       \n",
       "3                     ...                       \n",
       "4                     ...                       \n",
       "\n",
       "0                                         dc.subject  \\\n",
       "0  Free Route Airspace, ATM, Air Traffic Control,...   \n",
       "1  LKBE,non-precision approach,airport developmen...   \n",
       "2  energy demands, safety aspects, energy sources...   \n",
       "3  Defective graph colouring, Integer programming...   \n",
       "4  ETIS, public transport systems, web applicatio...   \n",
       "\n",
       "0                                           dc.title  \\\n",
       "0  Implementace vzdušného prostoru volných tratí ...   \n",
       "1                  Projekt přístrojové dráhy na LKBE   \n",
       "2  Bezpečnostní aspekty energetické náročnosti si...   \n",
       "3  Řešení barvení grafů metodou celočíselného pro...   \n",
       "4  ETIS-aplikace pro hodnocení odbavovacích a inf...   \n",
       "\n",
       "0                                           dc.title            dc.type  \\\n",
       "0  Implementation of free route airspace in FIR P...  MAGISTERSKÁ PRÁCE   \n",
       "1       Construction of an Instrument Runway at LKBE  MAGISTERSKÁ PRÁCE   \n",
       "2  Safety Aspects of Energy Demands of Road Vehicles  MAGISTERSKÁ PRÁCE   \n",
       "3  Binary Programming Approach towards Solving Gr...  MAGISTERSKÁ PRÁCE   \n",
       "4  ETIS-Application for Evaluation of Ticketing a...  MAGISTERSKÁ PRÁCE   \n",
       "\n",
       "0          dc.type dc.date.accepted dc.contributor.referee  \\\n",
       "0  MASTER'S THESIS             None           Stolár Juraj   \n",
       "1  MASTER'S THESIS             None          Sýkora Viktor   \n",
       "2  MASTER'S THESIS             None            Doleček Vít   \n",
       "3  MASTER'S THESIS             None           Dorda Michal   \n",
       "4  MASTER'S THESIS             None     Horažďovský Patrik   \n",
       "\n",
       "0                     theses.degree.discipline  \\\n",
       "0              Provoz a řízení letecké dopravy   \n",
       "1              Provoz a řízení letecké dopravy   \n",
       "2      Bezpečnost dopravních prostředků a cest   \n",
       "3  Logistika, technologie a management dopravy   \n",
       "4                Inteligentní dopravní systémy   \n",
       "\n",
       "0                           theses.degree.grantor  \\\n",
       "0                           ústav letecké dopravy   \n",
       "1                           ústav letecké dopravy   \n",
       "2  ústav bezpečnostních technologií a inženýrství   \n",
       "3           ústav logistiky a managementu dopravy   \n",
       "4                       ústav dopravní telematiky   \n",
       "\n",
       "0                     theses.degree.programme  \n",
       "0  Technika a technologie v dopravě a spojích  \n",
       "1  Technika a technologie v dopravě a spojích  \n",
       "2  Technika a technologie v dopravě a spojích  \n",
       "3  Technika a technologie v dopravě a spojích  \n",
       "4  Technika a technologie v dopravě a spojích  \n",
       "\n",
       "[5 rows x 25 columns]"
      ]
     },
     "metadata": {},
     "output_type": "display_data"
    }
   ],
   "source": [
    "url = 'https://dspace.cvut.cz/handle/10467/{}?show=full'\n",
    "\n",
    "data_all = pd.DataFrame()\n",
    "page = 70000 # starting page\n",
    "while page < 70500:\n",
    "    #if data_all.shape[0] > 200: # just to prevent from downloading all data\n",
    "        #break\n",
    "    r = requests.get(url.format(page))\n",
    "    r.encoding='utf8'\n",
    "    \n",
    "    data = []\n",
    "    soup = BeautifulSoup(r.text)\n",
    "    rows = soup.findAll('tr') # Finding all rows\n",
    "    for row in rows:\n",
    "        cols = row.find_all('td') # Finding all cells in a row\n",
    "        cols = [ele.text.strip() for ele in cols] # Getting value of cell\n",
    "        data.append([ele for ele in cols if ele])\n",
    "    dataset = pd.DataFrame(data) # Create a dataframe from newly data\n",
    "    dataset = dataset.transpose() # Transpose the dataframe (as headers are always in first cell)\n",
    "    dataset.columns = dataset.iloc[0] # Setting the columns from the first row\n",
    "    dataset.drop(dataset.index[[0,2]], inplace=True) # Dropping useless data\n",
    "    \n",
    "    data_all = pd.concat([data_all,dataset], ignore_index=True) # Concatenate new data to the main dataframe\n",
    "    #print(url.format(page))\n",
    "    page = page + 1 \n",
    "    time.sleep(1) # Letting 1 second to not DDoS the server\n",
    "#data_all.drop(data_all.columns[[2,3,5,7,8,9,10,11,13,14,16,18]], axis=1, inplace=True)\n",
    "display(data_all.head())\n",
    "data_all.to_csv('data.csv', sep=';', encoding='utf-8', index=False) # Export dataframe to CSV\n"
   ]
  },
  {
   "cell_type": "markdown",
   "metadata": {},
   "source": [
    "## Part 2 - Data Analysis"
   ]
  },
  {
   "cell_type": "code",
   "execution_count": 1,
   "metadata": {},
   "outputs": [],
   "source": [
    "import numpy as np\n",
    "import sklearn as skit\n",
    "import matplotlib.pyplot as plt\n",
    "import matplotlib\n",
    "%matplotlib inline\n",
    "matplotlib.style.use('ggplot')\n",
    "import seaborn as sns"
   ]
  },
  {
   "cell_type": "code",
   "execution_count": 3,
   "metadata": {},
   "outputs": [],
   "source": [
    "data = pd.read_csv('data.csv',sep=';') # If you don't want to scrape everytime\n",
    "data[\"dc.date.issued\"] = data[\"dc.date.issued\"].astype(\"datetime64\")"
   ]
  },
  {
   "cell_type": "code",
   "execution_count": 25,
   "metadata": {},
   "outputs": [
    {
     "data": {
      "text/html": [
       "<div>\n",
       "<style scoped>\n",
       "    .dataframe tbody tr th:only-of-type {\n",
       "        vertical-align: middle;\n",
       "    }\n",
       "\n",
       "    .dataframe tbody tr th {\n",
       "        vertical-align: top;\n",
       "    }\n",
       "\n",
       "    .dataframe thead th {\n",
       "        text-align: right;\n",
       "    }\n",
       "</style>\n",
       "<table border=\"1\" class=\"dataframe\">\n",
       "  <thead>\n",
       "    <tr style=\"text-align: right;\">\n",
       "      <th></th>\n",
       "      <th>count</th>\n",
       "    </tr>\n",
       "    <tr>\n",
       "      <th>dc.date.issued</th>\n",
       "      <th></th>\n",
       "    </tr>\n",
       "  </thead>\n",
       "  <tbody>\n",
       "    <tr>\n",
       "      <th>2017</th>\n",
       "      <td>1</td>\n",
       "    </tr>\n",
       "    <tr>\n",
       "      <th>2018</th>\n",
       "      <td>25</td>\n",
       "    </tr>\n",
       "  </tbody>\n",
       "</table>\n",
       "</div>"
      ],
      "text/plain": [
       "                count\n",
       "dc.date.issued       \n",
       "2017                1\n",
       "2018               25"
      ]
     },
     "metadata": {},
     "output_type": "display_data"
    },
    {
     "ename": "KeyError",
     "evalue": "0",
     "output_type": "error",
     "traceback": [
      "\u001b[1;31m---------------------------------------------------------------------------\u001b[0m",
      "\u001b[1;31mKeyError\u001b[0m                                  Traceback (most recent call last)",
      "\u001b[1;32mc:\\users\\nicolas\\appdata\\local\\programs\\python\\python37-32\\lib\\site-packages\\pandas\\core\\indexes\\base.py\u001b[0m in \u001b[0;36mget_loc\u001b[1;34m(self, key, method, tolerance)\u001b[0m\n\u001b[0;32m   3077\u001b[0m             \u001b[1;32mtry\u001b[0m\u001b[1;33m:\u001b[0m\u001b[1;33m\u001b[0m\u001b[0m\n\u001b[1;32m-> 3078\u001b[1;33m                 \u001b[1;32mreturn\u001b[0m \u001b[0mself\u001b[0m\u001b[1;33m.\u001b[0m\u001b[0m_engine\u001b[0m\u001b[1;33m.\u001b[0m\u001b[0mget_loc\u001b[0m\u001b[1;33m(\u001b[0m\u001b[0mkey\u001b[0m\u001b[1;33m)\u001b[0m\u001b[1;33m\u001b[0m\u001b[0m\n\u001b[0m\u001b[0;32m   3079\u001b[0m             \u001b[1;32mexcept\u001b[0m \u001b[0mKeyError\u001b[0m\u001b[1;33m:\u001b[0m\u001b[1;33m\u001b[0m\u001b[0m\n",
      "\u001b[1;32mpandas\\_libs\\index.pyx\u001b[0m in \u001b[0;36mpandas._libs.index.IndexEngine.get_loc\u001b[1;34m()\u001b[0m\n",
      "\u001b[1;32mpandas\\_libs\\index.pyx\u001b[0m in \u001b[0;36mpandas._libs.index.IndexEngine.get_loc\u001b[1;34m()\u001b[0m\n",
      "\u001b[1;32mpandas\\_libs\\hashtable_class_helper.pxi\u001b[0m in \u001b[0;36mpandas._libs.hashtable.PyObjectHashTable.get_item\u001b[1;34m()\u001b[0m\n",
      "\u001b[1;32mpandas\\_libs\\hashtable_class_helper.pxi\u001b[0m in \u001b[0;36mpandas._libs.hashtable.PyObjectHashTable.get_item\u001b[1;34m()\u001b[0m\n",
      "\u001b[1;31mKeyError\u001b[0m: 0",
      "\nDuring handling of the above exception, another exception occurred:\n",
      "\u001b[1;31mKeyError\u001b[0m                                  Traceback (most recent call last)",
      "\u001b[1;32m<ipython-input-25-ff4139fe7966>\u001b[0m in \u001b[0;36m<module>\u001b[1;34m\u001b[0m\n\u001b[0;32m      7\u001b[0m \u001b[0mf\u001b[0m\u001b[1;33m,\u001b[0m \u001b[1;33m(\u001b[0m\u001b[0max1\u001b[0m\u001b[1;33m,\u001b[0m \u001b[0max2\u001b[0m\u001b[1;33m)\u001b[0m \u001b[1;33m=\u001b[0m \u001b[0mplt\u001b[0m\u001b[1;33m.\u001b[0m\u001b[0msubplots\u001b[0m\u001b[1;33m(\u001b[0m\u001b[1;36m1\u001b[0m\u001b[1;33m,\u001b[0m \u001b[1;36m2\u001b[0m\u001b[1;33m,\u001b[0m \u001b[0msharex\u001b[0m\u001b[1;33m=\u001b[0m\u001b[1;34m'col'\u001b[0m\u001b[1;33m,\u001b[0m \u001b[0msharey\u001b[0m\u001b[1;33m=\u001b[0m\u001b[1;34m'row'\u001b[0m\u001b[1;33m)\u001b[0m\u001b[1;33m\u001b[0m\u001b[0m\n\u001b[0;32m      8\u001b[0m \u001b[0mr1\u001b[0m \u001b[1;33m=\u001b[0m \u001b[0max\u001b[0m\u001b[1;33m.\u001b[0m\u001b[0mbar\u001b[0m\u001b[1;33m(\u001b[0m\u001b[0mindex\u001b[0m\u001b[1;33m,\u001b[0m \u001b[0myear_issue_data\u001b[0m\u001b[1;33m[\u001b[0m\u001b[1;34m'count'\u001b[0m\u001b[1;33m]\u001b[0m\u001b[1;33m,\u001b[0m \u001b[0mbar_width\u001b[0m\u001b[1;33m,\u001b[0m \u001b[0mcolor\u001b[0m\u001b[1;33m=\u001b[0m\u001b[1;34m'b'\u001b[0m\u001b[1;33m)\u001b[0m\u001b[1;33m\u001b[0m\u001b[0m\n\u001b[1;32m----> 9\u001b[1;33m \u001b[0max1\u001b[0m\u001b[1;33m.\u001b[0m\u001b[0mbar\u001b[0m\u001b[1;33m(\u001b[0m\u001b[0myear_issue_data\u001b[0m\u001b[1;33m[\u001b[0m\u001b[1;36m0\u001b[0m\u001b[1;33m]\u001b[0m\u001b[1;33m,\u001b[0m\u001b[0myear_issue_data\u001b[0m\u001b[1;33m[\u001b[0m\u001b[1;34m'count'\u001b[0m\u001b[1;33m]\u001b[0m\u001b[1;33m,\u001b[0m \u001b[1;36m0.2\u001b[0m\u001b[1;33m)\u001b[0m\u001b[1;33m\u001b[0m\u001b[0m\n\u001b[0m\u001b[0;32m     10\u001b[0m \u001b[0max2\u001b[0m\u001b[1;33m.\u001b[0m\u001b[0mbar\u001b[0m\u001b[1;33m(\u001b[0m\u001b[0myear_issue_data\u001b[0m\u001b[1;33m[\u001b[0m\u001b[1;36m0\u001b[0m\u001b[1;33m]\u001b[0m\u001b[1;33m,\u001b[0m\u001b[0myear_issue_data\u001b[0m\u001b[1;33m[\u001b[0m\u001b[1;34m'count'\u001b[0m\u001b[1;33m]\u001b[0m\u001b[1;33m,\u001b[0m \u001b[1;36m0.2\u001b[0m\u001b[1;33m)\u001b[0m\u001b[1;33m\u001b[0m\u001b[0m\n\u001b[0;32m     11\u001b[0m \u001b[1;33m\u001b[0m\u001b[0m\n",
      "\u001b[1;32mc:\\users\\nicolas\\appdata\\local\\programs\\python\\python37-32\\lib\\site-packages\\pandas\\core\\frame.py\u001b[0m in \u001b[0;36m__getitem__\u001b[1;34m(self, key)\u001b[0m\n\u001b[0;32m   2686\u001b[0m             \u001b[1;32mreturn\u001b[0m \u001b[0mself\u001b[0m\u001b[1;33m.\u001b[0m\u001b[0m_getitem_multilevel\u001b[0m\u001b[1;33m(\u001b[0m\u001b[0mkey\u001b[0m\u001b[1;33m)\u001b[0m\u001b[1;33m\u001b[0m\u001b[0m\n\u001b[0;32m   2687\u001b[0m         \u001b[1;32melse\u001b[0m\u001b[1;33m:\u001b[0m\u001b[1;33m\u001b[0m\u001b[0m\n\u001b[1;32m-> 2688\u001b[1;33m             \u001b[1;32mreturn\u001b[0m \u001b[0mself\u001b[0m\u001b[1;33m.\u001b[0m\u001b[0m_getitem_column\u001b[0m\u001b[1;33m(\u001b[0m\u001b[0mkey\u001b[0m\u001b[1;33m)\u001b[0m\u001b[1;33m\u001b[0m\u001b[0m\n\u001b[0m\u001b[0;32m   2689\u001b[0m \u001b[1;33m\u001b[0m\u001b[0m\n\u001b[0;32m   2690\u001b[0m     \u001b[1;32mdef\u001b[0m \u001b[0m_getitem_column\u001b[0m\u001b[1;33m(\u001b[0m\u001b[0mself\u001b[0m\u001b[1;33m,\u001b[0m \u001b[0mkey\u001b[0m\u001b[1;33m)\u001b[0m\u001b[1;33m:\u001b[0m\u001b[1;33m\u001b[0m\u001b[0m\n",
      "\u001b[1;32mc:\\users\\nicolas\\appdata\\local\\programs\\python\\python37-32\\lib\\site-packages\\pandas\\core\\frame.py\u001b[0m in \u001b[0;36m_getitem_column\u001b[1;34m(self, key)\u001b[0m\n\u001b[0;32m   2693\u001b[0m         \u001b[1;31m# get column\u001b[0m\u001b[1;33m\u001b[0m\u001b[1;33m\u001b[0m\u001b[0m\n\u001b[0;32m   2694\u001b[0m         \u001b[1;32mif\u001b[0m \u001b[0mself\u001b[0m\u001b[1;33m.\u001b[0m\u001b[0mcolumns\u001b[0m\u001b[1;33m.\u001b[0m\u001b[0mis_unique\u001b[0m\u001b[1;33m:\u001b[0m\u001b[1;33m\u001b[0m\u001b[0m\n\u001b[1;32m-> 2695\u001b[1;33m             \u001b[1;32mreturn\u001b[0m \u001b[0mself\u001b[0m\u001b[1;33m.\u001b[0m\u001b[0m_get_item_cache\u001b[0m\u001b[1;33m(\u001b[0m\u001b[0mkey\u001b[0m\u001b[1;33m)\u001b[0m\u001b[1;33m\u001b[0m\u001b[0m\n\u001b[0m\u001b[0;32m   2696\u001b[0m \u001b[1;33m\u001b[0m\u001b[0m\n\u001b[0;32m   2697\u001b[0m         \u001b[1;31m# duplicate columns & possible reduce dimensionality\u001b[0m\u001b[1;33m\u001b[0m\u001b[1;33m\u001b[0m\u001b[0m\n",
      "\u001b[1;32mc:\\users\\nicolas\\appdata\\local\\programs\\python\\python37-32\\lib\\site-packages\\pandas\\core\\generic.py\u001b[0m in \u001b[0;36m_get_item_cache\u001b[1;34m(self, item)\u001b[0m\n\u001b[0;32m   2487\u001b[0m         \u001b[0mres\u001b[0m \u001b[1;33m=\u001b[0m \u001b[0mcache\u001b[0m\u001b[1;33m.\u001b[0m\u001b[0mget\u001b[0m\u001b[1;33m(\u001b[0m\u001b[0mitem\u001b[0m\u001b[1;33m)\u001b[0m\u001b[1;33m\u001b[0m\u001b[0m\n\u001b[0;32m   2488\u001b[0m         \u001b[1;32mif\u001b[0m \u001b[0mres\u001b[0m \u001b[1;32mis\u001b[0m \u001b[1;32mNone\u001b[0m\u001b[1;33m:\u001b[0m\u001b[1;33m\u001b[0m\u001b[0m\n\u001b[1;32m-> 2489\u001b[1;33m             \u001b[0mvalues\u001b[0m \u001b[1;33m=\u001b[0m \u001b[0mself\u001b[0m\u001b[1;33m.\u001b[0m\u001b[0m_data\u001b[0m\u001b[1;33m.\u001b[0m\u001b[0mget\u001b[0m\u001b[1;33m(\u001b[0m\u001b[0mitem\u001b[0m\u001b[1;33m)\u001b[0m\u001b[1;33m\u001b[0m\u001b[0m\n\u001b[0m\u001b[0;32m   2490\u001b[0m             \u001b[0mres\u001b[0m \u001b[1;33m=\u001b[0m \u001b[0mself\u001b[0m\u001b[1;33m.\u001b[0m\u001b[0m_box_item_values\u001b[0m\u001b[1;33m(\u001b[0m\u001b[0mitem\u001b[0m\u001b[1;33m,\u001b[0m \u001b[0mvalues\u001b[0m\u001b[1;33m)\u001b[0m\u001b[1;33m\u001b[0m\u001b[0m\n\u001b[0;32m   2491\u001b[0m             \u001b[0mcache\u001b[0m\u001b[1;33m[\u001b[0m\u001b[0mitem\u001b[0m\u001b[1;33m]\u001b[0m \u001b[1;33m=\u001b[0m \u001b[0mres\u001b[0m\u001b[1;33m\u001b[0m\u001b[0m\n",
      "\u001b[1;32mc:\\users\\nicolas\\appdata\\local\\programs\\python\\python37-32\\lib\\site-packages\\pandas\\core\\internals.py\u001b[0m in \u001b[0;36mget\u001b[1;34m(self, item, fastpath)\u001b[0m\n\u001b[0;32m   4113\u001b[0m \u001b[1;33m\u001b[0m\u001b[0m\n\u001b[0;32m   4114\u001b[0m             \u001b[1;32mif\u001b[0m \u001b[1;32mnot\u001b[0m \u001b[0misna\u001b[0m\u001b[1;33m(\u001b[0m\u001b[0mitem\u001b[0m\u001b[1;33m)\u001b[0m\u001b[1;33m:\u001b[0m\u001b[1;33m\u001b[0m\u001b[0m\n\u001b[1;32m-> 4115\u001b[1;33m                 \u001b[0mloc\u001b[0m \u001b[1;33m=\u001b[0m \u001b[0mself\u001b[0m\u001b[1;33m.\u001b[0m\u001b[0mitems\u001b[0m\u001b[1;33m.\u001b[0m\u001b[0mget_loc\u001b[0m\u001b[1;33m(\u001b[0m\u001b[0mitem\u001b[0m\u001b[1;33m)\u001b[0m\u001b[1;33m\u001b[0m\u001b[0m\n\u001b[0m\u001b[0;32m   4116\u001b[0m             \u001b[1;32melse\u001b[0m\u001b[1;33m:\u001b[0m\u001b[1;33m\u001b[0m\u001b[0m\n\u001b[0;32m   4117\u001b[0m                 \u001b[0mindexer\u001b[0m \u001b[1;33m=\u001b[0m \u001b[0mnp\u001b[0m\u001b[1;33m.\u001b[0m\u001b[0marange\u001b[0m\u001b[1;33m(\u001b[0m\u001b[0mlen\u001b[0m\u001b[1;33m(\u001b[0m\u001b[0mself\u001b[0m\u001b[1;33m.\u001b[0m\u001b[0mitems\u001b[0m\u001b[1;33m)\u001b[0m\u001b[1;33m)\u001b[0m\u001b[1;33m[\u001b[0m\u001b[0misna\u001b[0m\u001b[1;33m(\u001b[0m\u001b[0mself\u001b[0m\u001b[1;33m.\u001b[0m\u001b[0mitems\u001b[0m\u001b[1;33m)\u001b[0m\u001b[1;33m]\u001b[0m\u001b[1;33m\u001b[0m\u001b[0m\n",
      "\u001b[1;32mc:\\users\\nicolas\\appdata\\local\\programs\\python\\python37-32\\lib\\site-packages\\pandas\\core\\indexes\\base.py\u001b[0m in \u001b[0;36mget_loc\u001b[1;34m(self, key, method, tolerance)\u001b[0m\n\u001b[0;32m   3078\u001b[0m                 \u001b[1;32mreturn\u001b[0m \u001b[0mself\u001b[0m\u001b[1;33m.\u001b[0m\u001b[0m_engine\u001b[0m\u001b[1;33m.\u001b[0m\u001b[0mget_loc\u001b[0m\u001b[1;33m(\u001b[0m\u001b[0mkey\u001b[0m\u001b[1;33m)\u001b[0m\u001b[1;33m\u001b[0m\u001b[0m\n\u001b[0;32m   3079\u001b[0m             \u001b[1;32mexcept\u001b[0m \u001b[0mKeyError\u001b[0m\u001b[1;33m:\u001b[0m\u001b[1;33m\u001b[0m\u001b[0m\n\u001b[1;32m-> 3080\u001b[1;33m                 \u001b[1;32mreturn\u001b[0m \u001b[0mself\u001b[0m\u001b[1;33m.\u001b[0m\u001b[0m_engine\u001b[0m\u001b[1;33m.\u001b[0m\u001b[0mget_loc\u001b[0m\u001b[1;33m(\u001b[0m\u001b[0mself\u001b[0m\u001b[1;33m.\u001b[0m\u001b[0m_maybe_cast_indexer\u001b[0m\u001b[1;33m(\u001b[0m\u001b[0mkey\u001b[0m\u001b[1;33m)\u001b[0m\u001b[1;33m)\u001b[0m\u001b[1;33m\u001b[0m\u001b[0m\n\u001b[0m\u001b[0;32m   3081\u001b[0m \u001b[1;33m\u001b[0m\u001b[0m\n\u001b[0;32m   3082\u001b[0m         \u001b[0mindexer\u001b[0m \u001b[1;33m=\u001b[0m \u001b[0mself\u001b[0m\u001b[1;33m.\u001b[0m\u001b[0mget_indexer\u001b[0m\u001b[1;33m(\u001b[0m\u001b[1;33m[\u001b[0m\u001b[0mkey\u001b[0m\u001b[1;33m]\u001b[0m\u001b[1;33m,\u001b[0m \u001b[0mmethod\u001b[0m\u001b[1;33m=\u001b[0m\u001b[0mmethod\u001b[0m\u001b[1;33m,\u001b[0m \u001b[0mtolerance\u001b[0m\u001b[1;33m=\u001b[0m\u001b[0mtolerance\u001b[0m\u001b[1;33m)\u001b[0m\u001b[1;33m\u001b[0m\u001b[0m\n",
      "\u001b[1;32mpandas\\_libs\\index.pyx\u001b[0m in \u001b[0;36mpandas._libs.index.IndexEngine.get_loc\u001b[1;34m()\u001b[0m\n",
      "\u001b[1;32mpandas\\_libs\\index.pyx\u001b[0m in \u001b[0;36mpandas._libs.index.IndexEngine.get_loc\u001b[1;34m()\u001b[0m\n",
      "\u001b[1;32mpandas\\_libs\\hashtable_class_helper.pxi\u001b[0m in \u001b[0;36mpandas._libs.hashtable.PyObjectHashTable.get_item\u001b[1;34m()\u001b[0m\n",
      "\u001b[1;32mpandas\\_libs\\hashtable_class_helper.pxi\u001b[0m in \u001b[0;36mpandas._libs.hashtable.PyObjectHashTable.get_item\u001b[1;34m()\u001b[0m\n",
      "\u001b[1;31mKeyError\u001b[0m: 0"
     ]
    },
    {
     "data": {
      "image/png": "[encoded data removed]",
      "text/plain": [
       "<Figure size 432x288 with 1 Axes>"
      ]
     },
     "metadata": {
      "needs_background": "light"
     },
     "output_type": "display_data"
    },
    {
     "data": {
      "image/png": "[encoded data removed]",
      "text/plain": [
       "<Figure size 432x288 with 2 Axes>"
      ]
     },
     "metadata": {
      "needs_background": "light"
     },
     "output_type": "display_data"
    }
   ],
   "source": [
    "year_issue_data = data['dc.date.issued'].groupby(data['dc.date.issued'].dt.year).agg({'count'})\n",
    "display(year_issue_data)\n",
    "fig, ax = plt.subplots()\n",
    "index = np.arange(1)\n",
    "bar_width = 0.2\n",
    "\n",
    "f, (ax1, ax2) = plt.subplots(1, 2, sharex='col', sharey='row')\n",
    "r1 = ax.bar(index, year_issue_data['count'], bar_width, color='b')\n",
    "ax1.bar(year_issue_data[0],year_issue_data['count'], 0.2)\n",
    "ax2.bar(year_issue_data[0],year_issue_data['count'], 0.2)\n",
    "\n",
    "\n",
    "#bar = data['dc.date.issued'].groupby([data['dc.date.issued'].dt.year,data['theses.degree.grantor']]).agg({'count'}).plot(kind='bar', color='mediumseagreen', title =\"Number of theses per year\", figsize=(6,6), legend=True, fontsize=12)\n",
    "#bar.set_xlabel(\"Year\")\n",
    "#bar.set_ylabel(\"Number of theses\")\n",
    "#plt.ylim(0, 30)\n",
    "plt.tight_layout()\n",
    "plt.show()"
   ]
  },
  {
   "cell_type": "code",
   "execution_count": 5,
   "metadata": {},
   "outputs": [
    {
     "data": {
      "image/png": "[encoded data removed]",
      "text/plain": [
       "<Figure size 432x432 with 1 Axes>"
      ]
     },
     "metadata": {
      "needs_background": "light"
     },
     "output_type": "display_data"
    }
   ],
   "source": [
    "bar = data['dc.contributor.advisor'].groupby(data['dc.contributor.advisor']).agg({'count'}).sort_values(by=['count'], ascending=False).head(5)\n",
    "chart = bar.plot(kind='bar', color='mediumseagreen', title =\"Supervisors with highest nb of thesis\", figsize=(6,6), legend=True, fontsize=12)\n",
    "chart.set_xlabel(\"Supervisor\")\n",
    "chart.set_ylabel(\"Number of supervised theses\")\n",
    "plt.ylim(0, 6)\n",
    "plt.show()"
   ]
  },
  {
   "cell_type": "code",
   "execution_count": 8,
   "metadata": {},
   "outputs": [
    {
     "data": {
      "image/png": "[encoded data removed]",
      "text/plain": [
       "<Figure size 432x432 with 1 Axes>"
      ]
     },
     "metadata": {
      "needs_background": "light"
     },
     "output_type": "display_data"
    }
   ],
   "source": [
    "bar = data['theses.degree.grantor'].groupby(data['theses.degree.grantor']).agg({'count'}).sort_values(by=['count'], ascending=False).head(5)\n",
    "chart = bar.plot(kind='bar', color='mediumseagreen', title =\"Departments with highest nb of thesis\", figsize=(6,6), legend=True, fontsize=12)\n",
    "chart.set_xlabel(\"Department\")\n",
    "chart.set_ylabel(\"Number of theses\")\n",
    "plt.ylim(0, 30)\n",
    "plt.show()"
   ]
  },
  {
   "cell_type": "code",
   "execution_count": 10,
   "metadata": {},
   "outputs": [
    {
     "data": {
      "image/png": "[encoded data removed]",
      "text/plain": [
       "<Figure size 432x432 with 1 Axes>"
      ]
     },
     "metadata": {
      "needs_background": "light"
     },
     "output_type": "display_data"
    }
   ],
   "source": [
    "bar = data['dc.contributor.referee'].groupby(data['dc.contributor.referee']).agg({'count'}).sort_values(by=['count'], ascending=False).head(5)\n",
    "chart = bar.plot(kind='bar', color='mediumseagreen', title =\"Referee with highest nb of thesis\", figsize=(6,6), legend=True, fontsize=12)\n",
    "chart.set_xlabel(\"Referee\")\n",
    "chart.set_ylabel(\"Number of theses\")\n",
    "plt.ylim(0, 5)\n",
    "plt.show()"
   ]
  },
  {
   "cell_type": "code",
   "execution_count": null,
   "metadata": {},
   "outputs": [],
   "source": []
  }
 ],
 "metadata": {
  "kernelspec": {
   "display_name": "Python 3",
   "language": "python",
   "name": "python3"
  },
  "language_info": {
   "codemirror_mode": {
    "name": "ipython",
    "version": 3
   },
   "file_extension": ".py",
   "mimetype": "text/x-python",
   "name": "python",
   "nbconvert_exporter": "python",
   "pygments_lexer": "ipython3",
   "version": "3.6.5"
  }
 },
 "nbformat": 4,
 "nbformat_minor": 2
}
