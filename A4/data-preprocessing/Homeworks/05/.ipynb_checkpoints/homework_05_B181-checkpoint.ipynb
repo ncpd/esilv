{
 "cells": [
  {
   "cell_type": "markdown",
   "metadata": {},
   "source": [
    "# Tutorial 05: Homework"
   ]
  },
  {
   "cell_type": "markdown",
   "metadata": {},
   "source": [
    "### Assignement\n",
    "  * For the attached data (cleaned data from the 3rd tutorial) try to use linear regression (or ridge regression, if you will) AND decision tree regressor (or boosted tree) applied on features given by PCA.\n",
    "  * Try to select as less as possible features so that the results are comparably good (in terms of RMSLE) to the results obtained in the 3rd tutorial (RMSLE around 0.12).\n",
    "  * Experiment with the feature selection:\n",
    "    * Has removing indicator or discrete features a positive influence?\n",
    "    * Are the first principal components always the best choice?"
   ]
  },
  {
   "cell_type": "code",
   "execution_count": 1,
   "metadata": {},
   "outputs": [],
   "source": [
    "import pandas as pd\n",
    "import numpy as np\n",
    "import math\n",
    "import matplotlib.pyplot as plt\n",
    "import matplotlib.pylab as pylab\n",
    "import matplotlib\n",
    "from sklearn.decomposition import PCA\n",
    "from sklearn.preprocessing import scale\n",
    "from sklearn.model_selection import train_test_split\n",
    "from sklearn.linear_model import LinearRegression\n",
    "from sklearn.tree import DecisionTreeRegressor\n",
    "from sklearn.metrics import mean_squared_error"
   ]
  },
  {
   "cell_type": "code",
   "execution_count": 6,
   "metadata": {},
   "outputs": [],
   "source": [
    "# loading data\n",
    "data = pd.read_csv('dataHW05.csv', index_col=0)\n",
    "data.head()\n",
    "# spliting data to train and test datasets\n",
    "dtrain, dtest = train_test_split(data, test_size=0.25, random_state=458)\n",
    "X = dtrain.drop(['SalePrice'], axis = 1, errors = 'ignore')\n",
    "y = dtrain.SalePrice\n",
    "Xtest = dtest.drop(['SalePrice'], axis = 1, errors = 'ignore')\n",
    "ytest = dtest.SalePrice"
   ]
  },
  {
   "cell_type": "markdown",
   "metadata": {},
   "source": [
    "### Linear regression without PCA"
   ]
  },
  {
   "cell_type": "code",
   "execution_count": 7,
   "metadata": {},
   "outputs": [
    {
     "name": "stdout",
     "output_type": "stream",
     "text": [
      "Root mean squared logarithmic error: 0.2696064708484069\n"
     ]
    }
   ],
   "source": [
    "# Linear Regression\n",
    "clf1 = LinearRegression()\n",
    "clf1.fit(X, y) \n",
    "\n",
    "# Print RMSLE\n",
    "RMSLE_OLS = np.sqrt(mean_squared_error(clf1.predict(Xtest), ytest))\n",
    "print('Root mean squared logarithmic error:', RMSLE_OLS)"
   ]
  },
  {
   "cell_type": "markdown",
   "metadata": {},
   "source": [
    "### Decision Tree without PCA"
   ]
  },
  {
   "cell_type": "code",
   "execution_count": 8,
   "metadata": {},
   "outputs": [
    {
     "name": "stdout",
     "output_type": "stream",
     "text": [
      "Root mean squared logarithmic error: 0.2435000297531544\n"
     ]
    }
   ],
   "source": [
    "clf2 = DecisionTreeRegressor()\n",
    "clf2.fit(X, y) \n",
    "\n",
    "# Print RMSLE\n",
    "RMSLE_DT = np.sqrt(mean_squared_error(clf2.predict(Xtest), ytest))\n",
    "print('Root mean squared logarithmic error:', RMSLE_DT)"
   ]
  },
  {
   "cell_type": "markdown",
   "metadata": {},
   "source": [
    "### Linear regression with PCA"
   ]
  },
  {
   "cell_type": "code",
   "execution_count": 9,
   "metadata": {},
   "outputs": [
    {
     "name": "stderr",
     "output_type": "stream",
     "text": [
      "c:\\users\\nicolas\\appdata\\local\\programs\\python\\python37-32\\lib\\site-packages\\ipykernel_launcher.py:11: DataConversionWarning: Data with input dtype int64, float64 were all converted to float64 by the scale function.\n",
      "  # This is added back by InteractiveShellApp.init_path()\n",
      "c:\\users\\nicolas\\appdata\\local\\programs\\python\\python37-32\\lib\\site-packages\\ipykernel_launcher.py:12: DataConversionWarning: Data with input dtype int64, float64 were all converted to float64 by the scale function.\n",
      "  if sys.path[0] == '':\n",
      "c:\\users\\nicolas\\appdata\\local\\programs\\python\\python37-32\\lib\\site-packages\\ipykernel_launcher.py:13: DataConversionWarning: Data with input dtype int64, float64 were all converted to float64 by the scale function.\n",
      "  del sys.path[0]\n"
     ]
    },
    {
     "data": {
      "text/plain": [
       "<matplotlib.legend.Legend at 0x1b754ed0>"
      ]
     },
     "execution_count": 9,
     "metadata": {},
     "output_type": "execute_result"
    },
    {
     "data": {
      "image/png": "[encoded data removed]",
      "text/plain": [
       "<Figure size 1080x576 with 1 Axes>"
      ]
     },
     "metadata": {
      "needs_background": "light"
     },
     "output_type": "display_data"
    }
   ],
   "source": [
    "q = 50 # number of components\n",
    "\n",
    "#### \n",
    "# pca with and without scaling\n",
    "####\n",
    "pca = PCA()\n",
    "pca.fit_transform(X)\n",
    "X1 = pca.transform(X)\n",
    "Xtest1 = pca.transform(Xtest)\n",
    "\n",
    "pca.fit_transform(scale(X))\n",
    "X2 = pca.transform(scale(X))\n",
    "Xtest2 = pca.transform(scale(Xtest))\n",
    "RMSLE = []\n",
    "RMSLE_scale = []\n",
    "for n in range(1,q):\n",
    "    Xsub1 = X1[:,0:n]\n",
    "    Xsubtest1 = Xtest1[:,0:n]\n",
    "    clf1 = LinearRegression()\n",
    "    clf1.fit(Xsub1, y) \n",
    "    # save RMSLE\n",
    "    RMSLE.append(np.sqrt(mean_squared_error(clf1.predict(Xsubtest1), ytest)))\n",
    "    \n",
    "    Xsub2 = X2[:,0:n]\n",
    "    Xsubtest2 = Xtest2[:,0:n]\n",
    "    clf1 = LinearRegression()\n",
    "    clf1.fit(Xsub2, y) \n",
    "    # save RMSLE\n",
    "    RMSLE_scale.append(np.sqrt(mean_squared_error(clf1.predict(Xsubtest2), ytest)))\n",
    "plt.subplots(1,1, figsize=(15, 8))\n",
    "ns = plt.scatter(range(1,q), RMSLE, c='red')\n",
    "s = plt.scatter(range(1,q), RMSLE_scale, c='green')\n",
    "plt.title(u\"RMSLE as a function of number of principal components used\")\n",
    "plt.xlabel(u'number of principal component used')\n",
    "plt.ylabel('RMSLE')\n",
    "plt.plot([0, q], [RMSLE_OLS, RMSLE_OLS],'b-')\n",
    "plt.legend((ns,s),('non-scaled', 'scaled'))"
   ]
  },
  {
   "cell_type": "markdown",
   "metadata": {},
   "source": [
    "### Decision Tree with PCA"
   ]
  },
  {
   "cell_type": "code",
   "execution_count": 10,
   "metadata": {},
   "outputs": [
    {
     "name": "stderr",
     "output_type": "stream",
     "text": [
      "c:\\users\\nicolas\\appdata\\local\\programs\\python\\python37-32\\lib\\site-packages\\ipykernel_launcher.py:11: DataConversionWarning: Data with input dtype int64, float64 were all converted to float64 by the scale function.\n",
      "  # This is added back by InteractiveShellApp.init_path()\n",
      "c:\\users\\nicolas\\appdata\\local\\programs\\python\\python37-32\\lib\\site-packages\\ipykernel_launcher.py:12: DataConversionWarning: Data with input dtype int64, float64 were all converted to float64 by the scale function.\n",
      "  if sys.path[0] == '':\n",
      "c:\\users\\nicolas\\appdata\\local\\programs\\python\\python37-32\\lib\\site-packages\\ipykernel_launcher.py:13: DataConversionWarning: Data with input dtype int64, float64 were all converted to float64 by the scale function.\n",
      "  del sys.path[0]\n"
     ]
    },
    {
     "data": {
      "text/plain": [
       "<matplotlib.legend.Legend at 0xf3568b0>"
      ]
     },
     "execution_count": 10,
     "metadata": {},
     "output_type": "execute_result"
    },
    {
     "data": {
      "image/png": "[encoded data removed]",
      "text/plain": [
       "<Figure size 1080x576 with 1 Axes>"
      ]
     },
     "metadata": {
      "needs_background": "light"
     },
     "output_type": "display_data"
    }
   ],
   "source": [
    "q = 50 # number of components\n",
    "\n",
    "#### \n",
    "# pca with and without scaling\n",
    "####\n",
    "pca = PCA()\n",
    "pca.fit_transform(X)\n",
    "X1 = pca.transform(X)\n",
    "Xtest1 = pca.transform(Xtest)\n",
    "\n",
    "pca.fit_transform(scale(X))\n",
    "X2 = pca.transform(scale(X))\n",
    "Xtest2 = pca.transform(scale(Xtest))\n",
    "RMSLE = []\n",
    "RMSLE_scale = []\n",
    "for n in range(1,q):\n",
    "    Xsub1 = X1[:,0:n]\n",
    "    Xsubtest1 = Xtest1[:,0:n]\n",
    "    clf2 = DecisionTreeRegressor()\n",
    "    clf2.fit(Xsub1, y) \n",
    "    # save RMSLE\n",
    "    RMSLE.append(np.sqrt(mean_squared_error(clf2.predict(Xsubtest1), ytest)))\n",
    "    \n",
    "    Xsub2 = X2[:,0:n]\n",
    "    Xsubtest2 = Xtest2[:,0:n]\n",
    "    clf2 = DecisionTreeRegressor()\n",
    "    clf2.fit(Xsub2, y) \n",
    "    # save RMSLE\n",
    "    RMSLE_scale.append(np.sqrt(mean_squared_error(clf2.predict(Xsubtest2), ytest)))\n",
    "plt.subplots(1,1, figsize=(15, 8))\n",
    "ns = plt.scatter(range(1,q), RMSLE, c='red')\n",
    "s = plt.scatter(range(1,q), RMSLE_scale, c='green')\n",
    "plt.title(u\"RMSLE as a function of number of principal components used\")\n",
    "plt.xlabel(u'number of principal component used')\n",
    "plt.ylabel('RMSLE')\n",
    "plt.plot([0, q], [RMSLE_DT, RMSLE_DT],'b-')\n",
    "plt.legend((ns,s),('non-scaled', 'scaled'))"
   ]
  },
  {
   "cell_type": "markdown",
   "metadata": {},
   "source": [
    "As we can see, components from 1 to 40 have a high RMSLE so we can try to use 50 components from the 41st one."
   ]
  },
  {
   "cell_type": "markdown",
   "metadata": {},
   "source": [
    "Unfortunately, I tried to modify my above code to take the 41 to 90 components and apply PCA on it but couldn't make it."
   ]
  }
 ],
 "metadata": {
  "kernelspec": {
   "display_name": "Python 3",
   "language": "python",
   "name": "python3"
  },
  "language_info": {
   "codemirror_mode": {
    "name": "ipython",
    "version": 3
   },
   "file_extension": ".py",
   "mimetype": "text/x-python",
   "name": "python",
   "nbconvert_exporter": "python",
   "pygments_lexer": "ipython3",
   "version": "3.7.0"
  },
  "toc": {
   "base_numbering": 1,
   "nav_menu": {},
   "number_sections": false,
   "sideBar": false,
   "skip_h1_title": false,
   "title_cell": "Table of Contents",
   "title_sidebar": "Contents",
   "toc_cell": false,
   "toc_position": {},
   "toc_section_display": false,
   "toc_window_display": false
  }
 },
 "nbformat": 4,
 "nbformat_minor": 2
}
