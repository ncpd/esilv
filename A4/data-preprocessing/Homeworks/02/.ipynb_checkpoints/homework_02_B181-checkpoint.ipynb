{
 "cells": [
  {
   "cell_type": "markdown",
   "metadata": {},
   "source": [
    "# Homework nr. 2 - data cleaning (deadline 8/11/2018)\n",
    "\n",
    "In short, the main task is to clean The Metropolitan Museum of Art Open Access dataset.\n",
    "  \n",
    "> The instructions are not given in details: It is up to you to come up with ideas on how to fulfill the particular tasks as best you can. ;)\n",
    "\n",
    "## What are you supposed to do:\n",
    "\n",
    "  1. Download the dataset MetObjects.csv from the repository https://github.com/metmuseum/openaccess/.\n",
    "  2. Check consistency of at least three features where you expect problems (include \"Object Name\" feature).\n",
    "  3. Select some features where you expect integrity problems (describe your choice) and check integrity of those features.\n",
    "  4. Convert at least five features to a proper data type. Choose at least one numeric, one categorical and one datetime.\n",
    "  5. Find some outliers (describe your selection criteria).\n",
    "  6. Detect missing data in at least three features, convert them to a proper representation (if they are already not), and impute missing values in at least one feature.\n",
    "\n",
    "**If you do all this properly, you will obtain 6 points**\n",
    "\n",
    "To earn **extra two points** you can do some of these:\n",
    "  * Focus more precisely on cleaning of the \"Medium\" feature. Such if you like to use it in KNN based algorithms later.\n",
    "  * Focus on the extraction of physical dimensions of each item (width, depth and height in centimeters) from the \"Dimensions\" feature.\n",
    "\n",
    "## Comments\n",
    "\n",
    "  * Please follow the instructions from https://courses.fit.cvut.cz/MI-PDD/homeworks/index.html.\n",
    "  * If the reviewing teacher is not satisfied, he can give you another chance to rework your homework and to obtain more points."
   ]
  },
  {
   "cell_type": "code",
   "execution_count": 2,
   "metadata": {},
   "outputs": [],
   "source": [
    "import pandas as pd\n",
    "import numpy as np"
   ]
  },
  {
   "cell_type": "code",
   "execution_count": 3,
   "metadata": {},
   "outputs": [
    {
     "name": "stderr",
     "output_type": "stream",
     "text": [
      "c:\\users\\nicolas\\appdata\\local\\programs\\python\\python37-32\\lib\\site-packages\\IPython\\core\\interactiveshell.py:3018: DtypeWarning: Columns (7,8,9,10,11,18,27,28,29,30,31,32,33,34,35,36,37,39) have mixed types. Specify dtype option on import or set low_memory=False.\n",
      "  interactivity=interactivity, compiler=compiler, result=result)\n"
     ]
    }
   ],
   "source": [
    "dat = pd.read_csv('MetObjects.csv')"
   ]
  },
  {
   "cell_type": "markdown",
   "metadata": {},
   "source": [
    "### Data consistency (Object Name, Title, Dimensions, Medium)"
   ]
  },
  {
   "cell_type": "code",
   "execution_count": 3,
   "metadata": {},
   "outputs": [
    {
     "data": {
      "text/html": [
       "<div>\n",
       "<style scoped>\n",
       "    .dataframe tbody tr th:only-of-type {\n",
       "        vertical-align: middle;\n",
       "    }\n",
       "\n",
       "    .dataframe tbody tr th {\n",
       "        vertical-align: top;\n",
       "    }\n",
       "\n",
       "    .dataframe thead th {\n",
       "        text-align: right;\n",
       "    }\n",
       "</style>\n",
       "<table border=\"1\" class=\"dataframe\">\n",
       "  <thead>\n",
       "    <tr style=\"text-align: right;\">\n",
       "      <th></th>\n",
       "      <th>feature</th>\n",
       "      <th>diff</th>\n",
       "    </tr>\n",
       "  </thead>\n",
       "  <tbody>\n",
       "    <tr>\n",
       "      <th>2</th>\n",
       "      <td>Title</td>\n",
       "      <td>2047</td>\n",
       "    </tr>\n",
       "    <tr>\n",
       "      <th>19</th>\n",
       "      <td>Dimensions</td>\n",
       "      <td>1406</td>\n",
       "    </tr>\n",
       "    <tr>\n",
       "      <th>18</th>\n",
       "      <td>Medium</td>\n",
       "      <td>1308</td>\n",
       "    </tr>\n",
       "    <tr>\n",
       "      <th>1</th>\n",
       "      <td>Object Name</td>\n",
       "      <td>781</td>\n",
       "    </tr>\n",
       "  </tbody>\n",
       "</table>\n",
       "</div>"
      ],
      "text/plain": [
       "        feature  diff\n",
       "2         Title  2047\n",
       "19   Dimensions  1406\n",
       "18       Medium  1308\n",
       "1   Object Name   781"
      ]
     },
     "metadata": {},
     "output_type": "display_data"
    }
   ],
   "source": [
    "data = dat.copy()\n",
    "diff = pd.DataFrame()\n",
    "for col in data.columns:\n",
    "    before = data[col].nunique()\n",
    "    data[col] = data[col].astype(str).str.lower()\n",
    "    after = data[col].nunique()\n",
    "    if before != after:\n",
    "        #print(\"Lowercasing {} : {} => {}\".format(col,before,after))\n",
    "        value = before - after\n",
    "        df = pd.DataFrame([col,value]).T\n",
    "        #display(df)\n",
    "        diff = pd.concat([diff,df], ignore_index=True)\n",
    "diff.columns = ['feature','diff']\n",
    "display(diff.sort_values(diff.columns[1],ascending=False).head(4))\n",
    "# Free some memory for later\n",
    "del data\n",
    "del diff"
   ]
  },
  {
   "cell_type": "markdown",
   "metadata": {},
   "source": [
    "As you can see the 3 most inconsistent features are Title, Dimensions, Medium. We can now pick two of these features plus 'Object Name' feature as it is asked in the homework."
   ]
  },
  {
   "cell_type": "markdown",
   "metadata": {},
   "source": [
    "### Data integrity"
   ]
  },
  {
   "cell_type": "code",
   "execution_count": 44,
   "metadata": {},
   "outputs": [
    {
     "data": {
      "text/html": [
       "<div>\n",
       "<style scoped>\n",
       "    .dataframe tbody tr th:only-of-type {\n",
       "        vertical-align: middle;\n",
       "    }\n",
       "\n",
       "    .dataframe tbody tr th {\n",
       "        vertical-align: top;\n",
       "    }\n",
       "\n",
       "    .dataframe thead th {\n",
       "        text-align: right;\n",
       "    }\n",
       "</style>\n",
       "<table border=\"1\" class=\"dataframe\">\n",
       "  <thead>\n",
       "    <tr style=\"text-align: right;\">\n",
       "      <th></th>\n",
       "      <th>count</th>\n",
       "    </tr>\n",
       "    <tr>\n",
       "      <th>Object Date Integrity</th>\n",
       "      <th></th>\n",
       "    </tr>\n",
       "  </thead>\n",
       "  <tbody>\n",
       "    <tr>\n",
       "      <th>False</th>\n",
       "      <td>198</td>\n",
       "    </tr>\n",
       "    <tr>\n",
       "      <th>True</th>\n",
       "      <td>472057</td>\n",
       "    </tr>\n",
       "  </tbody>\n",
       "</table>\n",
       "</div>"
      ],
      "text/plain": [
       "                        count\n",
       "Object Date Integrity        \n",
       "False                     198\n",
       "True                   472057"
      ]
     },
     "metadata": {},
     "output_type": "display_data"
    }
   ],
   "source": [
    "# Checking that Object Begin Date is always inferior or equal to Object End Date\n",
    "d = pd.DataFrame()\n",
    "d = pd.concat([d,dat['Object Begin Date'],dat['Object End Date']], axis=1)\n",
    "\n",
    "d['Object Date Integrity'] = np.where((d['Object Begin Date'] > d['Object End Date']), False, True)\n",
    "\n",
    "# Displays invalid rows\n",
    "# display(d.loc[d['Object Date Integrity'] == False])\n",
    "\n",
    "countDF = d['Object Date Integrity'].groupby(d['Object Date Integrity']).agg({'count'})\n",
    "display(countDF)"
   ]
  },
  {
   "cell_type": "markdown",
   "metadata": {},
   "source": [
    "Above we checked the integrity between **Object Begin Date** and **Object End Date** features. 198 rows were marked as **False** in **Object Date Integrity**, showing that Object Begin Date is superior to Object End Date, which is not normal.  \n",
    "Theses rows can be displayed by uncommenting the \"*display*\" line (line 8).  \n",
    "Those rows should be imputed or checked to change the dates for the correct data."
   ]
  },
  {
   "cell_type": "markdown",
   "metadata": {},
   "source": [
    "### Data type conversion"
   ]
  },
  {
   "cell_type": "code",
   "execution_count": 5,
   "metadata": {
    "scrolled": true
   },
   "outputs": [],
   "source": [
    "# Convert <Metadata Date> column to datetime\n",
    "dat['Metadata Date'] = dat['Metadata Date'].apply(pd.to_datetime)\n",
    "# Convert <Object Begin Date> and <Object End Date> columns to numeric\n",
    "dat[['Object Begin Date','Object End Date']] = dat[['Object Begin Date','Object End Date']].apply(pd.to_numeric)"
   ]
  },
  {
   "cell_type": "markdown",
   "metadata": {},
   "source": [
    "We converted successfully above columns to datetime and numeric types. However, other columns were already imported as Pandas *\"object\"* type, which is already Categorical, so there's no need to convert it from object to object."
   ]
  },
  {
   "cell_type": "markdown",
   "metadata": {},
   "source": [
    "### Outliers Detection"
   ]
  },
  {
   "cell_type": "code",
   "execution_count": 6,
   "metadata": {},
   "outputs": [
    {
     "name": "stdout",
     "output_type": "stream",
     "text": [
      "10079\n"
     ]
    }
   ],
   "source": [
    "# Artist End Date contains outliers (values like 9999)\n",
    "d = dat['Artist End Date'].loc[dat['Artist End Date'].str.contains('9999', na=False)]\n",
    "print(len(d.index))"
   ]
  },
  {
   "cell_type": "markdown",
   "metadata": {},
   "source": [
    "Artist End Date column contains some outliers containing 9999, which is anormal for a date. The code above counts these outliers.  \n",
    "**We found 10079 outliers out of 472255 rows.**"
   ]
  },
  {
   "cell_type": "markdown",
   "metadata": {},
   "source": [
    "### Missing Data Detection"
   ]
  },
  {
   "cell_type": "code",
   "execution_count": 7,
   "metadata": {},
   "outputs": [
    {
     "data": {
      "text/html": [
       "<div>\n",
       "<style scoped>\n",
       "    .dataframe tbody tr th:only-of-type {\n",
       "        vertical-align: middle;\n",
       "    }\n",
       "\n",
       "    .dataframe tbody tr th {\n",
       "        vertical-align: top;\n",
       "    }\n",
       "\n",
       "    .dataframe thead th {\n",
       "        text-align: right;\n",
       "    }\n",
       "</style>\n",
       "<table border=\"1\" class=\"dataframe\">\n",
       "  <thead>\n",
       "    <tr style=\"text-align: right;\">\n",
       "      <th></th>\n",
       "      <th>NaN count</th>\n",
       "    </tr>\n",
       "  </thead>\n",
       "  <tbody>\n",
       "    <tr>\n",
       "      <th>River</th>\n",
       "      <td>470157</td>\n",
       "    </tr>\n",
       "    <tr>\n",
       "      <th>State</th>\n",
       "      <td>469446</td>\n",
       "    </tr>\n",
       "    <tr>\n",
       "      <th>Locus</th>\n",
       "      <td>464930</td>\n",
       "    </tr>\n",
       "    <tr>\n",
       "      <th>County</th>\n",
       "      <td>463790</td>\n",
       "    </tr>\n",
       "    <tr>\n",
       "      <th>Artist Suffix</th>\n",
       "      <td>461509</td>\n",
       "    </tr>\n",
       "    <tr>\n",
       "      <th>Reign</th>\n",
       "      <td>461043</td>\n",
       "    </tr>\n",
       "    <tr>\n",
       "      <th>Locale</th>\n",
       "      <td>456700</td>\n",
       "    </tr>\n",
       "    <tr>\n",
       "      <th>Excavation</th>\n",
       "      <td>456292</td>\n",
       "    </tr>\n",
       "    <tr>\n",
       "      <th>Portfolio</th>\n",
       "      <td>450415</td>\n",
       "    </tr>\n",
       "    <tr>\n",
       "      <th>Subregion</th>\n",
       "      <td>450105</td>\n",
       "    </tr>\n",
       "    <tr>\n",
       "      <th>Dynasty</th>\n",
       "      <td>448950</td>\n",
       "    </tr>\n",
       "    <tr>\n",
       "      <th>Rights and Reproduction</th>\n",
       "      <td>447924</td>\n",
       "    </tr>\n",
       "    <tr>\n",
       "      <th>Region</th>\n",
       "      <td>440469</td>\n",
       "    </tr>\n",
       "    <tr>\n",
       "      <th>City</th>\n",
       "      <td>440165</td>\n",
       "    </tr>\n",
       "    <tr>\n",
       "      <th>Geography Type</th>\n",
       "      <td>412057</td>\n",
       "    </tr>\n",
       "    <tr>\n",
       "      <th>Period</th>\n",
       "      <td>399101</td>\n",
       "    </tr>\n",
       "    <tr>\n",
       "      <th>Country</th>\n",
       "      <td>395720</td>\n",
       "    </tr>\n",
       "    <tr>\n",
       "      <th>Artist Prefix</th>\n",
       "      <td>375607</td>\n",
       "    </tr>\n",
       "    <tr>\n",
       "      <th>Culture</th>\n",
       "      <td>280043</td>\n",
       "    </tr>\n",
       "    <tr>\n",
       "      <th>Artist Nationality</th>\n",
       "      <td>278524</td>\n",
       "    </tr>\n",
       "    <tr>\n",
       "      <th>Artist End Date</th>\n",
       "      <td>237746</td>\n",
       "    </tr>\n",
       "    <tr>\n",
       "      <th>Artist Display Bio</th>\n",
       "      <td>237098</td>\n",
       "    </tr>\n",
       "    <tr>\n",
       "      <th>Artist Begin Date</th>\n",
       "      <td>235066</td>\n",
       "    </tr>\n",
       "    <tr>\n",
       "      <th>Artist Role</th>\n",
       "      <td>190834</td>\n",
       "    </tr>\n",
       "    <tr>\n",
       "      <th>Artist Alpha Sort</th>\n",
       "      <td>189644</td>\n",
       "    </tr>\n",
       "    <tr>\n",
       "      <th>Artist Display Name</th>\n",
       "      <td>189615</td>\n",
       "    </tr>\n",
       "    <tr>\n",
       "      <th>Dimensions</th>\n",
       "      <td>60617</td>\n",
       "    </tr>\n",
       "    <tr>\n",
       "      <th>Classification</th>\n",
       "      <td>56421</td>\n",
       "    </tr>\n",
       "    <tr>\n",
       "      <th>Title</th>\n",
       "      <td>31068</td>\n",
       "    </tr>\n",
       "    <tr>\n",
       "      <th>Object Date</th>\n",
       "      <td>15085</td>\n",
       "    </tr>\n",
       "    <tr>\n",
       "      <th>Medium</th>\n",
       "      <td>7591</td>\n",
       "    </tr>\n",
       "    <tr>\n",
       "      <th>Object Name</th>\n",
       "      <td>3977</td>\n",
       "    </tr>\n",
       "    <tr>\n",
       "      <th>Credit Line</th>\n",
       "      <td>725</td>\n",
       "    </tr>\n",
       "    <tr>\n",
       "      <th>Link Resource</th>\n",
       "      <td>0</td>\n",
       "    </tr>\n",
       "    <tr>\n",
       "      <th>Metadata Date</th>\n",
       "      <td>0</td>\n",
       "    </tr>\n",
       "    <tr>\n",
       "      <th>Object Number</th>\n",
       "      <td>0</td>\n",
       "    </tr>\n",
       "    <tr>\n",
       "      <th>Object End Date</th>\n",
       "      <td>0</td>\n",
       "    </tr>\n",
       "    <tr>\n",
       "      <th>Object Begin Date</th>\n",
       "      <td>0</td>\n",
       "    </tr>\n",
       "    <tr>\n",
       "      <th>Is Highlight</th>\n",
       "      <td>0</td>\n",
       "    </tr>\n",
       "    <tr>\n",
       "      <th>Department</th>\n",
       "      <td>0</td>\n",
       "    </tr>\n",
       "  </tbody>\n",
       "</table>\n",
       "</div>"
      ],
      "text/plain": [
       "                         NaN count\n",
       "River                       470157\n",
       "State                       469446\n",
       "Locus                       464930\n",
       "County                      463790\n",
       "Artist Suffix               461509\n",
       "Reign                       461043\n",
       "Locale                      456700\n",
       "Excavation                  456292\n",
       "Portfolio                   450415\n",
       "Subregion                   450105\n",
       "Dynasty                     448950\n",
       "Rights and Reproduction     447924\n",
       "Region                      440469\n",
       "City                        440165\n",
       "Geography Type              412057\n",
       "Period                      399101\n",
       "Country                     395720\n",
       "Artist Prefix               375607\n",
       "Culture                     280043\n",
       "Artist Nationality          278524\n",
       "Artist End Date             237746\n",
       "Artist Display Bio          237098\n",
       "Artist Begin Date           235066\n",
       "Artist Role                 190834\n",
       "Artist Alpha Sort           189644\n",
       "Artist Display Name         189615\n",
       "Dimensions                   60617\n",
       "Classification               56421\n",
       "Title                        31068\n",
       "Object Date                  15085\n",
       "Medium                        7591\n",
       "Object Name                   3977\n",
       "Credit Line                    725\n",
       "Link Resource                    0\n",
       "Metadata Date                    0\n",
       "Object Number                    0\n",
       "Object End Date                  0\n",
       "Object Begin Date                0\n",
       "Is Highlight                     0\n",
       "Department                       0"
      ]
     },
     "metadata": {},
     "output_type": "display_data"
    }
   ],
   "source": [
    "missing = pd.DataFrame(dat.isnull().sum(),columns=['NaN count'])\n",
    "display(missing.sort_values(missing.columns[0], ascending=False).head(40))"
   ]
  },
  {
   "cell_type": "markdown",
   "metadata": {},
   "source": [
    "The Culture, Object Date and Artist Display Name columns contains missing values. We decide to convert them to a proper representation:\n",
    "    <ul>\n",
    "    <li>**Culture** : NaN to 'Unknown'</li>\n",
    "    <li>**Object Date** : NaN to 'Unknown'</li>\n",
    "    <li>**Artist Display Name** : NaN to 'Unknown Artist'</li>\n",
    "    </ul>\n",
    "The Credit Line column contains the least missing values so we can pick this feature as the one to impute rows."
   ]
  },
  {
   "cell_type": "code",
   "execution_count": 8,
   "metadata": {},
   "outputs": [],
   "source": [
    "dat['Culture'] = dat['Culture'].fillna('Unknown')\n",
    "dat['Object Date'] = dat['Object Date'].fillna('Unknown')\n",
    "dat['Artist Display Name'] = dat['Artist Display Name'].fillna('Unknown Artist')\n",
    "\n",
    "dat.dropna(subset=['Credit Line'],inplace=True)"
   ]
  }
 ],
 "metadata": {
  "kernelspec": {
   "display_name": "Python 3",
   "language": "python",
   "name": "python3"
  },
  "language_info": {
   "codemirror_mode": {
    "name": "ipython",
    "version": 3
   },
   "file_extension": ".py",
   "mimetype": "text/x-python",
   "name": "python",
   "nbconvert_exporter": "python",
   "pygments_lexer": "ipython3",
   "version": "3.7.0"
  },
  "toc": {
   "base_numbering": 1,
   "nav_menu": {},
   "number_sections": false,
   "sideBar": false,
   "skip_h1_title": false,
   "title_cell": "Table of Contents",
   "title_sidebar": "Contents",
   "toc_cell": false,
   "toc_position": {},
   "toc_section_display": false,
   "toc_window_display": false
  }
 },
 "nbformat": 4,
 "nbformat_minor": 2
}
