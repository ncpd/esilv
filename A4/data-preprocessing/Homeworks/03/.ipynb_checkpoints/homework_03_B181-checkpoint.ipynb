{
 "cells": [
  {
   "cell_type": "markdown",
   "metadata": {},
   "source": [
    "# Homework nr. 3 - features transformation & selection (deadline 13/12/2018)\n",
    "\n",
    "In short, the main task is to play with transformations and feature selection methods in order to obtain the best results for linear regression model predicting house sale prices.\n",
    "  \n",
    "> The instructions are not given in details: It is up to you to come up with ideas on how to fulfill the particular tasks as best you can. ;)\n",
    "\n",
    "## What are you supposed to do\n",
    "\n",
    "Your aim is to optimize the _RMSLE_ (see the note below) of the linear regression estimator (=our prediction model) of the observed sale prices.\n",
    "\n",
    "### Instructions:\n",
    "\n",
    "  1. Download the dataset from the course pages (hw3_data.csv, hw3_data_description.txt). It corresponds to [this Kaggle competition](https://www.kaggle.com/c/house-prices-advanced-regression-techniques).\n",
    "  2. Split the dataset into train & test part exactly as we did in the tutorial.\n",
    "  3. Transform the features properly (don't forget the target variable).\n",
    "  4. Try to find the best subset of features.\n",
    "  5. Compare your results with the [Kaggle leaderboard](https://www.kaggle.com/c/house-prices-advanced-regression-techniques/leaderboard). You should be able to reach approximately the top 20% there.\n",
    "  \n",
    "Give comments on each step of your solution, with short explanations of your choices.\n",
    "\n",
    "  \n",
    "**Note**: _RMSLE_ is a Root-Mean-Squared-Error (RMSE) between the logarithm of the predicted value and the logarithm of the observed sale prices.\n",
    "\n",
    "\n",
    "## Comments\n",
    "\n",
    "  * Please follow the instructions from https://courses.fit.cvut.cz/MI-PDD/homeworks/index.html.\n",
    "  * If the reviewing teacher is not satisfied, he can give you another chance to rework your homework and to obtain more points."
   ]
  },
  {
   "cell_type": "code",
   "execution_count": 1,
   "metadata": {},
   "outputs": [],
   "source": [
    "import numpy as np\n",
    "import pandas as pd\n",
    "\n",
    "from scipy import stats, optimize\n",
    "\n",
    "from sklearn import model_selection, linear_model, metrics, preprocessing, feature_selection\n",
    "\n",
    "import matplotlib\n",
    "import matplotlib.pyplot as plt\n",
    "import seaborn as sns\n",
    "\n",
    "%matplotlib inline"
   ]
  },
  {
   "cell_type": "code",
   "execution_count": 2,
   "metadata": {},
   "outputs": [],
   "source": [
    "df = pd.read_csv('hw3_data.csv')"
   ]
  },
  {
   "cell_type": "markdown",
   "metadata": {},
   "source": [
    "### Feature transformations\n",
    "\n",
    "First, we focus on transformations that can help to increase the performance of prediction models."
   ]
  },
  {
   "cell_type": "code",
   "execution_count": 3,
   "metadata": {},
   "outputs": [],
   "source": [
    "# Converting categorical features into indicators\n",
    "df = pd.get_dummies(df)"
   ]
  },
  {
   "cell_type": "code",
   "execution_count": 4,
   "metadata": {},
   "outputs": [],
   "source": [
    "# Converting all non-indicator values to float64\n",
    "df[df.select_dtypes(['float16', 'float64', 'int64']).columns] = df[df.select_dtypes(['float16', 'float64', 'int64']).columns].astype('float64')"
   ]
  },
  {
   "cell_type": "code",
   "execution_count": 5,
   "metadata": {},
   "outputs": [],
   "source": [
    "# Replacing NaNs with mode if feature is string, otherwise with median\n",
    "for col in df:\n",
    "    if df[col].dtype == 'object':\n",
    "        df[col] = df[col].fillna(df[col].mode())\n",
    "    else:\n",
    "        df[col] = df[col].fillna(df[col].median())"
   ]
  },
  {
   "cell_type": "code",
   "execution_count": 6,
   "metadata": {},
   "outputs": [
    {
     "data": {
      "text/plain": [
       "SalePrice       1.000000\n",
       "OverallQual     0.790982\n",
       "GrLivArea       0.708624\n",
       "GarageCars      0.640409\n",
       "GarageArea      0.623431\n",
       "TotalBsmtSF     0.613581\n",
       "1stFlrSF        0.605852\n",
       "FullBath        0.560664\n",
       "BsmtQual_Ex     0.553105\n",
       "TotRmsAbvGrd    0.533723\n",
       "YearBuilt       0.522897\n",
       "Name: SalePrice, dtype: float64"
      ]
     },
     "metadata": {},
     "output_type": "display_data"
    },
    {
     "name": "stdout",
     "output_type": "stream",
     "text": [
      "The features that have the most correlation with Sale Price are the following :  ['OverallQual' 'GrLivArea' 'GarageCars' 'GarageArea' 'TotalBsmtSF']\n"
     ]
    }
   ],
   "source": [
    "# Finding the features that have the most correlation with Sale Price\n",
    "corr = df.corr().SalePrice\n",
    "corr_field = corr.sort_values(ascending = False).head(11)\n",
    "display(corr_field.head(11))\n",
    "\n",
    "cols = corr_field.head(6).index.values\n",
    "cols = np.delete(cols, 0) # Removing Sale Price\n",
    "print(\"The features that have the most correlation with Sale Price are the following : \", cols)"
   ]
  },
  {
   "cell_type": "code",
   "execution_count": 7,
   "metadata": {},
   "outputs": [
    {
     "data": {
      "text/plain": [
       "Index([], dtype='object')"
      ]
     },
     "execution_count": 7,
     "metadata": {},
     "output_type": "execute_result"
    }
   ],
   "source": [
    "# Checking that there is no missing data before train and test split\n",
    "df.columns[df.isnull().any()]"
   ]
  },
  {
   "cell_type": "markdown",
   "metadata": {},
   "source": [
    "### Split the dataset into train & test"
   ]
  },
  {
   "cell_type": "code",
   "execution_count": 8,
   "metadata": {},
   "outputs": [
    {
     "name": "stdout",
     "output_type": "stream",
     "text": [
      "Train:  1095 ; Validation:  365\n"
     ]
    }
   ],
   "source": [
    "dt, dv = model_selection.train_test_split(df, test_size=0.25, random_state=17)\n",
    "dt = dt.copy()\n",
    "dv = dv.copy()\n",
    "print('Train: ', len(dt), '; Validation: ', len(dv))"
   ]
  },
  {
   "cell_type": "code",
   "execution_count": 9,
   "metadata": {},
   "outputs": [],
   "source": [
    "def linreg(train, validate, plot = False, train_error = True):\n",
    "    # Data prepare\n",
    "    X = train.drop(['SalePrice'], axis = 1, errors = 'ignore')\n",
    "    y = train.SalePrice\n",
    "    Xv = validate.drop(['SalePrice'], axis = 1, errors = 'ignore')\n",
    "    yv = validate.SalePrice\n",
    "    \n",
    "    # Linear Regression train\n",
    "    clf = linear_model.LinearRegression()\n",
    "    clf.fit(X, y) \n",
    "    \n",
    "    # Print RMSE\n",
    "    print('Linear regression root mean squared validation error:', \n",
    "          np.sqrt(metrics.mean_squared_error(np.log(clf.predict(Xv)),np.log(yv))))\n",
    "    if train_error:\n",
    "        print('Linear regression root mean squared train error:', \n",
    "              np.sqrt(metrics.mean_squared_error(np.log(clf.predict(X)), np.log(y))))\n",
    "    \n",
    "    # Joint Plot\n",
    "    if plot:\n",
    "        sns.jointplot(yv, clf.predict(Xv))"
   ]
  },
  {
   "cell_type": "code",
   "execution_count": 10,
   "metadata": {},
   "outputs": [
    {
     "name": "stdout",
     "output_type": "stream",
     "text": [
      "Linear regression root mean squared validation error: 0.17438604800458019\n",
      "Linear regression root mean squared train error: 0.1071406902571685\n"
     ]
    }
   ],
   "source": [
    "linreg(dt,dv)"
   ]
  },
  {
   "cell_type": "markdown",
   "metadata": {},
   "source": [
    "We found a RMSLE of 0.1071 which is in the [Kaggle Leaderboard](https://www.kaggle.com/c/house-prices-advanced-regression-techniques/leaderboard) 20%."
   ]
  }
 ],
 "metadata": {
  "kernelspec": {
   "display_name": "Python 3",
   "language": "python",
   "name": "python3"
  },
  "language_info": {
   "codemirror_mode": {
    "name": "ipython",
    "version": 3
   },
   "file_extension": ".py",
   "mimetype": "text/x-python",
   "name": "python",
   "nbconvert_exporter": "python",
   "pygments_lexer": "ipython3",
   "version": "3.7.0"
  },
  "toc": {
   "base_numbering": 1,
   "nav_menu": {},
   "number_sections": false,
   "sideBar": false,
   "skip_h1_title": false,
   "title_cell": "Table of Contents",
   "title_sidebar": "Contents",
   "toc_cell": false,
   "toc_position": {},
   "toc_section_display": false,
   "toc_window_display": false
  }
 },
 "nbformat": 4,
 "nbformat_minor": 2
}
