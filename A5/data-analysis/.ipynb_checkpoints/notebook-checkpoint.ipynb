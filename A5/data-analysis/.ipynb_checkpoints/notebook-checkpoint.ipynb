{
 "cells": [
  {
   "cell_type": "markdown",
   "metadata": {},
   "source": [
    "# Projet Python - PPG DaLiA Data Set"
   ]
  },
  {
   "cell_type": "markdown",
   "metadata": {},
   "source": [
    "## 1. Importation des librairies"
   ]
  },
  {
   "cell_type": "code",
   "execution_count": 1,
   "metadata": {},
   "outputs": [
    {
     "name": "stderr",
     "output_type": "stream",
     "text": [
      "Using TensorFlow backend.\n"
     ]
    }
   ],
   "source": [
    "import pickle\n",
    "import gzip\n",
    "import numpy as np\n",
    "import pandas as pd\n",
    "import matplotlib.pyplot as plt\n",
    "import seaborn as sn\n",
    "import itertools\n",
    "import keras\n",
    "from keras.models import Sequential\n",
    "from keras.layers import Dense\n",
    "from keras.utils import to_categorical \n",
    "\n",
    "%matplotlib inline"
   ]
  },
  {
   "cell_type": "code",
   "execution_count": 2,
   "metadata": {},
   "outputs": [],
   "source": [
    "# Retourne les données désérialisées du fichier pkl correspondant\n",
    "def openSubject(path):\n",
    "    try:\n",
    "        with open(path, 'rb') as f:\n",
    "            data = pickle.load(f, encoding='latin1')\n",
    "            return data\n",
    "    except IOError as e:\n",
    "        return"
   ]
  },
  {
   "cell_type": "code",
   "execution_count": 3,
   "metadata": {},
   "outputs": [],
   "source": [
    "filenames = []\n",
    "for i in range(1,16):\n",
    "    filenames.append('./dataset/PPG_FieldStudy/S{}/S{}.pkl'.format(i, i))"
   ]
  },
  {
   "cell_type": "code",
   "execution_count": 4,
   "metadata": {},
   "outputs": [],
   "source": [
    "data = openSubject(filenames[0])"
   ]
  },
  {
   "cell_type": "markdown",
   "metadata": {},
   "source": [
    "## 2. Analyse de données"
   ]
  },
  {
   "cell_type": "code",
   "execution_count": 5,
   "metadata": {},
   "outputs": [
    {
     "name": "stdout",
     "output_type": "stream",
     "text": [
      "dict_keys(['rpeaks', 'signal', 'label', 'activity', 'questionnaire', 'subject'])\n"
     ]
    }
   ],
   "source": [
    "print(data.keys())"
   ]
  },
  {
   "cell_type": "markdown",
   "metadata": {},
   "source": [
    "### 2.1 R peaks"
   ]
  },
  {
   "cell_type": "markdown",
   "metadata": {},
   "source": [
    "En ingénierie biomédicale, le R peak fait référence à l'amplitude maximale d'une vague d'un signal d'ECG.  \n",
    "`data['rpeaks']` contient ainsi les index des pics où cette amplitude est maximale.\n",
    "\n",
    "<img src=\"./img/rpeak.png\" alt=\"rpeak\" style=\"width: 450px;\"/>"
   ]
  },
  {
   "cell_type": "code",
   "execution_count": 6,
   "metadata": {
    "scrolled": true
   },
   "outputs": [
    {
     "name": "stdout",
     "output_type": "stream",
     "text": [
      "[    240    1174    2128 ... 6447292 6447748 6448224]\n"
     ]
    }
   ],
   "source": [
    "print(data['rpeaks'])"
   ]
  },
  {
   "cell_type": "markdown",
   "metadata": {},
   "source": [
    "### 2.2 Signal"
   ]
  },
  {
   "cell_type": "code",
   "execution_count": 7,
   "metadata": {
    "scrolled": true
   },
   "outputs": [
    {
     "name": "stdout",
     "output_type": "stream",
     "text": [
      "dict_keys(['chest', 'wrist'])\n"
     ]
    }
   ],
   "source": [
    "print(data['signal'].keys())"
   ]
  },
  {
   "cell_type": "code",
   "execution_count": 8,
   "metadata": {},
   "outputs": [
    {
     "name": "stdout",
     "output_type": "stream",
     "text": [
      "dict_keys(['ACC', 'ECG', 'EMG', 'EDA', 'Temp', 'Resp'])\n",
      "dict_keys(['ACC', 'BVP', 'EDA', 'TEMP'])\n"
     ]
    }
   ],
   "source": [
    "print(data['signal']['chest'].keys())\n",
    "print(data['signal']['wrist'].keys())"
   ]
  },
  {
   "cell_type": "markdown",
   "metadata": {},
   "source": [
    "`data['chest']` contient les informations récoltées à l'aide du RespiBAN (ACC, ECG, EDA, EMG, RESP, TEMP).  \n",
    "On nous signale dans la documentation du dataset que les modalités EDA, EMG et Temp doivent être ignorées.\n",
    "\n",
    "`data['wrist']` contient quant à lui les informations récoltées à l'aide de l'Empatica E4 (ACC, BVP, EDA, TEMP). "
   ]
  },
  {
   "cell_type": "markdown",
   "metadata": {},
   "source": [
    "### 2.3 Label"
   ]
  },
  {
   "cell_type": "code",
   "execution_count": 9,
   "metadata": {},
   "outputs": [
    {
     "name": "stdout",
     "output_type": "stream",
     "text": [
      "[49.61136908 50.32399248 52.70833578 ... 84.004991   85.79625673\n",
      " 87.4113988 ]\n"
     ]
    }
   ],
   "source": [
    "print(data['label'])"
   ]
  },
  {
   "cell_type": "markdown",
   "metadata": {},
   "source": [
    "`data['label']` contient les battements par minute du coeur du sujet, sur des fenêtres de 8 secondes."
   ]
  },
  {
   "cell_type": "markdown",
   "metadata": {},
   "source": [
    "### 2.4 Activity"
   ]
  },
  {
   "cell_type": "markdown",
   "metadata": {},
   "source": [
    "`data['activity']` contient les labels de l'activité, allant de 0 à 8, de telle façon :\n",
    "\n",
    "0. Période de transition entre 2 activités\n",
    "1. Position assise\n",
    "2. Montée/Descente de marches\n",
    "3. Baby Foot\n",
    "4. Vélo\n",
    "5. Conduite\n",
    "6. Pause déjeuner\n",
    "7. Marche\n",
    "8. Travail"
   ]
  },
  {
   "cell_type": "markdown",
   "metadata": {},
   "source": [
    "### 2.5 Questionnaire"
   ]
  },
  {
   "cell_type": "code",
   "execution_count": 10,
   "metadata": {},
   "outputs": [
    {
     "name": "stdout",
     "output_type": "stream",
     "text": [
      "{'WEIGHT': 78.0, 'Gender': ' m', 'AGE': 34, 'HEIGHT': 182.0, 'SKIN': 3, 'SPORT': 6}\n"
     ]
    }
   ],
   "source": [
    "print(data['questionnaire'])"
   ]
  },
  {
   "cell_type": "markdown",
   "metadata": {},
   "source": [
    "`data['questionnaire']` contient les valeurs relatives à l'âge, le sexe, la taille, le poids, le type de peau et le niveau sportif."
   ]
  },
  {
   "cell_type": "markdown",
   "metadata": {},
   "source": [
    "### 2.6 Subject"
   ]
  },
  {
   "cell_type": "markdown",
   "metadata": {},
   "source": [
    "`data['subject']` contient le sujet (SX, X allant de 1 à 15)."
   ]
  },
  {
   "cell_type": "markdown",
   "metadata": {},
   "source": [
    "## 3. Analyse des données du RespiBAN et de l'Empatica E4"
   ]
  },
  {
   "cell_type": "markdown",
   "metadata": {},
   "source": [
    "### Possible prédicteurs\n",
    "\n",
    "Les données EDA, EMG et Temp du RespiBAN étant indiquées comme inutiles, celles-ci ne feront pas partie des features."
   ]
  },
  {
   "cell_type": "code",
   "execution_count": 11,
   "metadata": {},
   "outputs": [
    {
     "name": "stdout",
     "output_type": "stream",
     "text": [
      "======================= Données RespiBAN =====================\n",
      "Données de l'accéléromètre (f = 700 Hz) (x,y,z) : (6448400, 3)\n",
      "Données de l'ECG (f = 700 Hz)                   : (6448400, 1)\n",
      "Données de la respiration (f = 700 Hz)          : (6448400, 1)\n"
     ]
    }
   ],
   "source": [
    "print(\"======================= Données RespiBAN =====================\")\n",
    "print(\"Données de l'accéléromètre (f = 700 Hz) (x,y,z)\".ljust(48, ' ') + \":\", data['signal']['chest']['ACC'].shape)\n",
    "print(\"Données de l'ECG (f = 700 Hz)\".ljust(48, ' ') + \":\",  data['signal']['chest']['ECG'].shape)\n",
    "print(\"Données de la respiration (f = 700 Hz) \".ljust(48, ' ') + \":\",  data['signal']['chest']['Resp'].shape)"
   ]
  },
  {
   "cell_type": "code",
   "execution_count": 12,
   "metadata": {},
   "outputs": [
    {
     "name": "stdout",
     "output_type": "stream",
     "text": [
      "==================== Données Empatica E4 ====================\n",
      "Données de l'accéléromètre (f = 32 Hz) (x,y,z)  : (294784, 3)\n",
      "Données du PPG (f = 64 Hz)                      : (589568, 1)\n",
      "Données de l'activité éléctrodermale (f = 4 Hz) : (36848, 1)\n",
      "Données de la temp. corporelle (f = 4 Hz)       : (36848, 1)\n"
     ]
    }
   ],
   "source": [
    "print(\"==================== Données Empatica E4 ====================\")\n",
    "print(\"Données de l'accéléromètre (f = 32 Hz) (x,y,z)\".ljust(48, ' ') + \":\",  data['signal']['wrist']['ACC'].shape)\n",
    "print(\"Données du PPG (f = 64 Hz)\".ljust(48, ' ') + \":\", data['signal']['wrist']['BVP'].shape)\n",
    "print(\"Données de l'activité éléctrodermale (f = 4 Hz)\".ljust(48, ' ') + \":\", data['signal']['wrist']['EDA'].shape)\n",
    "print(\"Données de la temp. corporelle (f = 4 Hz)\".ljust(48, ' ') + \":\", data['signal']['wrist']['TEMP'].shape)"
   ]
  },
  {
   "cell_type": "markdown",
   "metadata": {},
   "source": [
    "### Cible - Activité de la personne"
   ]
  },
  {
   "cell_type": "code",
   "execution_count": 13,
   "metadata": {},
   "outputs": [],
   "source": [
    "target_names = ['Transient Period', 'Sitting', 'Stairs', 'Table Soccer',\n",
    "               'Cycling', 'Driving', 'Lunch Break', 'Walking', 'Working']"
   ]
  },
  {
   "cell_type": "code",
   "execution_count": 14,
   "metadata": {},
   "outputs": [
    {
     "name": "stdout",
     "output_type": "stream",
     "text": [
      "Données de l'activité (f = 4 Hz) : (36848, 1)\n"
     ]
    }
   ],
   "source": [
    "print(\"Données de l'activité (f = 4 Hz) :\", data['activity'].shape)"
   ]
  },
  {
   "cell_type": "markdown",
   "metadata": {},
   "source": [
    "## 4. Traitement des données\n",
    "\n",
    "On importe et affiche les informations respectives de chaque fichier."
   ]
  },
  {
   "cell_type": "code",
   "execution_count": 15,
   "metadata": {},
   "outputs": [],
   "source": [
    "fulldata = []\n",
    "for name in filenames:\n",
    "    fulldata.append(openSubject(name))"
   ]
  },
  {
   "cell_type": "code",
   "execution_count": 16,
   "metadata": {},
   "outputs": [],
   "source": [
    "def printInfo(data):\n",
    "    print(\"========================= Sujet n°{} =======================\".format(data['subject']))\n",
    "    print(\"======================= Données RespiBAN =====================\")\n",
    "    print(\"Données de l'accéléromètre (f = 700 Hz) (x,y,z)\".ljust(48, ' ') + \":\", data['signal']['chest']['ACC'].shape)\n",
    "    print(\"Données de l'ECG (f = 700 Hz)\".ljust(48, ' ') + \":\",  data['signal']['chest']['ECG'].shape)\n",
    "    print(\"Données de la respiration (f = 700 Hz) \".ljust(48, ' ') + \":\",  data['signal']['chest']['Resp'].shape)\n",
    "    print(\"==================== Données Empatica E4 ====================\")\n",
    "    print(\"Données de l'accéléromètre (f = 32 Hz) (x,y,z)\".ljust(48, ' ') + \":\",  data['signal']['wrist']['ACC'].shape)\n",
    "    print(\"Données du PPG (f = 64 Hz)\".ljust(48, ' ') + \":\", data['signal']['wrist']['BVP'].shape)\n",
    "    print(\"Données de l'activité éléctrodermale (f = 4 Hz)\".ljust(48, ' ') + \":\", data['signal']['wrist']['EDA'].shape)\n",
    "    print(\"Données de la temp. corporelle (f = 4 Hz)\".ljust(48, ' ') + \":\", data['signal']['wrist']['TEMP'].shape)\n",
    "    print()"
   ]
  },
  {
   "cell_type": "code",
   "execution_count": 17,
   "metadata": {},
   "outputs": [
    {
     "name": "stdout",
     "output_type": "stream",
     "text": [
      "========================= Sujet n°S1 =======================\n",
      "======================= Données RespiBAN =====================\n",
      "Données de l'accéléromètre (f = 700 Hz) (x,y,z) : (6448400, 3)\n",
      "Données de l'ECG (f = 700 Hz)                   : (6448400, 1)\n",
      "Données de la respiration (f = 700 Hz)          : (6448400, 1)\n",
      "==================== Données Empatica E4 ====================\n",
      "Données de l'accéléromètre (f = 32 Hz) (x,y,z)  : (294784, 3)\n",
      "Données du PPG (f = 64 Hz)                      : (589568, 1)\n",
      "Données de l'activité éléctrodermale (f = 4 Hz) : (36848, 1)\n",
      "Données de la temp. corporelle (f = 4 Hz)       : (36848, 1)\n",
      "\n",
      "========================= Sujet n°S2 =======================\n",
      "======================= Données RespiBAN =====================\n",
      "Données de l'accéléromètre (f = 700 Hz) (x,y,z) : (5743500, 3)\n",
      "Données de l'ECG (f = 700 Hz)                   : (5743500, 1)\n",
      "Données de la respiration (f = 700 Hz)          : (5743500, 1)\n",
      "==================== Données Empatica E4 ====================\n",
      "Données de l'accéléromètre (f = 32 Hz) (x,y,z)  : (262560, 3)\n",
      "Données du PPG (f = 64 Hz)                      : (525120, 1)\n",
      "Données de l'activité éléctrodermale (f = 4 Hz) : (32820, 1)\n",
      "Données de la temp. corporelle (f = 4 Hz)       : (32820, 1)\n",
      "\n",
      "========================= Sujet n°S3 =======================\n",
      "======================= Données RespiBAN =====================\n",
      "Données de l'accéléromètre (f = 700 Hz) (x,y,z) : (6118700, 3)\n",
      "Données de l'ECG (f = 700 Hz)                   : (6118700, 1)\n",
      "Données de la respiration (f = 700 Hz)          : (6118700, 1)\n",
      "==================== Données Empatica E4 ====================\n",
      "Données de l'accéléromètre (f = 32 Hz) (x,y,z)  : (279712, 3)\n",
      "Données du PPG (f = 64 Hz)                      : (559424, 1)\n",
      "Données de l'activité éléctrodermale (f = 4 Hz) : (34964, 1)\n",
      "Données de la temp. corporelle (f = 4 Hz)       : (34964, 1)\n",
      "\n",
      "========================= Sujet n°S4 =======================\n",
      "======================= Données RespiBAN =====================\n",
      "Données de l'accéléromètre (f = 700 Hz) (x,y,z) : (6405000, 3)\n",
      "Données de l'ECG (f = 700 Hz)                   : (6405000, 1)\n",
      "Données de la respiration (f = 700 Hz)          : (6405000, 1)\n",
      "==================== Données Empatica E4 ====================\n",
      "Données de l'accéléromètre (f = 32 Hz) (x,y,z)  : (292800, 3)\n",
      "Données du PPG (f = 64 Hz)                      : (585600, 1)\n",
      "Données de l'activité éléctrodermale (f = 4 Hz) : (36600, 1)\n",
      "Données de la temp. corporelle (f = 4 Hz)       : (36600, 1)\n",
      "\n",
      "========================= Sujet n°S5 =======================\n",
      "======================= Données RespiBAN =====================\n",
      "Données de l'accéléromètre (f = 700 Hz) (x,y,z) : (6513500, 3)\n",
      "Données de l'ECG (f = 700 Hz)                   : (6513500, 1)\n",
      "Données de la respiration (f = 700 Hz)          : (6513500, 1)\n",
      "==================== Données Empatica E4 ====================\n",
      "Données de l'accéléromètre (f = 32 Hz) (x,y,z)  : (297760, 3)\n",
      "Données du PPG (f = 64 Hz)                      : (595520, 1)\n",
      "Données de l'activité éléctrodermale (f = 4 Hz) : (37220, 1)\n",
      "Données de la temp. corporelle (f = 4 Hz)       : (37220, 1)\n",
      "\n",
      "========================= Sujet n°S6 =======================\n",
      "======================= Données RespiBAN =====================\n",
      "Données de l'accéléromètre (f = 700 Hz) (x,y,z) : (3675000, 3)\n",
      "Données de l'ECG (f = 700 Hz)                   : (3675000, 1)\n",
      "Données de la respiration (f = 700 Hz)          : (3675000, 1)\n",
      "==================== Données Empatica E4 ====================\n",
      "Données de l'accéléromètre (f = 32 Hz) (x,y,z)  : (168000, 3)\n",
      "Données du PPG (f = 64 Hz)                      : (336000, 1)\n",
      "Données de l'activité éléctrodermale (f = 4 Hz) : (21000, 1)\n",
      "Données de la temp. corporelle (f = 4 Hz)       : (21000, 1)\n",
      "\n",
      "========================= Sujet n°S7 =======================\n",
      "======================= Données RespiBAN =====================\n",
      "Données de l'accéléromètre (f = 700 Hz) (x,y,z) : (6540100, 3)\n",
      "Données de l'ECG (f = 700 Hz)                   : (6540100, 1)\n",
      "Données de la respiration (f = 700 Hz)          : (6540100, 1)\n",
      "==================== Données Empatica E4 ====================\n",
      "Données de l'accéléromètre (f = 32 Hz) (x,y,z)  : (298976, 3)\n",
      "Données du PPG (f = 64 Hz)                      : (597952, 1)\n",
      "Données de l'activité éléctrodermale (f = 4 Hz) : (37372, 1)\n",
      "Données de la temp. corporelle (f = 4 Hz)       : (37372, 1)\n",
      "\n",
      "========================= Sujet n°S8 =======================\n",
      "======================= Données RespiBAN =====================\n",
      "Données de l'accéléromètre (f = 700 Hz) (x,y,z) : (5656000, 3)\n",
      "Données de l'ECG (f = 700 Hz)                   : (5656000, 1)\n",
      "Données de la respiration (f = 700 Hz)          : (5656000, 1)\n",
      "==================== Données Empatica E4 ====================\n",
      "Données de l'accéléromètre (f = 32 Hz) (x,y,z)  : (258560, 3)\n",
      "Données du PPG (f = 64 Hz)                      : (517120, 1)\n",
      "Données de l'activité éléctrodermale (f = 4 Hz) : (32320, 1)\n",
      "Données de la temp. corporelle (f = 4 Hz)       : (32320, 1)\n",
      "\n",
      "========================= Sujet n°S9 =======================\n",
      "======================= Données RespiBAN =====================\n",
      "Données de l'accéléromètre (f = 700 Hz) (x,y,z) : (5992000, 3)\n",
      "Données de l'ECG (f = 700 Hz)                   : (5992000, 1)\n",
      "Données de la respiration (f = 700 Hz)          : (5992000, 1)\n",
      "==================== Données Empatica E4 ====================\n",
      "Données de l'accéléromètre (f = 32 Hz) (x,y,z)  : (273920, 3)\n",
      "Données du PPG (f = 64 Hz)                      : (547840, 1)\n",
      "Données de l'activité éléctrodermale (f = 4 Hz) : (34240, 1)\n",
      "Données de la temp. corporelle (f = 4 Hz)       : (34240, 1)\n",
      "\n",
      "========================= Sujet n°S10 =======================\n",
      "======================= Données RespiBAN =====================\n",
      "Données de l'accéléromètre (f = 700 Hz) (x,y,z) : (7453600, 3)\n",
      "Données de l'ECG (f = 700 Hz)                   : (7453600, 1)\n",
      "Données de la respiration (f = 700 Hz)          : (7453600, 1)\n",
      "==================== Données Empatica E4 ====================\n",
      "Données de l'accéléromètre (f = 32 Hz) (x,y,z)  : (340736, 3)\n",
      "Données du PPG (f = 64 Hz)                      : (681472, 1)\n",
      "Données de l'activité éléctrodermale (f = 4 Hz) : (42592, 1)\n",
      "Données de la temp. corporelle (f = 4 Hz)       : (42592, 1)\n",
      "\n",
      "========================= Sujet n°S11 =======================\n",
      "======================= Données RespiBAN =====================\n",
      "Données de l'accéléromètre (f = 700 Hz) (x,y,z) : (6333600, 3)\n",
      "Données de l'ECG (f = 700 Hz)                   : (6333600, 1)\n",
      "Données de la respiration (f = 700 Hz)          : (6333600, 1)\n",
      "==================== Données Empatica E4 ====================\n",
      "Données de l'accéléromètre (f = 32 Hz) (x,y,z)  : (289536, 3)\n",
      "Données du PPG (f = 64 Hz)                      : (579072, 1)\n",
      "Données de l'activité éléctrodermale (f = 4 Hz) : (36192, 1)\n",
      "Données de la temp. corporelle (f = 4 Hz)       : (36192, 1)\n",
      "\n",
      "========================= Sujet n°S12 =======================\n",
      "======================= Données RespiBAN =====================\n",
      "Données de l'accéléromètre (f = 700 Hz) (x,y,z) : (5539800, 3)\n",
      "Données de l'ECG (f = 700 Hz)                   : (5539800, 1)\n",
      "Données de la respiration (f = 700 Hz)          : (5539800, 1)\n",
      "==================== Données Empatica E4 ====================\n",
      "Données de l'accéléromètre (f = 32 Hz) (x,y,z)  : (253248, 3)\n",
      "Données du PPG (f = 64 Hz)                      : (506496, 1)\n",
      "Données de l'activité éléctrodermale (f = 4 Hz) : (31656, 1)\n",
      "Données de la temp. corporelle (f = 4 Hz)       : (31656, 1)\n",
      "\n",
      "========================= Sujet n°S13 =======================\n",
      "======================= Données RespiBAN =====================\n",
      "Données de l'accéléromètre (f = 700 Hz) (x,y,z) : (6395200, 3)\n",
      "Données de l'ECG (f = 700 Hz)                   : (6395200, 1)\n",
      "Données de la respiration (f = 700 Hz)          : (6395200, 1)\n",
      "==================== Données Empatica E4 ====================\n",
      "Données de l'accéléromètre (f = 32 Hz) (x,y,z)  : (292352, 3)\n",
      "Données du PPG (f = 64 Hz)                      : (584704, 1)\n",
      "Données de l'activité éléctrodermale (f = 4 Hz) : (36544, 1)\n",
      "Données de la temp. corporelle (f = 4 Hz)       : (36544, 1)\n",
      "\n",
      "========================= Sujet n°S14 =======================\n",
      "======================= Données RespiBAN =====================\n",
      "Données de l'accéléromètre (f = 700 Hz) (x,y,z) : (6270600, 3)\n",
      "Données de l'ECG (f = 700 Hz)                   : (6270600, 1)\n",
      "Données de la respiration (f = 700 Hz)          : (6270600, 1)\n",
      "==================== Données Empatica E4 ====================\n",
      "Données de l'accéléromètre (f = 32 Hz) (x,y,z)  : (286656, 3)\n",
      "Données du PPG (f = 64 Hz)                      : (573312, 1)\n",
      "Données de l'activité éléctrodermale (f = 4 Hz) : (35832, 1)\n",
      "Données de la temp. corporelle (f = 4 Hz)       : (35832, 1)\n",
      "\n",
      "========================= Sujet n°S15 =======================\n",
      "======================= Données RespiBAN =====================\n",
      "Données de l'accéléromètre (f = 700 Hz) (x,y,z) : (5557300, 3)\n",
      "Données de l'ECG (f = 700 Hz)                   : (5557300, 1)\n",
      "Données de la respiration (f = 700 Hz)          : (5557300, 1)\n",
      "==================== Données Empatica E4 ====================\n",
      "Données de l'accéléromètre (f = 32 Hz) (x,y,z)  : (254048, 3)\n",
      "Données du PPG (f = 64 Hz)                      : (508096, 1)\n",
      "Données de l'activité éléctrodermale (f = 4 Hz) : (31756, 1)\n",
      "Données de la temp. corporelle (f = 4 Hz)       : (31756, 1)\n",
      "\n"
     ]
    }
   ],
   "source": [
    "for subj in fulldata:\n",
    "    printInfo(subj)"
   ]
  },
  {
   "cell_type": "markdown",
   "metadata": {},
   "source": [
    "### 4.1 Sous échantillonnage à 4 Hz\n",
    "\n",
    "Les capteurs ayant récupéré des informations avec différentes fréquences d'échantillonnage, nous devons recréer nous même le dataset en moyennant les valeurs de chaque fenêtre, et ainsi sous échantillonner à 4 Hz pour obtenir les mêmes dimensions en entrée."
   ]
  },
  {
   "cell_type": "code",
   "execution_count": 18,
   "metadata": {},
   "outputs": [],
   "source": [
    "# Réalise le mean à partir d'une fenêtre de données\n",
    "def mean_seq(data, size):\n",
    "    splitted = np.split(data, int(size))\n",
    "    return list(map(lambda y: np.mean(y), splitted))\n",
    "\n",
    "# Réalise le mean sur des fenêtres de données en 3 dimensions\n",
    "def mean_seq3d(data, size):\n",
    "    x = mean_seq(data[:,0], size)\n",
    "    y = mean_seq(data[:,1], size)\n",
    "    z = mean_seq(data[:,2], size)\n",
    "    return x, y, z;\n",
    "\n",
    "# Sous-échantillonne une feature\n",
    "def downsample(data, size, is3d):\n",
    "    if(is3d):\n",
    "        return mean_seq3d(data, size)\n",
    "    else:\n",
    "        return mean_seq(data, size)"
   ]
  },
  {
   "cell_type": "markdown",
   "metadata": {},
   "source": [
    "Etant donné que tous les sujets n'ont pas eu la même durée d'enregistrement de leurs activités, on prend en référence le signal échantillonné à 4 Hz, car il est plus simple de sous-échantillonner les données enregistrées à 700 Hz à 4 Hz que de créer des données pour passer de 4 à 700 Hz."
   ]
  },
  {
   "cell_type": "code",
   "execution_count": 19,
   "metadata": {},
   "outputs": [],
   "source": [
    "# Sous-échantillonne un sujet de test\n",
    "def downsampleSubject(data):\n",
    "    # Columns names\n",
    "    columns = ['chest_ACC_x','chest_ACC_y','chest_ACC_z','chest_ECG',\n",
    "           'chest_Resp','wrist_ACC_x','wrist_ACC_y','wrist_ACC_z','wrist_BVP']\n",
    "    \n",
    "    # Taille de référence pour obtenir le même nombre de lignes pour toutes les features\n",
    "    SIZE = data['signal']['wrist']['TEMP'].shape[0]\n",
    "    \n",
    "    # RespiBAN\n",
    "    chest_acc_x, chest_acc_y, chest_acc_z = downsample(data['signal']['chest']['ACC'], SIZE, True)\n",
    "    chest_ecg = downsample(data['signal']['chest']['ECG'], SIZE, False)\n",
    "    chest_resp = downsample(data['signal']['chest']['Resp'], SIZE, False)\n",
    "\n",
    "    # Empatica E4\n",
    "    wrist_acc_x, wrist_acc_y, wrist_acc_z = downsample(data['signal']['wrist']['ACC'], SIZE, True)\n",
    "    wrist_bvp = downsample(data['signal']['wrist']['BVP'], SIZE, False)\n",
    "\n",
    "    zipped = zip(chest_acc_x, chest_acc_y, chest_acc_z, chest_ecg, \n",
    "             chest_resp, wrist_acc_x, wrist_acc_y, wrist_acc_z, wrist_bvp)\n",
    "    \n",
    "    df = pd.DataFrame(list(zipped), columns=columns)\n",
    "    \n",
    "    # Après avoir sous-échantillonné à 4 Hz les données ci-dessus, on peut maintenant y rajouter les autres features\n",
    "    df['weight'] = data['questionnaire']['WEIGHT']\n",
    "    df['gender'] = data['questionnaire']['Gender']\n",
    "    df['age'] = data['questionnaire']['AGE']\n",
    "    df['height'] = data['questionnaire']['HEIGHT']\n",
    "    df['skin'] = data['questionnaire']['SKIN']\n",
    "    df['sport'] = data['questionnaire']['SPORT']\n",
    "    # Ces données sont déjà samplées à 4 Hz, pas besoin de les sous-échantillonner\n",
    "    df['wrist_EDA'] = data['signal']['wrist']['EDA']\n",
    "    df['wrist_TEMP'] = data['signal']['wrist']['TEMP']\n",
    "    # Variable cible\n",
    "    df['activity'] = data['activity']\n",
    "\n",
    "    return df"
   ]
  },
  {
   "cell_type": "markdown",
   "metadata": {},
   "source": [
    "On fusionne maintenant les données de chaque sujet afin de pouvoir exercer nos modèles sur un jeu de données disposant de tous les sujets."
   ]
  },
  {
   "cell_type": "code",
   "execution_count": 20,
   "metadata": {},
   "outputs": [],
   "source": [
    "df = pd.DataFrame()\n",
    "\n",
    "for data in fulldata:\n",
    "    downsampled = downsampleSubject(data)\n",
    "    df = pd.concat([df, downsampled])"
   ]
  },
  {
   "cell_type": "code",
   "execution_count": 21,
   "metadata": {},
   "outputs": [
    {
     "data": {
      "text/html": [
       "<div>\n",
       "<style scoped>\n",
       "    .dataframe tbody tr th:only-of-type {\n",
       "        vertical-align: middle;\n",
       "    }\n",
       "\n",
       "    .dataframe tbody tr th {\n",
       "        vertical-align: top;\n",
       "    }\n",
       "\n",
       "    .dataframe thead th {\n",
       "        text-align: right;\n",
       "    }\n",
       "</style>\n",
       "<table border=\"1\" class=\"dataframe\">\n",
       "  <thead>\n",
       "    <tr style=\"text-align: right;\">\n",
       "      <th></th>\n",
       "      <th>chest_ACC_x</th>\n",
       "      <th>chest_ACC_y</th>\n",
       "      <th>chest_ACC_z</th>\n",
       "      <th>chest_ECG</th>\n",
       "      <th>chest_Resp</th>\n",
       "      <th>wrist_ACC_x</th>\n",
       "      <th>wrist_ACC_y</th>\n",
       "      <th>wrist_ACC_z</th>\n",
       "      <th>wrist_BVP</th>\n",
       "      <th>weight</th>\n",
       "      <th>gender</th>\n",
       "      <th>age</th>\n",
       "      <th>height</th>\n",
       "      <th>skin</th>\n",
       "      <th>sport</th>\n",
       "      <th>wrist_EDA</th>\n",
       "      <th>wrist_TEMP</th>\n",
       "      <th>activity</th>\n",
       "    </tr>\n",
       "  </thead>\n",
       "  <tbody>\n",
       "    <tr>\n",
       "      <td>0</td>\n",
       "      <td>0.852157</td>\n",
       "      <td>-0.066488</td>\n",
       "      <td>-0.367784</td>\n",
       "      <td>0.035650</td>\n",
       "      <td>4.834438</td>\n",
       "      <td>-0.763672</td>\n",
       "      <td>-0.076172</td>\n",
       "      <td>0.669922</td>\n",
       "      <td>0.138125</td>\n",
       "      <td>78.0</td>\n",
       "      <td>m</td>\n",
       "      <td>34</td>\n",
       "      <td>182.0</td>\n",
       "      <td>3</td>\n",
       "      <td>6</td>\n",
       "      <td>4.722437</td>\n",
       "      <td>32.13</td>\n",
       "      <td>0.0</td>\n",
       "    </tr>\n",
       "    <tr>\n",
       "      <td>1</td>\n",
       "      <td>0.851262</td>\n",
       "      <td>-0.066655</td>\n",
       "      <td>-0.370442</td>\n",
       "      <td>0.103145</td>\n",
       "      <td>4.238839</td>\n",
       "      <td>-0.763672</td>\n",
       "      <td>-0.078125</td>\n",
       "      <td>0.671875</td>\n",
       "      <td>-26.262500</td>\n",
       "      <td>78.0</td>\n",
       "      <td>m</td>\n",
       "      <td>34</td>\n",
       "      <td>182.0</td>\n",
       "      <td>3</td>\n",
       "      <td>6</td>\n",
       "      <td>4.728843</td>\n",
       "      <td>32.16</td>\n",
       "      <td>0.0</td>\n",
       "    </tr>\n",
       "    <tr>\n",
       "      <td>2</td>\n",
       "      <td>0.851570</td>\n",
       "      <td>-0.064677</td>\n",
       "      <td>-0.370251</td>\n",
       "      <td>0.099101</td>\n",
       "      <td>2.058559</td>\n",
       "      <td>-0.761719</td>\n",
       "      <td>-0.078125</td>\n",
       "      <td>0.671875</td>\n",
       "      <td>-40.959375</td>\n",
       "      <td>78.0</td>\n",
       "      <td>m</td>\n",
       "      <td>34</td>\n",
       "      <td>182.0</td>\n",
       "      <td>3</td>\n",
       "      <td>6</td>\n",
       "      <td>4.718594</td>\n",
       "      <td>32.16</td>\n",
       "      <td>0.0</td>\n",
       "    </tr>\n",
       "    <tr>\n",
       "      <td>3</td>\n",
       "      <td>0.852142</td>\n",
       "      <td>-0.065486</td>\n",
       "      <td>-0.371278</td>\n",
       "      <td>-0.170757</td>\n",
       "      <td>-0.463981</td>\n",
       "      <td>-0.753906</td>\n",
       "      <td>-0.078125</td>\n",
       "      <td>0.671875</td>\n",
       "      <td>24.173125</td>\n",
       "      <td>78.0</td>\n",
       "      <td>m</td>\n",
       "      <td>34</td>\n",
       "      <td>182.0</td>\n",
       "      <td>3</td>\n",
       "      <td>6</td>\n",
       "      <td>4.717312</td>\n",
       "      <td>32.16</td>\n",
       "      <td>0.0</td>\n",
       "    </tr>\n",
       "    <tr>\n",
       "      <td>4</td>\n",
       "      <td>0.851958</td>\n",
       "      <td>-0.065894</td>\n",
       "      <td>-0.370466</td>\n",
       "      <td>-0.036633</td>\n",
       "      <td>-1.867397</td>\n",
       "      <td>-0.761719</td>\n",
       "      <td>-0.076172</td>\n",
       "      <td>0.671875</td>\n",
       "      <td>25.781250</td>\n",
       "      <td>78.0</td>\n",
       "      <td>m</td>\n",
       "      <td>34</td>\n",
       "      <td>182.0</td>\n",
       "      <td>3</td>\n",
       "      <td>6</td>\n",
       "      <td>4.713469</td>\n",
       "      <td>32.16</td>\n",
       "      <td>0.0</td>\n",
       "    </tr>\n",
       "  </tbody>\n",
       "</table>\n",
       "</div>"
      ],
      "text/plain": [
       "   chest_ACC_x  chest_ACC_y  chest_ACC_z  chest_ECG  chest_Resp  wrist_ACC_x  \\\n",
       "0     0.852157    -0.066488    -0.367784   0.035650    4.834438    -0.763672   \n",
       "1     0.851262    -0.066655    -0.370442   0.103145    4.238839    -0.763672   \n",
       "2     0.851570    -0.064677    -0.370251   0.099101    2.058559    -0.761719   \n",
       "3     0.852142    -0.065486    -0.371278  -0.170757   -0.463981    -0.753906   \n",
       "4     0.851958    -0.065894    -0.370466  -0.036633   -1.867397    -0.761719   \n",
       "\n",
       "   wrist_ACC_y  wrist_ACC_z  wrist_BVP  weight gender  age  height  skin  \\\n",
       "0    -0.076172     0.669922   0.138125    78.0      m   34   182.0     3   \n",
       "1    -0.078125     0.671875 -26.262500    78.0      m   34   182.0     3   \n",
       "2    -0.078125     0.671875 -40.959375    78.0      m   34   182.0     3   \n",
       "3    -0.078125     0.671875  24.173125    78.0      m   34   182.0     3   \n",
       "4    -0.076172     0.671875  25.781250    78.0      m   34   182.0     3   \n",
       "\n",
       "   sport  wrist_EDA  wrist_TEMP  activity  \n",
       "0      6   4.722437       32.13       0.0  \n",
       "1      6   4.728843       32.16       0.0  \n",
       "2      6   4.718594       32.16       0.0  \n",
       "3      6   4.717312       32.16       0.0  \n",
       "4      6   4.713469       32.16       0.0  "
      ]
     },
     "execution_count": 21,
     "metadata": {},
     "output_type": "execute_result"
    }
   ],
   "source": [
    "df.head()"
   ]
  },
  {
   "cell_type": "markdown",
   "metadata": {},
   "source": [
    "### 4.2 Binning\n",
    "\n",
    "On change les données non-numériques afin de les rendre numériques pour nos différents modèles."
   ]
  },
  {
   "cell_type": "code",
   "execution_count": 22,
   "metadata": {},
   "outputs": [],
   "source": [
    "# On remplace m et f par 0 et 1 respectivement\n",
    "df['gender'] = df['gender'].apply(lambda genre: 0 if 'm' in genre else 1)"
   ]
  },
  {
   "cell_type": "markdown",
   "metadata": {},
   "source": [
    "On vérifie que chacune des features est une colonne de type numérique."
   ]
  },
  {
   "cell_type": "code",
   "execution_count": 23,
   "metadata": {},
   "outputs": [
    {
     "data": {
      "text/plain": [
       "chest_ACC_x    float64\n",
       "chest_ACC_y    float64\n",
       "chest_ACC_z    float64\n",
       "chest_ECG      float64\n",
       "chest_Resp     float64\n",
       "wrist_ACC_x    float64\n",
       "wrist_ACC_y    float64\n",
       "wrist_ACC_z    float64\n",
       "wrist_BVP      float64\n",
       "weight         float64\n",
       "gender           int64\n",
       "age              int64\n",
       "height         float64\n",
       "skin             int64\n",
       "sport            int64\n",
       "wrist_EDA      float64\n",
       "wrist_TEMP     float64\n",
       "activity       float64\n",
       "dtype: object"
      ]
     },
     "execution_count": 23,
     "metadata": {},
     "output_type": "execute_result"
    }
   ],
   "source": [
    "df.dtypes"
   ]
  },
  {
   "cell_type": "markdown",
   "metadata": {},
   "source": [
    "### 4.3 Corrélation entre les variables et la cible"
   ]
  },
  {
   "cell_type": "code",
   "execution_count": 24,
   "metadata": {},
   "outputs": [
    {
     "data": {
      "text/plain": [
       "<matplotlib.axes._subplots.AxesSubplot at 0x2767fb17b08>"
      ]
     },
     "execution_count": 24,
     "metadata": {},
     "output_type": "execute_result"
    },
    {
     "data": {
      "image/png": "[encoded data removed]",
      "text/plain": [
       "<Figure size 432x288 with 2 Axes>"
      ]
     },
     "metadata": {
      "needs_background": "light"
     },
     "output_type": "display_data"
    }
   ],
   "source": [
    "corr = df.corr()\n",
    "sn.heatmap(corr, xticklabels=corr.columns, yticklabels=corr.columns)"
   ]
  },
  {
   "cell_type": "markdown",
   "metadata": {},
   "source": [
    "## 5. Création de jeux d'apprentissage et de test\n",
    "\n",
    "On sépare les features de la variable cible (**activity**), puis on crée des jeux d'apprentissage et de test."
   ]
  },
  {
   "cell_type": "code",
   "execution_count": 24,
   "metadata": {},
   "outputs": [
    {
     "name": "stdout",
     "output_type": "stream",
     "text": [
      "X_train : (414364, 17)\n",
      "X_test  : (103592, 17)\n",
      "y_train : (414364,)\n",
      "y_test  : (103592,)\n"
     ]
    }
   ],
   "source": [
    "from sklearn.model_selection import train_test_split\n",
    "\n",
    "X, y = df.values[:, :-1], df.values[:, -1]\n",
    "\n",
    "X_train, X_test, y_train, y_test = train_test_split(X, y, test_size=0.2)\n",
    "\n",
    "print(\"X_train\".ljust(8, ' ') + \":\", X_train.shape)\n",
    "print(\"X_test\".ljust(8, ' ') + \":\", X_test.shape)\n",
    "print(\"y_train\".ljust(8, ' ') + \":\", y_train.shape)\n",
    "print(\"y_test\".ljust(8, ' ') + \":\", y_test.shape)"
   ]
  },
  {
   "cell_type": "markdown",
   "metadata": {},
   "source": [
    "## 6.Création des modèles de classification"
   ]
  },
  {
   "cell_type": "markdown",
   "metadata": {},
   "source": [
    "### 6.1 Import des différents modèles\n",
    "\n",
    "Nous utiliserons ici les modèles suivants :\n",
    "- K Nearest Neighbors\n",
    "- Stochastic Gradient Descent\n",
    "- Arbre de Décision\n",
    "- Réseau de neurones\n",
    "- Random Forest"
   ]
  },
  {
   "cell_type": "code",
   "execution_count": 25,
   "metadata": {},
   "outputs": [],
   "source": [
    "from sklearn.neighbors import KNeighborsClassifier\n",
    "from sklearn.linear_model import SGDClassifier\n",
    "from sklearn.tree import DecisionTreeClassifier\n",
    "from sklearn.ensemble import RandomForestClassifier"
   ]
  },
  {
   "cell_type": "code",
   "execution_count": 26,
   "metadata": {},
   "outputs": [
    {
     "name": "stderr",
     "output_type": "stream",
     "text": [
      "D:\\Dev\\anaconda\\lib\\site-packages\\sklearn\\externals\\joblib\\__init__.py:15: DeprecationWarning: sklearn.externals.joblib is deprecated in 0.21 and will be removed in 0.23. Please import this functionality directly from joblib, which can be installed with: pip install joblib. If this warning is raised when loading pickled models, you may need to re-serialize those models with scikit-learn 0.21+.\n",
      "  warnings.warn(msg, category=DeprecationWarning)\n"
     ]
    }
   ],
   "source": [
    "from sklearn.model_selection import validation_curve, GridSearchCV\n",
    "from sklearn.metrics import accuracy_score, confusion_matrix\n",
    "from sklearn.externals import joblib"
   ]
  },
  {
   "cell_type": "markdown",
   "metadata": {},
   "source": [
    "### 6.2 Utilitaires"
   ]
  },
  {
   "cell_type": "code",
   "execution_count": 27,
   "metadata": {},
   "outputs": [],
   "source": [
    "# Affiche une matrice de confusion avec matplotlib\n",
    "def plot_confusion_matrix(cm, classes,\n",
    "                          normalize=False,\n",
    "                          title='Confusion matrix',\n",
    "                          cmap=plt.cm.Blues):\n",
    "\n",
    "    if normalize:\n",
    "        cm = cm.astype('float') / cm.sum(axis=1)[:, np.newaxis]\n",
    "\n",
    "    plt.imshow(cm, interpolation='nearest', cmap=cmap)\n",
    "    plt.title(title)\n",
    "    plt.colorbar()\n",
    "    tick_marks = np.arange(len(classes))\n",
    "    plt.xticks(tick_marks, classes, rotation=45)\n",
    "    plt.yticks(tick_marks, classes)\n",
    "\n",
    "    fmt = '.2f' if normalize else 'd'\n",
    "    thresh = (cm.max() + cm.min()) / 2.\n",
    "    for i, j in itertools.product(range(cm.shape[0]), range(cm.shape[1])):\n",
    "        plt.text(j, i, format(cm[i, j], fmt),\n",
    "                 horizontalalignment=\"center\",\n",
    "                 color=\"white\" if cm[i, j] > thresh else \"black\")\n",
    "\n",
    "    plt.tight_layout()\n",
    "    plt.ylabel('Activité réelle')\n",
    "    plt.xlabel('Activité prédite')"
   ]
  },
  {
   "cell_type": "code",
   "execution_count": 28,
   "metadata": {},
   "outputs": [],
   "source": [
    "def to_percent(proba):\n",
    "    return round(proba * 100, 3)"
   ]
  },
  {
   "cell_type": "code",
   "execution_count": 29,
   "metadata": {},
   "outputs": [],
   "source": [
    "def printGridSearchCVResults(gs_results):\n",
    "    print(\"Meilleure précision :\", gs_results.best_score_)\n",
    "    print(\"Meilleur estimateur :\", gs_results.best_estimator_)\n",
    "    print(\"Meilleurs paramètres :\", gs_results.best_params_)"
   ]
  },
  {
   "cell_type": "markdown",
   "metadata": {},
   "source": [
    "Afin de différencier la précision des modèles, on ajoutera leurs précisions respectivement dans une dataframe à chaque fin d'entraînement du modèle."
   ]
  },
  {
   "cell_type": "code",
   "execution_count": 30,
   "metadata": {},
   "outputs": [],
   "source": [
    "# DataFrame répertoriant la précision de chaque algorithme\n",
    "accuracy = pd.DataFrame(columns=['Algorithm', 'Accuracy'])\n",
    "# Matrices de confusion\n",
    "cm = [] "
   ]
  },
  {
   "cell_type": "markdown",
   "metadata": {},
   "source": [
    "### 6.3 K Nearest Neighbors"
   ]
  },
  {
   "cell_type": "markdown",
   "metadata": {},
   "source": [
    "Nous allons réaliser une grille de recherche du modèle K Nearest Neighbors afin d'obtenir les paramètres optimaux et ainsi obtenir le meilleur score."
   ]
  },
  {
   "cell_type": "code",
   "execution_count": 31,
   "metadata": {},
   "outputs": [
    {
     "name": "stdout",
     "output_type": "stream",
     "text": [
      "Fitting 3 folds for each of 16 candidates, totalling 48 fits\n"
     ]
    },
    {
     "name": "stderr",
     "output_type": "stream",
     "text": [
      "[Parallel(n_jobs=-1)]: Using backend LokyBackend with 12 concurrent workers.\n",
      "[Parallel(n_jobs=-1)]: Done  48 out of  48 | elapsed:  2.8min finished\n"
     ]
    }
   ],
   "source": [
    "grid_knn_params = {\n",
    "    'n_neighbors': [3, 5, 11, 19],\n",
    "    'weights': ['uniform', 'distance'],\n",
    "    'metric': ['euclidean', 'manhattan']\n",
    "}\n",
    "\n",
    "gs_knn = GridSearchCV(\n",
    "    KNeighborsClassifier(),\n",
    "    grid_knn_params,\n",
    "    verbose = 1,\n",
    "    cv = 3,\n",
    "    n_jobs = -1\n",
    ")\n",
    "\n",
    "gs_knn_results = gs_knn.fit(X_train, y_train)"
   ]
  },
  {
   "cell_type": "code",
   "execution_count": 32,
   "metadata": {},
   "outputs": [
    {
     "name": "stdout",
     "output_type": "stream",
     "text": [
      "Meilleure précision : 0.7802849668407487\n",
      "Meilleur estimateur : KNeighborsClassifier(algorithm='auto', leaf_size=30, metric='manhattan',\n",
      "                     metric_params=None, n_jobs=None, n_neighbors=5, p=2,\n",
      "                     weights='distance')\n",
      "Meilleurs paramètres : {'metric': 'manhattan', 'n_neighbors': 5, 'weights': 'distance'}\n"
     ]
    }
   ],
   "source": [
    "printGridSearchCVResults(gs_knn_results)"
   ]
  },
  {
   "cell_type": "markdown",
   "metadata": {},
   "source": [
    "Même en utilisant une grille de recherche pour trouver les meilleurs paramètres, on obtient une précision d'environ 78%, ce qui reste encore assez faible. Avec un peu de recherche supplémentaire, on peut voir qu'augmenter la valeur de k semble rapprocher les scores de training et de cross-validation.\n",
    "\n",
    "**Attention :** le code commenté ci-dessous l'est dû à son temps d'exécution. Un graphique résumé se situe à la suite."
   ]
  },
  {
   "cell_type": "code",
   "execution_count": 33,
   "metadata": {},
   "outputs": [],
   "source": [
    "# n_neighbors = [3, 5, 11, 19]\n",
    "# \n",
    "# train_scoreNum, test_scoreNum = validation_curve(\n",
    "#                                 KNeighborsClassifier(),\n",
    "#                                 X = X_train, y = y_train, \n",
    "#                                 param_name = 'n_neighbors', \n",
    "#                                 param_range = n_neighbors, cv = 3)"
   ]
  },
  {
   "cell_type": "code",
   "execution_count": 34,
   "metadata": {},
   "outputs": [],
   "source": [
    "# train_scores_mean =  np.mean(train_scoreNum, axis=1)\n",
    "# test_scores_mean = np.mean(test_scoreNum, axis=1)\n",
    "# \n",
    "# plt.title(\"Courbe de validation KNN\")\n",
    "# plt.xlabel(\"Nombre de voisins n_neighbors\")\n",
    "# plt.ylabel(\"Précision\")\n",
    "# plt.ylim(top=1.1)\n",
    "# plt.plot(n_neighbors, train_scores_mean, label=\"Training score\",\n",
    "#              color=\"darkorange\", lw=2)\n",
    "# plt.plot(n_neighbors, test_scores_mean, label=\"Cross-validation score\",\n",
    "#              color=\"blue\", lw=2)\n",
    "# plt.plot()\n",
    "# plt.legend(loc=\"best\")\n",
    "# plt.savefig('./figures/knn_n_neighbors.png')"
   ]
  },
  {
   "cell_type": "markdown",
   "metadata": {},
   "source": [
    "![knn](./figures/knn_n_neighbors.png)"
   ]
  },
  {
   "cell_type": "code",
   "execution_count": 35,
   "metadata": {},
   "outputs": [],
   "source": [
    "knn = KNeighborsClassifier(n_neighbors=19,\n",
    "                           metric='manhattan',\n",
    "                           weights='distance')\n",
    "knn.fit(X_train, y_train)\n",
    "knn_y_pred = knn.predict(X_test)\n",
    "\n",
    "accuracy = accuracy.append({\n",
    "    'Algorithm': 'K Nearest Neighbors',\n",
    "    'Accuracy': to_percent(accuracy_score(y_test, knn_y_pred))\n",
    "}, ignore_index=True)\n",
    "\n",
    "cm.append({\n",
    "    'title': 'K Nearest Neighbors',\n",
    "    'matrix': confusion_matrix(y_test, knn_y_pred)\n",
    "})"
   ]
  },
  {
   "cell_type": "markdown",
   "metadata": {},
   "source": [
    "### 6.4 Stochastic Gradient Descent"
   ]
  },
  {
   "cell_type": "code",
   "execution_count": 36,
   "metadata": {},
   "outputs": [],
   "source": [
    "def SGD(loss='perceptron'):\n",
    "    sgd = SGDClassifier(loss=loss, shuffle=True, random_state=0)\n",
    "    sgd.fit(X_train, y_train)\n",
    "    sgd_y_pred = sgd.predict(X_test)\n",
    "    return sgd_y_pred"
   ]
  },
  {
   "cell_type": "markdown",
   "metadata": {},
   "source": [
    "**Attention :** le code commenté ci-dessous l'est dû à son temps d'exécution. Les résultats résumés sont disponibles ci-dessous."
   ]
  },
  {
   "cell_type": "code",
   "execution_count": 37,
   "metadata": {},
   "outputs": [
    {
     "name": "stdout",
     "output_type": "stream",
     "text": [
      "Fitting 3 folds for each of 5 candidates, totalling 15 fits\n"
     ]
    },
    {
     "name": "stderr",
     "output_type": "stream",
     "text": [
      "[Parallel(n_jobs=-1)]: Using backend LokyBackend with 12 concurrent workers.\n",
      "[Parallel(n_jobs=-1)]: Done   8 out of  15 | elapsed:  6.6min remaining:  5.8min\n",
      "[Parallel(n_jobs=-1)]: Done  15 out of  15 | elapsed:  9.1min finished\n"
     ]
    }
   ],
   "source": [
    "# grid_sgd_params = {\n",
    "#     'loss': ['hinge', 'log', 'modified_huber', 'squared_hinge', 'perceptron']\n",
    "# }\n",
    "# \n",
    "# gs_sgd = GridSearchCV(\n",
    "#     SGDClassifier(),\n",
    "#     grid_sgd_params,\n",
    "#     verbose = 1,\n",
    "#     cv = 3,\n",
    "#     n_jobs = -1\n",
    "# )\n",
    "# \n",
    "# gs_sgd_results = gs_sgd.fit(X_train, y_train)"
   ]
  },
  {
   "cell_type": "code",
   "execution_count": 38,
   "metadata": {},
   "outputs": [
    {
     "name": "stdout",
     "output_type": "stream",
     "text": [
      "Meilleure précision : 0.46846492455908334\n",
      "Meilleur estimateur : SGDClassifier(alpha=0.0001, average=False, class_weight=None,\n",
      "              early_stopping=False, epsilon=0.1, eta0=0.0, fit_intercept=True,\n",
      "              l1_ratio=0.15, learning_rate='optimal', loss='log', max_iter=1000,\n",
      "              n_iter_no_change=5, n_jobs=None, penalty='l2', power_t=0.5,\n",
      "              random_state=None, shuffle=True, tol=0.001,\n",
      "              validation_fraction=0.1, verbose=0, warm_start=False)\n",
      "Meilleurs paramètres : {'loss': 'log'}\n"
     ]
    }
   ],
   "source": [
    "# printGridSearchCVResults(gs_sgd_results)"
   ]
  },
  {
   "cell_type": "code",
   "execution_count": 39,
   "metadata": {},
   "outputs": [],
   "source": [
    "sgd_pred = SGD()\n",
    "\n",
    "accuracy = accuracy.append({\n",
    "    'Algorithm': 'Stochastic Gradient Descent',\n",
    "    'Accuracy': to_percent(accuracy_score(y_test, sgd_pred))\n",
    "}, ignore_index=True)\n",
    "\n",
    "cm.append({\n",
    "    'title': 'Stochastic Gradient Descent',\n",
    "    'matrix': confusion_matrix(y_test, sgd_pred)\n",
    "})"
   ]
  },
  {
   "cell_type": "markdown",
   "metadata": {},
   "source": [
    "### 6.5 Arbre de décision"
   ]
  },
  {
   "cell_type": "code",
   "execution_count": 40,
   "metadata": {},
   "outputs": [],
   "source": [
    "def decision_tree(maxDepth=None):\n",
    "    dtree = DecisionTreeClassifier(max_depth=maxDepth, random_state=0)\n",
    "    dtree.fit(X_train, y_train)\n",
    "    dtree_y_pred = dtree.predict(X_test)\n",
    "    return dtree_y_pred"
   ]
  },
  {
   "cell_type": "markdown",
   "metadata": {},
   "source": [
    "Nous allons réaliser une grille de recherche du modèle d'arbre de décision afin d'obtenir les paramètres optimaux et ainsi obtenir le meilleur score."
   ]
  },
  {
   "cell_type": "code",
   "execution_count": 41,
   "metadata": {},
   "outputs": [
    {
     "name": "stdout",
     "output_type": "stream",
     "text": [
      "Fitting 3 folds for each of 17 candidates, totalling 51 fits\n"
     ]
    },
    {
     "name": "stderr",
     "output_type": "stream",
     "text": [
      "[Parallel(n_jobs=-1)]: Using backend LokyBackend with 12 concurrent workers.\n",
      "[Parallel(n_jobs=-1)]: Done  26 tasks      | elapsed:   19.8s\n",
      "[Parallel(n_jobs=-1)]: Done  51 out of  51 | elapsed:   38.6s finished\n"
     ]
    }
   ],
   "source": [
    "grid_dt_params = {\n",
    "    'max_depth': np.arange(3, 20)\n",
    "}\n",
    "\n",
    "gs_dt = GridSearchCV(\n",
    "    DecisionTreeClassifier(),\n",
    "    grid_dt_params,\n",
    "    verbose = 1,\n",
    "    cv = 3,\n",
    "    n_jobs = -1\n",
    ")\n",
    "\n",
    "gs_dt_results = gs_dt.fit(X_train, y_train)"
   ]
  },
  {
   "cell_type": "code",
   "execution_count": 42,
   "metadata": {},
   "outputs": [
    {
     "name": "stdout",
     "output_type": "stream",
     "text": [
      "Meilleure précision : 0.9528313270457859\n",
      "Meilleur estimateur : DecisionTreeClassifier(class_weight=None, criterion='gini', max_depth=19,\n",
      "                       max_features=None, max_leaf_nodes=None,\n",
      "                       min_impurity_decrease=0.0, min_impurity_split=None,\n",
      "                       min_samples_leaf=1, min_samples_split=2,\n",
      "                       min_weight_fraction_leaf=0.0, presort=False,\n",
      "                       random_state=None, splitter='best')\n",
      "Meilleurs paramètres : {'max_depth': 19}\n"
     ]
    }
   ],
   "source": [
    "printGridSearchCVResults(gs_dt_results)"
   ]
  },
  {
   "cell_type": "markdown",
   "metadata": {},
   "source": [
    "On arrive à obtenir une précision de 95,4% en utilisant un arbre de décision avec comme profondeur maximale 19 selon la grille de recherche. Cependant, une recherche plus approfondie nous montre que le modèle a une tendance de surentraînement lorsque max_depth se situe vers 14 environ.\n",
    "\n",
    "**Attention :** le code commenté ci-dessous l'est dû à son temps d'exécution. Un graphique résumé se situe à la suite."
   ]
  },
  {
   "cell_type": "code",
   "execution_count": 43,
   "metadata": {},
   "outputs": [],
   "source": [
    "# max_depths = np.linspace(1, 32, 32, endpoint=True)\n",
    "# \n",
    "# train_scoreNum, test_scoreNum = validation_curve(\n",
    "#                                 DecisionTreeClassifier(),\n",
    "#                                 X = X_train, y = y_train, \n",
    "#                                 param_name = 'max_depth', \n",
    "#                                 param_range = max_depths, cv = 3)\n",
    "# \n",
    "# dt_max_depth_none_acc = np.full((32, 1), accuracy_score(y_test, decision_tree()))"
   ]
  },
  {
   "cell_type": "code",
   "execution_count": 44,
   "metadata": {},
   "outputs": [],
   "source": [
    "# train_scores_mean =  np.mean(train_scoreNum, axis=1)\n",
    "# test_scores_mean = np.mean(test_scoreNum, axis=1)\n",
    "# \n",
    "# plt.title(\"Courbe de validation Arbre de Décision\")\n",
    "# plt.xlabel(\"Profondeur maximale de l'arbre max_depth\")\n",
    "# plt.ylabel(\"Précision\")\n",
    "# plt.ylim(top=1.1)\n",
    "# plt.plot(max_depths, train_scores_mean, label=\"Training score\",\n",
    "#              color=\"darkorange\", lw=2)\n",
    "# plt.plot(max_depths, test_scores_mean, label=\"Cross-validation score\",\n",
    "#              color=\"blue\", lw=2)\n",
    "# plt.plot(max_depths, dt_max_depth_none_acc, label=\"max_depth = None\",\n",
    "#              color=\"cornflowerblue\", lw=2)\n",
    "# plt.plot()\n",
    "# plt.legend(loc=\"best\")\n",
    "# plt.savefig('./figures/dt_max_depth.png')"
   ]
  },
  {
   "cell_type": "markdown",
   "metadata": {},
   "source": [
    "![dt_max_depth](./figures/dt_max_depth.png)\n",
    "\n",
    "On peut ainsi remarquer une tendance de surentraînement lorsqu'on arrive vers n = 14. On peut alors affiner notre modèle pour utiliser max_depth = 14 par la suite."
   ]
  },
  {
   "cell_type": "code",
   "execution_count": 45,
   "metadata": {},
   "outputs": [],
   "source": [
    "dtree_y_pred = decision_tree(14)\n",
    "\n",
    "accuracy = accuracy.append({\n",
    "    'Algorithm': 'Decision Tree',\n",
    "    'Accuracy': to_percent(accuracy_score(y_test, dtree_y_pred))\n",
    "}, ignore_index=True)\n",
    "\n",
    "cm.append({\n",
    "    'title': 'Arbre de décision',\n",
    "    'matrix': confusion_matrix(y_test, dtree_y_pred)\n",
    "})"
   ]
  },
  {
   "cell_type": "markdown",
   "metadata": {},
   "source": [
    "### 6.6 Réseau de neurones "
   ]
  },
  {
   "cell_type": "code",
   "execution_count": 46,
   "metadata": {},
   "outputs": [
    {
     "name": "stdout",
     "output_type": "stream",
     "text": [
      "(414364, 9)\n",
      "(103592, 9)\n",
      "WARNING:tensorflow:From D:\\Dev\\anaconda\\lib\\site-packages\\keras\\backend\\tensorflow_backend.py:74: The name tf.get_default_graph is deprecated. Please use tf.compat.v1.get_default_graph instead.\n",
      "\n",
      "WARNING:tensorflow:From D:\\Dev\\anaconda\\lib\\site-packages\\keras\\backend\\tensorflow_backend.py:517: The name tf.placeholder is deprecated. Please use tf.compat.v1.placeholder instead.\n",
      "\n",
      "WARNING:tensorflow:From D:\\Dev\\anaconda\\lib\\site-packages\\keras\\backend\\tensorflow_backend.py:4138: The name tf.random_uniform is deprecated. Please use tf.random.uniform instead.\n",
      "\n",
      "WARNING:tensorflow:From D:\\Dev\\anaconda\\lib\\site-packages\\keras\\optimizers.py:790: The name tf.train.Optimizer is deprecated. Please use tf.compat.v1.train.Optimizer instead.\n",
      "\n",
      "WARNING:tensorflow:From D:\\Dev\\anaconda\\lib\\site-packages\\keras\\backend\\tensorflow_backend.py:3295: The name tf.log is deprecated. Please use tf.math.log instead.\n",
      "\n",
      "WARNING:tensorflow:From D:\\Dev\\anaconda\\lib\\site-packages\\tensorflow_core\\python\\ops\\math_grad.py:1424: where (from tensorflow.python.ops.array_ops) is deprecated and will be removed in a future version.\n",
      "Instructions for updating:\n",
      "Use tf.where in 2.0, which has the same broadcast rule as np.where\n",
      "WARNING:tensorflow:From D:\\Dev\\anaconda\\lib\\site-packages\\keras\\backend\\tensorflow_backend.py:986: The name tf.assign_add is deprecated. Please use tf.compat.v1.assign_add instead.\n",
      "\n",
      "WARNING:tensorflow:From D:\\Dev\\anaconda\\lib\\site-packages\\keras\\backend\\tensorflow_backend.py:973: The name tf.assign is deprecated. Please use tf.compat.v1.assign instead.\n",
      "\n",
      "WARNING:tensorflow:From D:\\Dev\\anaconda\\lib\\site-packages\\keras\\backend\\tensorflow_backend.py:2741: The name tf.Session is deprecated. Please use tf.compat.v1.Session instead.\n",
      "\n",
      "Epoch 1/15\n",
      "WARNING:tensorflow:From D:\\Dev\\anaconda\\lib\\site-packages\\keras\\backend\\tensorflow_backend.py:174: The name tf.get_default_session is deprecated. Please use tf.compat.v1.get_default_session instead.\n",
      "\n",
      "WARNING:tensorflow:From D:\\Dev\\anaconda\\lib\\site-packages\\keras\\backend\\tensorflow_backend.py:181: The name tf.ConfigProto is deprecated. Please use tf.compat.v1.ConfigProto instead.\n",
      "\n",
      "WARNING:tensorflow:From D:\\Dev\\anaconda\\lib\\site-packages\\keras\\backend\\tensorflow_backend.py:190: The name tf.global_variables is deprecated. Please use tf.compat.v1.global_variables instead.\n",
      "\n",
      "WARNING:tensorflow:From D:\\Dev\\anaconda\\lib\\site-packages\\keras\\backend\\tensorflow_backend.py:199: The name tf.is_variable_initialized is deprecated. Please use tf.compat.v1.is_variable_initialized instead.\n",
      "\n",
      "WARNING:tensorflow:From D:\\Dev\\anaconda\\lib\\site-packages\\keras\\backend\\tensorflow_backend.py:206: The name tf.variables_initializer is deprecated. Please use tf.compat.v1.variables_initializer instead.\n",
      "\n",
      "414364/414364 [==============================] - 52s 126us/step - loss: 1.0345 - acc: 0.6140\n",
      "Epoch 2/15\n",
      "414364/414364 [==============================] - 50s 120us/step - loss: 0.6134 - acc: 0.7705\n",
      "Epoch 3/15\n",
      "414364/414364 [==============================] - 49s 119us/step - loss: 0.5148 - acc: 0.8089\n",
      "Epoch 4/15\n",
      "414364/414364 [==============================] - 56s 136us/step - loss: 0.4703 - acc: 0.8264\n",
      "Epoch 5/15\n",
      "414364/414364 [==============================] - 49s 118us/step - loss: 0.4419 - acc: 0.8373\n",
      "Epoch 6/15\n",
      "414364/414364 [==============================] - 50s 122us/step - loss: 0.4187 - acc: 0.8454\n",
      "Epoch 7/15\n",
      "414364/414364 [==============================] - 51s 123us/step - loss: 0.4028 - acc: 0.8523\n",
      "Epoch 8/15\n",
      "414364/414364 [==============================] - 49s 119us/step - loss: 0.3885 - acc: 0.8579\n",
      "Epoch 9/15\n",
      "414364/414364 [==============================] - 52s 127us/step - loss: 0.3797 - acc: 0.8616\n",
      "Epoch 10/15\n",
      "414364/414364 [==============================] - 49s 119us/step - loss: 0.3694 - acc: 0.8653\n",
      "Epoch 11/15\n",
      "414364/414364 [==============================] - 49s 118us/step - loss: 0.3634 - acc: 0.8678\n",
      "Epoch 12/15\n",
      "414364/414364 [==============================] - 49s 118us/step - loss: 0.3559 - acc: 0.8707\n",
      "Epoch 13/15\n",
      "414364/414364 [==============================] - 50s 120us/step - loss: 0.3491 - acc: 0.8732\n",
      "Epoch 14/15\n",
      "414364/414364 [==============================] - 49s 119us/step - loss: 0.3423 - acc: 0.8756\n",
      "Epoch 15/15\n",
      "414364/414364 [==============================] - 54s 131us/step - loss: 0.3372 - acc: 0.8772\n"
     ]
    },
    {
     "data": {
      "text/plain": [
       "<keras.callbacks.History at 0x16982257248>"
      ]
     },
     "execution_count": 46,
     "metadata": {},
     "output_type": "execute_result"
    }
   ],
   "source": [
    "# Nombre de features\n",
    "n_features = X_train.shape[1]\n",
    "\n",
    "keras_y_train = to_categorical(y_train)\n",
    "keras_y_test = to_categorical(y_test)\n",
    "\n",
    "print(keras_y_train.shape)\n",
    "print(keras_y_test.shape)\n",
    "\n",
    "model = Sequential()\n",
    "model.add(Dense(500, activation='relu', input_dim=n_features))\n",
    "model.add(Dense(100, activation='relu'))\n",
    "model.add(Dense(50, activation='relu'))\n",
    "model.add(Dense(9, activation='softmax'))\n",
    "\n",
    "# Compilation du modèle\n",
    "model.compile(optimizer='adam', loss='categorical_crossentropy', metrics=['accuracy'])\n",
    "# Fit du modèle\n",
    "model.fit(X_train, keras_y_train, epochs=15)"
   ]
  },
  {
   "cell_type": "code",
   "execution_count": 47,
   "metadata": {},
   "outputs": [
    {
     "name": "stdout",
     "output_type": "stream",
     "text": [
      "103592/103592 [==============================] - 4s 38us/step\n"
     ]
    }
   ],
   "source": [
    "loss, acc = model.evaluate(X_test, keras_y_test)\n",
    "accuracy = accuracy.append({\n",
    "    'Algorithm': 'Convolutional Neural Network',\n",
    "    'Accuracy': to_percent(acc)\n",
    "}, ignore_index=True)"
   ]
  },
  {
   "cell_type": "markdown",
   "metadata": {},
   "source": [
    "### 6.7 Random Forest"
   ]
  },
  {
   "cell_type": "markdown",
   "metadata": {},
   "source": [
    "Les hyperparamètres que nous allons étudier pour la Random Forest sont **n_estimators** et **max_depth**, afin de déterminer les valeurs optimales à choisir pour notre modèle."
   ]
  },
  {
   "cell_type": "code",
   "execution_count": 48,
   "metadata": {},
   "outputs": [
    {
     "name": "stdout",
     "output_type": "stream",
     "text": [
      "Fitting 3 folds for each of 84 candidates, totalling 252 fits\n"
     ]
    },
    {
     "name": "stderr",
     "output_type": "stream",
     "text": [
      "[Parallel(n_jobs=-1)]: Using backend LokyBackend with 12 concurrent workers.\n",
      "[Parallel(n_jobs=-1)]: Done  26 tasks      | elapsed:   12.8s\n",
      "[Parallel(n_jobs=-1)]: Done 176 tasks      | elapsed:  2.9min\n",
      "[Parallel(n_jobs=-1)]: Done 252 out of 252 | elapsed:  5.0min finished\n"
     ]
    }
   ],
   "source": [
    "grid_rf_params = {\n",
    "    'max_depth': np.arange(1, 15),\n",
    "    'n_estimators': [1, 5, 10, 12, 15, 20]\n",
    "}\n",
    "\n",
    "gs_rf = GridSearchCV(\n",
    "    RandomForestClassifier(),\n",
    "    grid_rf_params,\n",
    "    verbose = 1,\n",
    "    cv = 3,\n",
    "    n_jobs = -1\n",
    ")\n",
    "\n",
    "gs_rf_results = gs_rf.fit(X_train, y_train)"
   ]
  },
  {
   "cell_type": "code",
   "execution_count": 49,
   "metadata": {},
   "outputs": [
    {
     "name": "stdout",
     "output_type": "stream",
     "text": [
      "Meilleure précision : 0.9452244886138758\n",
      "Meilleur estimateur : RandomForestClassifier(bootstrap=True, class_weight=None, criterion='gini',\n",
      "                       max_depth=14, max_features='auto', max_leaf_nodes=None,\n",
      "                       min_impurity_decrease=0.0, min_impurity_split=None,\n",
      "                       min_samples_leaf=1, min_samples_split=2,\n",
      "                       min_weight_fraction_leaf=0.0, n_estimators=20,\n",
      "                       n_jobs=None, oob_score=False, random_state=None,\n",
      "                       verbose=0, warm_start=False)\n",
      "Meilleurs paramètres : {'max_depth': 14, 'n_estimators': 20}\n"
     ]
    }
   ],
   "source": [
    "printGridSearchCVResults(gs_rf_results)"
   ]
  },
  {
   "cell_type": "markdown",
   "metadata": {},
   "source": [
    "D'après la grille de recherche, on obtient une précision de 94,4% en utilisant n_estimators = 15 et max_depth = 14."
   ]
  },
  {
   "cell_type": "code",
   "execution_count": 50,
   "metadata": {},
   "outputs": [],
   "source": [
    "def random_forest(n_estimators=10, maxDepth=None):\n",
    "    rfc = RandomForestClassifier(n_jobs=-1, random_state=0, n_estimators=n_estimators, max_depth=maxDepth)\n",
    "    rfc.fit(X_train, y_train)\n",
    "    joblib.dump(rfc, './apirest/ipynb/randomforest_model.pkl')\n",
    "    rfc_predict = rfc.predict(X_test)\n",
    "    return rfc_predict, rfc.feature_importances_"
   ]
  },
  {
   "cell_type": "markdown",
   "metadata": {},
   "source": [
    "#### Détermination du nombre optimal de n_estimators\n",
    "\n",
    "Afin de déterminer le nombre optimal de **n_estimators**, on utilise une courbe de validation testant le modèle Random Forest avec un n_estimators différent à chaque fois. Une fois affiché dans un graphe, nous pourrons ainsi déterminer le n_estimators optimal.  \n",
    "\n",
    "**Attention :** le code des cellules commentées ci-dessous l'est car il prend beaucoup de temps à exécuter, mais le graphique correspondant est affiché un peu plus bas."
   ]
  },
  {
   "cell_type": "code",
   "execution_count": 51,
   "metadata": {},
   "outputs": [],
   "source": [
    "# num_est = list(range(1,151,10))\n",
    "# \n",
    "# train_scoreNum, test_scoreNum = validation_curve(\n",
    "#                                 RandomForestClassifier(n_jobs=-1, max_depth=None),\n",
    "#                                 X = X_train, y = y_train, \n",
    "#                                 param_name = 'n_estimators', \n",
    "#                                 param_range = num_est, cv = 3)"
   ]
  },
  {
   "cell_type": "code",
   "execution_count": 52,
   "metadata": {},
   "outputs": [],
   "source": [
    "# rf_n_est_default_predict, _ = random_forest()\n",
    "# rf_n_est_default_acc = np.full((len(num_est), 1), accuracy_score(y_test, rf_n_est_default_predict))"
   ]
  },
  {
   "cell_type": "code",
   "execution_count": 53,
   "metadata": {},
   "outputs": [],
   "source": [
    "# train_scores_mean =  np.mean(train_scoreNum, axis=1)\n",
    "# test_scores_mean = np.mean(test_scoreNum, axis=1)\n",
    "# \n",
    "# plt.title(\"Courbe de validation Random Forest\")\n",
    "# plt.xlabel(\"Nombre de n_estimators\")\n",
    "# plt.ylabel(\"Précision\")\n",
    "# plt.ylim(top=1.1)\n",
    "# plt.plot(num_est, train_scores_mean, label=\"Training score\",\n",
    "#              color=\"darkorange\", lw=2)\n",
    "# plt.plot(num_est, test_scores_mean, label=\"Cross-validation score\",\n",
    "#              color=\"blue\", lw=2)\n",
    "# plt.plot(num_est, rf_n_est_default_acc, label=\"n_estimators = 10 (default)\",\n",
    "#              color=\"cornflowerblue\", lw=2)\n",
    "# plt.legend(loc=\"best\")\n",
    "# plt.savefig('./figures/rf_n_estimators.png')"
   ]
  },
  {
   "cell_type": "markdown",
   "metadata": {},
   "source": [
    "#### Détermination de la profondeur maximale optimale max_depth\n",
    "\n",
    "Afin de déterminer  la profondeur maximale optimale de chaque arbre **max_depth**, on utilise une courbe de validation testant le modèle Random Forest avec un max_depth différent à chaque fois. Une fois affiché dans un graphe, nous pourrons ainsi déterminer la profondeur maximale optimale.  \n",
    "\n",
    "**Attention :** le code des cellules commentées ci-dessous l'est car il prend beaucoup de temps à exécuter, mais le graphique correspondant est affiché un peu plus bas."
   ]
  },
  {
   "cell_type": "code",
   "execution_count": 54,
   "metadata": {},
   "outputs": [],
   "source": [
    "# max_depths = np.linspace(1, 32, 32, endpoint=True)\n",
    "# \n",
    "# train_scoreNum, test_scoreNum = validation_curve(\n",
    "#                                 RandomForestClassifier(n_jobs=-1, n_estimators=10),\n",
    "#                                 X = X_train, y = y_train, \n",
    "#                                 param_name = 'max_depth', \n",
    "#                                 param_range = max_depths, cv = 3)"
   ]
  },
  {
   "cell_type": "code",
   "execution_count": 55,
   "metadata": {},
   "outputs": [],
   "source": [
    "# rf_max_depth_none_predict, _ = random_forest()\n",
    "# rf_max_depth_none_acc = np.full((len(max_depths), 1), accuracy_score(y_test, rf_max_depth_none_predict))"
   ]
  },
  {
   "cell_type": "code",
   "execution_count": 56,
   "metadata": {},
   "outputs": [],
   "source": [
    "# train_scores_mean =  np.mean(train_scoreNum, axis=1)\n",
    "# test_scores_mean = np.mean(test_scoreNum, axis=1)\n",
    "# \n",
    "# plt.title(\"Courbe de validation Random Forest\")\n",
    "# plt.xlabel(\"Profondeur maximale de chaque arbre max_depth\")\n",
    "# plt.ylabel(\"Précision\")\n",
    "# plt.ylim(top=1.1)\n",
    "# plt.plot(max_depths, train_scores_mean, label=\"Training score\",\n",
    "#              color=\"darkorange\", lw=2)\n",
    "# plt.plot(max_depths, test_scores_mean, label=\"Cross-validation score\",\n",
    "#              color=\"blue\", lw=2)\n",
    "# plt.plot(max_depths, rf_max_depth_none_acc, label=\"max_depth = None\",\n",
    "#              color=\"cornflowerblue\", lw=2)\n",
    "# plt.legend(loc=\"best\")\n",
    "# plt.savefig('./figures/rf_max_depth.png')"
   ]
  },
  {
   "cell_type": "markdown",
   "metadata": {},
   "source": [
    "![n_estimators](./figures/rf_n_estimators.png)\n",
    "On peut se rendre compte que la précision n'augmente plus lorsque n_estimators arrive vers n = 15.\n",
    "![max_depths](./figures/rf_max_depth.png)\n",
    "On remarque que le modèle tend à faire de l'overfitting lorsque max_depth arrive vers n = 14."
   ]
  },
  {
   "cell_type": "markdown",
   "metadata": {},
   "source": [
    "La grille de recherche ayant trouvé des paramètres similaires aux notres, on décide d'utiliser max_depth = 14 et n_estimators = 15 pour la suite.\n",
    "\n",
    "Maintenant que nos hyperparamètres sont affinés pour notre modèle Random Forest, on réalise une prédiction pour obtenir un score et une matrice de confusion."
   ]
  },
  {
   "cell_type": "code",
   "execution_count": 57,
   "metadata": {},
   "outputs": [],
   "source": [
    "rfc_predict, feature_importances = random_forest(n_estimators=15, maxDepth=14)\n",
    "\n",
    "accuracy = accuracy.append({\n",
    "    'Algorithm': 'Random Forest',\n",
    "    'Accuracy': to_percent(accuracy_score(y_test, rfc_predict))\n",
    "}, ignore_index=True)\n",
    "\n",
    "cm.append({\n",
    "    'title': 'Random Forest',\n",
    "    'matrix': confusion_matrix(y_test, rfc_predict)\n",
    "})"
   ]
  },
  {
   "cell_type": "markdown",
   "metadata": {},
   "source": [
    "Avec Random Forest on peut voir quelles features sont les plus pertinentes, ce qui nous donne :"
   ]
  },
  {
   "cell_type": "code",
   "execution_count": 58,
   "metadata": {},
   "outputs": [
    {
     "data": {
      "text/html": [
       "<div>\n",
       "<style scoped>\n",
       "    .dataframe tbody tr th:only-of-type {\n",
       "        vertical-align: middle;\n",
       "    }\n",
       "\n",
       "    .dataframe tbody tr th {\n",
       "        vertical-align: top;\n",
       "    }\n",
       "\n",
       "    .dataframe thead th {\n",
       "        text-align: right;\n",
       "    }\n",
       "</style>\n",
       "<table border=\"1\" class=\"dataframe\">\n",
       "  <thead>\n",
       "    <tr style=\"text-align: right;\">\n",
       "      <th></th>\n",
       "      <th>Feature</th>\n",
       "      <th>Importance</th>\n",
       "    </tr>\n",
       "  </thead>\n",
       "  <tbody>\n",
       "    <tr>\n",
       "      <td>15</td>\n",
       "      <td>wrist_EDA</td>\n",
       "      <td>0.178132</td>\n",
       "    </tr>\n",
       "    <tr>\n",
       "      <td>16</td>\n",
       "      <td>wrist_TEMP</td>\n",
       "      <td>0.161061</td>\n",
       "    </tr>\n",
       "    <tr>\n",
       "      <td>6</td>\n",
       "      <td>wrist_ACC_y</td>\n",
       "      <td>0.130496</td>\n",
       "    </tr>\n",
       "    <tr>\n",
       "      <td>2</td>\n",
       "      <td>chest_ACC_z</td>\n",
       "      <td>0.118604</td>\n",
       "    </tr>\n",
       "    <tr>\n",
       "      <td>0</td>\n",
       "      <td>chest_ACC_x</td>\n",
       "      <td>0.073013</td>\n",
       "    </tr>\n",
       "    <tr>\n",
       "      <td>7</td>\n",
       "      <td>wrist_ACC_z</td>\n",
       "      <td>0.064404</td>\n",
       "    </tr>\n",
       "    <tr>\n",
       "      <td>5</td>\n",
       "      <td>wrist_ACC_x</td>\n",
       "      <td>0.045677</td>\n",
       "    </tr>\n",
       "    <tr>\n",
       "      <td>9</td>\n",
       "      <td>weight</td>\n",
       "      <td>0.044868</td>\n",
       "    </tr>\n",
       "    <tr>\n",
       "      <td>1</td>\n",
       "      <td>chest_ACC_y</td>\n",
       "      <td>0.043783</td>\n",
       "    </tr>\n",
       "    <tr>\n",
       "      <td>12</td>\n",
       "      <td>height</td>\n",
       "      <td>0.042615</td>\n",
       "    </tr>\n",
       "  </tbody>\n",
       "</table>\n",
       "</div>"
      ],
      "text/plain": [
       "        Feature  Importance\n",
       "15    wrist_EDA    0.178132\n",
       "16   wrist_TEMP    0.161061\n",
       "6   wrist_ACC_y    0.130496\n",
       "2   chest_ACC_z    0.118604\n",
       "0   chest_ACC_x    0.073013\n",
       "7   wrist_ACC_z    0.064404\n",
       "5   wrist_ACC_x    0.045677\n",
       "9        weight    0.044868\n",
       "1   chest_ACC_y    0.043783\n",
       "12       height    0.042615"
      ]
     },
     "execution_count": 58,
     "metadata": {},
     "output_type": "execute_result"
    }
   ],
   "source": [
    "importance = pd.DataFrame(list(zip(df.columns, feature_importances)), columns=['Feature', 'Importance'])\n",
    "importance.nlargest(10, 'Importance')"
   ]
  },
  {
   "cell_type": "code",
   "execution_count": 59,
   "metadata": {},
   "outputs": [
    {
     "data": {
      "text/plain": [
       "<matplotlib.axes._subplots.AxesSubplot at 0x1698245b908>"
      ]
     },
     "execution_count": 59,
     "metadata": {},
     "output_type": "execute_result"
    },
    {
     "data": {
      "image/png": "[encoded data removed]",
      "text/plain": [
       "<Figure size 432x288 with 1 Axes>"
      ]
     },
     "metadata": {
      "needs_background": "light"
     },
     "output_type": "display_data"
    }
   ],
   "source": [
    "importance.plot(kind='barh', x='Feature', y='Importance', title='Importance des features', xlim=(0, 0.25))"
   ]
  },
  {
   "cell_type": "code",
   "execution_count": 60,
   "metadata": {},
   "outputs": [
    {
     "data": {
      "text/plain": [
       "<matplotlib.axes._subplots.AxesSubplot at 0x16982c26648>"
      ]
     },
     "execution_count": 60,
     "metadata": {},
     "output_type": "execute_result"
    },
    {
     "data": {
      "image/png": "[encoded data removed]",
      "text/plain": [
       "<Figure size 432x288 with 1 Axes>"
      ]
     },
     "metadata": {
      "needs_background": "light"
     },
     "output_type": "display_data"
    }
   ],
   "source": [
    "accuracy.plot(kind='barh', x='Algorithm', y='Accuracy',\n",
    "              title=\"Précision d'algorithmes de classification (%)\", xlim=(0,100), xticks=np.arange(0, 101, step=5))"
   ]
  },
  {
   "cell_type": "markdown",
   "metadata": {},
   "source": [
    "## Matrices de confusion"
   ]
  },
  {
   "cell_type": "code",
   "execution_count": 61,
   "metadata": {},
   "outputs": [
    {
     "data": {
      "image/png": "[encoded data removed]",
      "text/plain": [
       "<Figure size 864x864 with 8 Axes>"
      ]
     },
     "metadata": {
      "needs_background": "light"
     },
     "output_type": "display_data"
    }
   ],
   "source": [
    "plt.figure(figsize=(12, 12))\n",
    "plt.subplot(221)\n",
    "plot_confusion_matrix(cm[0]['matrix'], classes=target_names, normalize=True, title=cm[0]['title'])\n",
    "plt.subplot(222)\n",
    "plot_confusion_matrix(cm[1]['matrix'], classes=target_names, normalize=True, title=cm[1]['title'])\n",
    "plt.subplot(223)\n",
    "plot_confusion_matrix(cm[2]['matrix'], classes=target_names, normalize=True, title=cm[2]['title'])\n",
    "plt.subplot(224)\n",
    "plot_confusion_matrix(cm[3]['matrix'], classes=target_names, normalize=True, title=cm[3]['title'])\n",
    "plt.show()"
   ]
  },
  {
   "cell_type": "markdown",
   "metadata": {},
   "source": [
    "## Conclusion"
   ]
  },
  {
   "cell_type": "markdown",
   "metadata": {},
   "source": [
    "On peut ainsi voir à travers notre bar chart et nos matrices de confusion que le classifier Random Forest est le classifier avec la meilleure précision.\n",
    "On utilisera donc ce classifier dans notre API REST avec Django à l'aide du modèle qu'on a enregistré dans un fichier.  \n",
    "On notera l'importance des features:\n",
    "- wrist_EDA: activité électrodermale\n",
    "- wrist_TEMP: température dermale\n",
    "- les valeurs de l'accéléromètre X,Y,Z de chest_ACC et wrist_ACC\n",
    "- weight: masse corporelle de l'individu\n",
    "- age: age de l'individu\n",
    "- height: taille de l'individu"
   ]
  }
 ],
 "metadata": {
  "kernelspec": {
   "display_name": "Python 3",
   "language": "python",
   "name": "python3"
  },
  "language_info": {
   "codemirror_mode": {
    "name": "ipython",
    "version": 3
   },
   "file_extension": ".py",
   "mimetype": "text/x-python",
   "name": "python",
   "nbconvert_exporter": "python",
   "pygments_lexer": "ipython3",
   "version": "3.7.4"
  }
 },
 "nbformat": 4,
 "nbformat_minor": 2
}
